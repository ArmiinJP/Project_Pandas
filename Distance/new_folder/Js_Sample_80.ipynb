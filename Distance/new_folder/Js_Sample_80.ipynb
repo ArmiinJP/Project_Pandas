{
 "cells": [
  {
   "cell_type": "code",
   "execution_count": 1,
   "id": "b5a261cf-5223-4f70-827e-31be4341b47a",
   "metadata": {},
   "outputs": [],
   "source": [
    "import warnings\n",
    "warnings.filterwarnings('ignore')"
   ]
  },
  {
   "cell_type": "code",
   "execution_count": 2,
   "id": "0e95f834-b6f4-4c10-818d-3b6322806f6f",
   "metadata": {},
   "outputs": [],
   "source": [
    "import pandas as pd\n",
    "import numpy as np\n",
    "import sklearn as sk\n",
    "import math"
   ]
  },
  {
   "cell_type": "code",
   "execution_count": 3,
   "id": "65682770-2499-4aa9-9f82-f7f9db999e95",
   "metadata": {},
   "outputs": [],
   "source": [
    "dist = pd.read_csv('../dist_data.csv', sep=';')"
   ]
  },
  {
   "cell_type": "code",
   "execution_count": 4,
   "id": "3a8cfa07-6a71-4b2c-89cc-2d8b28356122",
   "metadata": {},
   "outputs": [],
   "source": [
    "dist_clean = dist[dist['dist'] != \"[[], []]\"]"
   ]
  },
  {
   "cell_type": "code",
   "execution_count": 5,
   "id": "5cf057cf-652a-44d1-9a70-ef1cad0f05f0",
   "metadata": {},
   "outputs": [],
   "source": [
    "x = dist_clean.iloc[:1000, :-1].values\n",
    "y = dist_clean.iloc[:1000, 1].values"
   ]
  },
  {
   "cell_type": "code",
   "execution_count": 6,
   "id": "d1640004-950d-4e65-bca3-328047c43c7a",
   "metadata": {},
   "outputs": [],
   "source": [
    "from sklearn.model_selection import train_test_split\n",
    "x_train, x_test, y_train, y_test = train_test_split(x, y, test_size = 0.30)"
   ]
  },
  {
   "cell_type": "code",
   "execution_count": 7,
   "id": "e40cd4c7-12ae-41df-a54d-8a18539ec879",
   "metadata": {},
   "outputs": [],
   "source": [
    "def clean_sample(sample):\n",
    "    sample_list = sample[0].replace(', [', '; [').split(';')\n",
    "    sample_x = sample_list[0]\n",
    "    sample_Px = sample_list[1]\n",
    "\n",
    "    sample_x_list = []\n",
    "    sample_Px_list = []\n",
    "    \n",
    "    for x in sample_x.split(','):\n",
    "        sample_x_list.append(x.replace(' ', '').replace('[', '').replace(']', ''))\n",
    "    for Px in sample_Px.split(','):\n",
    "        sample_Px_list.append(Px.replace(' ', '').replace('[', '').replace(']', ''))\n",
    "\n",
    "    dict_sample = {}\n",
    "    for i in range(len(sample_x_list)):\n",
    "        dict_sample[sample_x_list[i]] = sample_Px_list[i]\n",
    "    return dict_sample\n",
    "\n",
    "\n",
    "\n",
    "# def all_keys_dataset1_exist_in_dataset2(dataset1, dataset2, threshold):\n",
    "#     count = 0\n",
    "#     total = len(dataset1.keys())\n",
    "#     for key in dataset1.keys():\n",
    "#         if dataset2.get(key) is None:\n",
    "#             pass\n",
    "#         else:\n",
    "#             count += 1\n",
    "\n",
    "#     if (count/total) * 100 >= float(threshold):\n",
    "#         #print(count, (count/total) * 100, float(threshold))\n",
    "#         return True\n",
    "#     else:\n",
    "#         return False\n",
    "\n",
    "\n",
    "def preprocess_distros(distro1, distro2):\n",
    "    all = []\n",
    "    for i, sample_x_test in enumerate(distro1): \n",
    "        distro1_with_all = []\n",
    "        for j, sample_x_train in enumerate(distro2):\n",
    "            distro1_with_all.append(aggregate_distro(clean_sample(sample_x_test), clean_sample(sample_x_train)))\n",
    "        all.append(distro1_with_all)\n",
    "    return all\n",
    "                \n",
    "def aggregate_distro(distro1, distro2):\n",
    "    xPQx_dict={}\n",
    "    for xd1, Pxd1 in distro1.items():\n",
    "        if xd1 == \"\" or Pxd1 == \"\":\n",
    "            continue\n",
    "        Pxd2 = distro2.get(xd1)\n",
    "        if Pxd2 is None:\n",
    "            Pxd2 = 0.0\n",
    "        xPQx_dict.update({xd1:[Pxd1, Pxd2]})\n",
    "                    \n",
    "    for xd2, Pxd2 in distro2.items():\n",
    "        if xd2 == \"\" or Pxd2 == \"\":\n",
    "            continue\n",
    "        Pxd1 = distro1.get(xd2)\n",
    "        if Pxd1 is None:\n",
    "            Pxd1 = 0.0\n",
    "            xPQx_dict.update({xd2:[0.0, Pxd2]})\n",
    "    \n",
    "    return xPQx_dict\n",
    "\n",
    "\n",
    "def js(dict_distro):\n",
    "    #dict_distro : {'443': [P443, Q443], '22': [P22, Q22]}\n",
    "    PMQx_list = []\n",
    "    for i in dict_distro.values():\n",
    "        Mx = (float(i[0]) + float(i[1]))/2\n",
    "        PMQx_list.append([float(i[0]), Mx, float(i[1])])\n",
    "\n",
    "    PM_list = []\n",
    "    QM_list = []\n",
    "    for i in PMQx_list:\n",
    "        PM_list.append([i[0], i[1]])\n",
    "        QM_list.append([i[2], i[1]])\n",
    "\n",
    "    sum1 = kl(PM_list)\n",
    "    sum2 = kl(QM_list)\n",
    "\n",
    "    return (sum1 + sum2)/2\n",
    "\n",
    "\n",
    "def kl(PQx_list):\n",
    "    sum = 0 \n",
    "    for i in PQx_list:\n",
    "        Pi = i[0]\n",
    "        Qi = i[1]\n",
    "        if float(Pi) == 0.0:\n",
    "            sum += 0.0\n",
    "            continue\n",
    "        sum += float(Pi) * math.log2(float(Pi) / float(Qi))\n",
    "        \n",
    "    return sum"
   ]
  },
  {
   "cell_type": "code",
   "execution_count": 8,
   "id": "ca98c1b0-2b7d-42bd-bf27-91bcd494df83",
   "metadata": {},
   "outputs": [],
   "source": [
    "def Predict(label_distance, threshold):\n",
    "    y_pred = []\n",
    "    for i in range(len(final_distro)):\n",
    "        t = pd.DataFrame(label_distance[i], columns=['Label', 'Kl Result'])\n",
    "        tmp = t[t['Kl Result'] < threshold]\n",
    "        grouped_df = tmp.groupby(['Label']).size().reset_index(name='Count')\n",
    "        sorted_df = grouped_df.sort_values(by=['Count'], ascending=False)\n",
    "        if tmp.values.size == 0:\n",
    "            y_pred.append(0)\n",
    "        else:\n",
    "            y_pred.append(sorted_df.head(1)['Label'].values[0])\n",
    "    return y_pred"
   ]
  },
  {
   "cell_type": "code",
   "execution_count": 9,
   "id": "f63cf179-8ab1-40ac-9057-7bdb7cbc8532",
   "metadata": {
    "scrolled": true
   },
   "outputs": [],
   "source": [
    "# def diffrence_pred_test(y_pred, y_test):\n",
    "#     test = []\n",
    "#     count = 0\n",
    "#     for i, value1 in enumerate(y_pred):\n",
    "#         if value1 != y_test[i]:\n",
    "#             test.append([i, value1, y_test[i]])\n",
    "#             count+=1\n",
    "    \n",
    "#     return pd.DataFrame(test, columns=['index', 'y_pred', 'y_test'])"
   ]
  },
  {
   "cell_type": "code",
   "execution_count": 10,
   "id": "d9a8fb47-c84f-456d-9235-76d0d6d6404d",
   "metadata": {},
   "outputs": [],
   "source": [
    "# def other_percent_similarity():\n",
    "#     final_result = []\n",
    "#     for i in range(1, 101): # one or zero\n",
    "#         final_result.append(calculate_distance(js, i))\n",
    "#         print(i,end=\"  \")\n",
    "#     return final_result"
   ]
  },
  {
   "cell_type": "code",
   "execution_count": null,
   "id": "0c22bbc1-7aa6-4a7a-84bf-8acd0ebd1398",
   "metadata": {
    "scrolled": true
   },
   "outputs": [],
   "source": [
    "distro1 = x_test\n",
    "distro1_label = y_test\n",
    "distro2 = x_train\n",
    "distro2_label = y_train\n",
    "\n",
    "final_distro = preprocess_distros(distro1, distro2)\n",
    "\n",
    "label_distance = []\n",
    "for dis in final_distro:\n",
    "    label_pre_distro = []\n",
    "    for j, dis2 in enumerate(dis):\n",
    "        label_pre_distro.append([distro2_label[j], js(dis2)])\n",
    "    label_distance.append(label_pre_distro)\n"
   ]
  },
  {
   "cell_type": "code",
   "execution_count": null,
   "id": "f59cbd91-8aa0-49a9-ae97-cb1bf5720fb6",
   "metadata": {},
   "outputs": [],
   "source": [
    "from sklearn.metrics import classification_report, confusion_matrix, accuracy_score, f1_score\n",
    "\n",
    "prediction = {}\n",
    "for i in np.arange(0.70, 0.99, 0.01):\n",
    "    y_pred = Predict(label_distance, i)\n",
    "    res1 = accuracy_score(y_test,y_pred)\n",
    "    res2 = f1_score(y_test, y_pred, average=\"weighted\")\n",
    "    res3 = f1_score(y_test, y_pred, average=\"micro\")\n",
    "    res4 = f1_score(y_test, y_pred, average=\"macro\")\n",
    "    prediction[round(i,2)] = [res1, res2, res3, res4]\n"
   ]
  },
  {
   "cell_type": "code",
   "execution_count": null,
   "id": "b6c568a8-1295-43c7-bd1f-a30fa5a3fa3a",
   "metadata": {},
   "outputs": [],
   "source": [
    "import seaborn as sns\n",
    "import matplotlib.pyplot as plt\n",
    "\n",
    "data = pd.DataFrame.from_dict(prediction, orient='index', columns=['Accuracy', 'F1_weighted', 'F1_micro', 'F1_macro'])\n",
    "\n",
    "#print(data['Accuracy'])\n",
    "#sns.histplot(data=data['Accuracy'], x='Accuracy', kde=True, stat='count')\n",
    "#sns.histplot(data=data, x='Accuracy', kde=True, stat='')\n",
    "\n",
    "#sns.barplot(x=data['Accuracy'].index, y=data['Accuracy'].values)\n",
    "#sns.histplot( x=data['Accuracy'].index, y=data['Accuracy'].values,kde=True)"
   ]
  },
  {
   "cell_type": "code",
   "execution_count": null,
   "id": "8a428a6b-ae53-4dc4-85e6-aff14fb0accb",
   "metadata": {},
   "outputs": [],
   "source": [
    "sns.barplot(x=x_column, y='Accuracy', data=data)"
   ]
  }
 ],
 "metadata": {
  "kernelspec": {
   "display_name": "Python 3 (ipykernel)",
   "language": "python",
   "name": "python3"
  },
  "language_info": {
   "codemirror_mode": {
    "name": "ipython",
    "version": 3
   },
   "file_extension": ".py",
   "mimetype": "text/x-python",
   "name": "python",
   "nbconvert_exporter": "python",
   "pygments_lexer": "ipython3",
   "version": "3.8.10"
  }
 },
 "nbformat": 4,
 "nbformat_minor": 5
}
