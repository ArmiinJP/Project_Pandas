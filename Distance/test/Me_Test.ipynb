{
 "cells": [
  {
   "cell_type": "code",
   "execution_count": 8,
   "id": "0e95f834-b6f4-4c10-818d-3b6322806f6f",
   "metadata": {},
   "outputs": [],
   "source": [
    "import pandas as pd\n",
    "import numpy as np\n",
    "import sklearn as sk\n",
    "import math"
   ]
  },
  {
   "cell_type": "code",
   "execution_count": 9,
   "id": "65682770-2499-4aa9-9f82-f7f9db999e95",
   "metadata": {},
   "outputs": [],
   "source": [
    "dist = pd.read_csv('dist_data.csv', sep=';')"
   ]
  },
  {
   "cell_type": "code",
   "execution_count": 217,
   "id": "3a8cfa07-6a71-4b2c-89cc-2d8b28356122",
   "metadata": {},
   "outputs": [],
   "source": [
    "dist_clean = dist[dist['dist'] != \"[[], []]\"]"
   ]
  },
  {
   "cell_type": "code",
   "execution_count": 218,
   "id": "5cf057cf-652a-44d1-9a70-ef1cad0f05f0",
   "metadata": {},
   "outputs": [],
   "source": [
    "x = dist_clean.iloc[:, :-1].values\n",
    "y = dist_clean.iloc[:, 1].values"
   ]
  },
  {
   "cell_type": "code",
   "execution_count": 219,
   "id": "d1640004-950d-4e65-bca3-328047c43c7a",
   "metadata": {
    "jupyter": {
     "source_hidden": true
    }
   },
   "outputs": [],
   "source": [
    "from sklearn.model_selection import train_test_split\n",
    "x_train, x_test, y_train, y_test = train_test_split(x, y, test_size = 0.30)"
   ]
  },
  {
   "cell_type": "code",
   "execution_count": 220,
   "id": "e40cd4c7-12ae-41df-a54d-8a18539ec879",
   "metadata": {
    "jupyter": {
     "source_hidden": true
    }
   },
   "outputs": [],
   "source": [
    "def clean_sample(sample):\n",
    "    sample_list = sample[0].replace(', [', '; [').split(';')\n",
    "    sample_x = sample_list[0]\n",
    "    sample_Px = sample_list[1]\n",
    "\n",
    "    sample_x_list = []\n",
    "    sample_Px_list = []\n",
    "    \n",
    "    for x in sample_x.split(','):\n",
    "        sample_x_list.append(x.replace(' ', '').replace('[', '').replace(']', ''))\n",
    "    for Px in sample_Px.split(','):\n",
    "        sample_Px_list.append(Px.replace(' ', '').replace('[', '').replace(']', ''))\n",
    "\n",
    "    dict_sample = {}\n",
    "    for i in range(len(sample_x_list)):\n",
    "        dict_sample[sample_x_list[i]] = sample_Px_list[i]\n",
    "    return dict_sample"
   ]
  },
  {
   "cell_type": "code",
   "execution_count": 221,
   "id": "f8494591-0ad1-4c0b-a29b-f8b7ea40f8fd",
   "metadata": {
    "jupyter": {
     "source_hidden": true
    }
   },
   "outputs": [],
   "source": [
    "def all_keys_dataset1_exist_in_dataset2(dataset1, dataset2):\n",
    "    count = 0\n",
    "    total = len(dataset1.keys())\n",
    "    for key in dataset1.keys():\n",
    "        if dataset2.get(key) is None:\n",
    "            pass\n",
    "        else:\n",
    "            count += 1\n",
    "\n",
    "    return count/total"
   ]
  },
  {
   "cell_type": "code",
   "execution_count": 223,
   "id": "72a818d3-064d-4395-b7ff-7fb7327e6663",
   "metadata": {
    "scrolled": true
   },
   "outputs": [
    {
     "name": "stdout",
     "output_type": "stream",
     "text": [
      "0.29838709677419356 27321 27321\n"
     ]
    }
   ],
   "source": [
    "# final1, final2 = {}, {}\n",
    "# for i, test_value in enumerate(x_test):\n",
    "#     for j, train_value in enumerate(x_train):\n",
    "#         dataset1 = clean_sample(test_value)\n",
    "#         dataset2 = clean_sample(train_value) \n",
    "#         value = all_keys_dataset1_exist_in_dataset2(dataset1, dataset2)\n",
    "#         if value != 0.0:\n",
    "#             final1.update(dataset1)\n",
    "#             final2.update(dataset2)\n",
    "#             print(value, y_train[j], y_test[i])\n",
    "#         if len(final2) > 0:\n",
    "#             break\n",
    "#     break"
   ]
  },
  {
   "cell_type": "code",
   "execution_count": 225,
   "id": "3a70d265-b3e9-4f95-a236-de00a7372925",
   "metadata": {},
   "outputs": [
    {
     "name": "stdout",
     "output_type": "stream",
     "text": [
      "معیار شباهت کولموگروف-سمیرنوف: 0.34465195246179964\n",
      "p-value: 0.0013663862001737925\n"
     ]
    }
   ],
   "source": [
    "# from scipy import stats\n",
    "\n",
    "# data1 = [float(value) for value in final1.values()]\n",
    "# data2 = [float(value) for value in final2.values()]\n",
    "\n",
    "# # محاسبه معیار شباهت کولموگروف-سمیرنوف\n",
    "# statistic, p_value = stats.ks_2samp(data1, data2)\n",
    "\n",
    "# # چاپ شباهت و p-value\n",
    "# print(\"معیار شباهت کولموگروف-سمیرنوف:\", statistic)\n",
    "# print(\"p-value:\", p_value)"
   ]
  },
  {
   "cell_type": "code",
   "execution_count": 158,
   "id": "8d9b7f81-375e-4423-ac1f-24bd6ce52e66",
   "metadata": {
    "jupyter": {
     "source_hidden": true
    }
   },
   "outputs": [],
   "source": [
    "def CaculateEx(finall):\n",
    "    E = 0\n",
    "    for x, Px in finall.items():\n",
    "        E += (int(x) * float(Px))\n",
    "    return E"
   ]
  },
  {
   "cell_type": "code",
   "execution_count": 159,
   "id": "2d6a189f-0b32-41a5-8148-9be7ab9a3c89",
   "metadata": {
    "jupyter": {
     "source_hidden": true
    }
   },
   "outputs": [],
   "source": [
    "def CaculateEx2(finall):\n",
    "    E = 0\n",
    "    for x, Px in final1.items():\n",
    "        E += ((int(x)**2) * float(Px))\n",
    "    return E"
   ]
  },
  {
   "cell_type": "code",
   "execution_count": 160,
   "id": "102fb510-1e65-4ae0-a52d-cfe7d698e48c",
   "metadata": {
    "collapsed": true,
    "jupyter": {
     "outputs_hidden": true,
     "source_hidden": true
    }
   },
   "outputs": [
    {
     "name": "stdout",
     "output_type": "stream",
     "text": [
      "239.69171691506688\n",
      "15630.03419363291\n",
      "412573781.6868164\n",
      "168333264.9118401\n",
      "20311.912309943058\n",
      "12974.331000550283\n"
     ]
    }
   ],
   "source": [
    "print(CaculateEx(final2))\n",
    "print(CaculateEx(final1))\n",
    "print(CaculateEx2(final2) - (CaculateEx(final2)**2))\n",
    "print(CaculateEx2(final1) - (CaculateEx(final1)**2))\n",
    "print(math.sqrt(CaculateEx2(final2) - (CaculateEx(final2)**2)))\n",
    "print(math.sqrt(CaculateEx2(final1) - (CaculateEx(final1)**2)))\n"
   ]
  },
  {
   "cell_type": "code",
   "execution_count": 161,
   "id": "02d005d5-5803-4bae-998e-1debc39ac3ad",
   "metadata": {},
   "outputs": [
    {
     "name": "stdout",
     "output_type": "stream",
     "text": [
      "nan\n",
      "5.128273492912646e-06\n"
     ]
    }
   ],
   "source": [
    "# import numpy as np\n",
    "# from scipy.stats import wasserstein_distance\n",
    "\n",
    "# # دو توزیع را به شکل لیست مقدارها تعریف کنید\n",
    "# dist1 = [1.1289757202627561e-05]\n",
    "# dist2 = [6.161483709714915e-06]\n",
    "# # تبدیل لیست های مقدارها به numpy arrays\n",
    "# dist1 = np.array(dist1)\n",
    "# dist2 = np.array(dist2)\n",
    "\n",
    "# # محاسبه معیار همبستگی کرونباکر بین دو توزیع\n",
    "# correlation = np.corrcoef(dist1, dist2)[0, 1]\n",
    "\n",
    "# # محاسبه فاصله ی واسرشتاین بین دو توزیع\n",
    "# wasserstein_distance = wasserstein_distance(dist1, dist2)\n",
    "\n",
    "# print(correlation)\n",
    "# print(wasserstein_distance)"
   ]
  },
  {
   "cell_type": "code",
   "execution_count": null,
   "id": "cfc4e7b8-b860-4dc2-a692-697f121de47a",
   "metadata": {
    "scrolled": true
   },
   "outputs": [],
   "source": [
    "def calculate_distance(distance_func, min_precent_similarity):\n",
    "    # count = 0\n",
    "    result = []\n",
    "    for i, sample_x_test in enumerate(x_test): \n",
    "        result_zikma = []\n",
    "    \n",
    "        for j, sample_x_train in enumerate(x_train):\n",
    "            clean_sample(sample_x_test)\n",
    "            clean_sample(sample_x_train)\n",
    "            if all_keys_dataset1_exist_in_dataset2(clean_sample(sample_x_test), clean_sample(sample_x_train), min_precent_similarity):\n",
    "                Px_list = []\n",
    "                for xd1, Pxd1 in clean_sample(sample_x_test).items():\n",
    "                    if xd1 == \"\" or Pxd1 == \"\":\n",
    "                        continue\n",
    "                    Pxd2 = clean_sample(sample_x_train).get(xd1)\n",
    "                    if Pxd2 is None:\n",
    "                        return False\n",
    "                    #print(xd1, Pxd1, Pxd2)\n",
    "                    Px_list.append([Pxd1, Pxd2])\n",
    "\n",
    "                \n",
    "                sum = distance_func(Px_list)\n",
    "                result_zikma.append([y_train[j], sum])\n",
    "                #print(Px_list, sum)\n",
    "                \n",
    "            else:\n",
    "                continue\n",
    "        \n",
    "        result.append([sample_x_test ,result_zikma])\n",
    "        \n",
    "        # count += 1\n",
    "        # if count > 10:\n",
    "        #     break\n",
    "    \n",
    "    return result"
   ]
  },
  {
   "cell_type": "code",
   "execution_count": null,
   "id": "339bf2ef-4886-4030-9673-7b14be0d4594",
   "metadata": {
    "jupyter": {
     "source_hidden": true
    }
   },
   "outputs": [],
   "source": [
    "def js(Px_list):\n",
    "    for i in Px_list:\n",
    "        Mx = (float(i[0]) + float(i[1]))/2\n",
    "        i.append(Mx)\n",
    "\n",
    "    PM_list = []\n",
    "    QM_list = []\n",
    "    for i in Px_list:\n",
    "        PM_list.append([i[0], i[2]])\n",
    "        QM_list.append([i[1], i[2]])\n",
    "\n",
    "    sum1 = kl(PM_list)\n",
    "    sum2 = kl(QM_list)\n",
    "\n",
    "    return (sum1 + sum2)/2"
   ]
  },
  {
   "cell_type": "code",
   "execution_count": null,
   "id": "9a2a6bdc-c54b-4de6-95d8-68fef469836f",
   "metadata": {
    "jupyter": {
     "source_hidden": true
    }
   },
   "outputs": [],
   "source": [
    "def kl(Px_list):\n",
    "    sum = 0 \n",
    "    for i in Px_list:\n",
    "        Pxd1 = i[0]\n",
    "        Pxd2 = i[1]\n",
    "        sum += float(Pxd1) * math.log10(float(Pxd1) / float(Pxd2))\n",
    "    return sum"
   ]
  },
  {
   "cell_type": "code",
   "execution_count": null,
   "id": "3d5467de-3f55-4faa-a7cd-e9c972a33e4c",
   "metadata": {
    "jupyter": {
     "source_hidden": true
    }
   },
   "outputs": [],
   "source": [
    "# def Predict_test1(all_distance_label, threshold):\n",
    "    # #using max\n",
    "    # y_pred = []\n",
    "    # for i in range(len(x_test)):\n",
    "    #     t = pd.DataFrame(final_result[i][1], columns=['Label', 'Kl Result'])\n",
    "    #     bests = t.value_counts()\n",
    "    #     if bests.size == 0:\n",
    "    #         y_pred.append(0)\n",
    "    #     else:\n",
    "    #         y_pred.append(bests.head(1).index[0][0])\n",
    "    # return y_pred\n",
    "\n",
    "# def Predict_test2(all_distance_label, threshold):\n",
    "    # #using sort\n",
    "    # y_pred = []\n",
    "    # for i in range(len(x_test)):\n",
    "    #     t = pd.DataFrame(final_result[i][1], columns=['Label', 'Kl Result'])\n",
    "    #     grouped_df = t.groupby(['Label', 'Kl Result']).size().reset_index(name='Count')\n",
    "    #     sorted_df = grouped_df.sort_values(by=['Count', 'Kl Result'], ascending=[False, True])\n",
    "    #     if t.values.size == 0:\n",
    "    #         y_pred.append(0)\n",
    "    #     else:\n",
    "    #         y_pred.append(sorted_df.head(1)['Label'].values[0])\n",
    "    # return y_pred    "
   ]
  },
  {
   "cell_type": "code",
   "execution_count": null,
   "id": "ca98c1b0-2b7d-42bd-bf27-91bcd494df83",
   "metadata": {
    "jupyter": {
     "source_hidden": true
    }
   },
   "outputs": [],
   "source": [
    "def Predict(all_distance_label, threshold):\n",
    "    y_pred = []\n",
    "    for i in range(len(x_test)):\n",
    "        t = pd.DataFrame(all_distance_label[i][1], columns=['Label', 'Kl Result'])\n",
    "        tmp = t[t['Kl Result'] < threshold] #0.99 - 1.01\n",
    "        grouped_df = tmp.groupby(['Label']).size().reset_index(name='Count')\n",
    "        sorted_df = grouped_df.sort_values(by=['Count'], ascending=False)\n",
    "        \n",
    "        if tmp.values.size == 0:\n",
    "            y_pred.append(0)\n",
    "        else:\n",
    "            y_pred.append(sorted_df.head(1)['Label'].values[0])\n",
    "    return y_pred"
   ]
  },
  {
   "cell_type": "code",
   "execution_count": null,
   "id": "f63cf179-8ab1-40ac-9057-7bdb7cbc8532",
   "metadata": {
    "jupyter": {
     "source_hidden": true
    },
    "scrolled": true
   },
   "outputs": [],
   "source": [
    "def diffrence_pred_test(y_pred, y_test):\n",
    "    test = []\n",
    "    count = 0\n",
    "    for i, value1 in enumerate(y_pred):\n",
    "        if value1 != y_test[i]:\n",
    "            test.append([i, value1, y_test[i]])\n",
    "            count+=1\n",
    "    \n",
    "    return pd.DataFrame(test, columns=['index', 'y_pred', 'y_test'])"
   ]
  },
  {
   "cell_type": "code",
   "execution_count": null,
   "id": "d9a8fb47-c84f-456d-9235-76d0d6d6404d",
   "metadata": {
    "jupyter": {
     "source_hidden": true
    }
   },
   "outputs": [],
   "source": [
    "# def other_percent_similarity():\n",
    "    # result = []\n",
    "    # for i in range(1, 100): # one or zero\n",
    "    #     result.append(calculate_distance(kl, i))\n",
    "    # return result"
   ]
  },
  {
   "cell_type": "code",
   "execution_count": null,
   "id": "0c22bbc1-7aa6-4a7a-84bf-8acd0ebd1398",
   "metadata": {
    "scrolled": true
   },
   "outputs": [],
   "source": [
    "#final_result_kl = calculate_distance(kl, 100)"
   ]
  },
  {
   "cell_type": "code",
   "execution_count": null,
   "id": "50e3420c-3b6f-47ce-9518-b667af527611",
   "metadata": {},
   "outputs": [],
   "source": [
    "y_pred_kl = Predict(final_result_kl, 1.01) #good threshold 0.99 - 1.01"
   ]
  },
  {
   "cell_type": "code",
   "execution_count": null,
   "id": "8732d436-08c5-44b3-b803-d80b961ead94",
   "metadata": {
    "scrolled": true
   },
   "outputs": [],
   "source": [
    "diffrence_pred_test(y_pred_kl, y_test)"
   ]
  },
  {
   "cell_type": "code",
   "execution_count": null,
   "id": "f59cbd91-8aa0-49a9-ae97-cb1bf5720fb6",
   "metadata": {
    "jupyter": {
     "source_hidden": true
    },
    "scrolled": true
   },
   "outputs": [],
   "source": [
    "from sklearn.metrics import classification_report, confusion_matrix, accuracy_score\n",
    "res0 = confusion_matrix(y_test, y_pred_kl)\n",
    "print(\"Confusion Matrix:\")\n",
    "print(res0)\n",
    "res01 = classification_report(y_test, y_pred_kl)\n",
    "print(\"Classification Report:\",)\n",
    "print (res01)\n",
    "res02 = accuracy_score(y_test,y_pred_kl)\n",
    "print(\"Accuracy:\",res02)"
   ]
  },
  {
   "cell_type": "code",
   "execution_count": null,
   "id": "8276059c-a3a7-429d-a146-78cf62663619",
   "metadata": {},
   "outputs": [],
   "source": [
    "#final_result_js = calculate_distance(js, 100)"
   ]
  },
  {
   "cell_type": "code",
   "execution_count": null,
   "id": "ecc6612a-ca58-4b06-9a38-b9c949882f2e",
   "metadata": {},
   "outputs": [],
   "source": [
    "y_pred_js = Predict(final_result_js, 0.093) #good threshold 0.99 - 1.01"
   ]
  },
  {
   "cell_type": "code",
   "execution_count": null,
   "id": "ee9bf22d-90cd-4614-a964-3138e90a2db4",
   "metadata": {
    "scrolled": true
   },
   "outputs": [],
   "source": [
    "diffrence_pred_test(y_pred_js, y_test)"
   ]
  },
  {
   "cell_type": "code",
   "execution_count": null,
   "id": "59ab908e-4bad-410d-92f1-cf40ca8b81bc",
   "metadata": {
    "jupyter": {
     "source_hidden": true
    },
    "scrolled": true
   },
   "outputs": [],
   "source": [
    "from sklearn.metrics import classification_report, confusion_matrix, accuracy_score\n",
    "res1 = confusion_matrix(y_test, y_pred_js)\n",
    "print(\"Confusion Matrix:\")\n",
    "print(res1)\n",
    "res11 = classification_report(y_test, y_pred_js)\n",
    "print(\"Classification Report:\",)\n",
    "print (res11)\n",
    "res12 = accuracy_score(y_test,y_pred_js)\n",
    "print(\"Accuracy:\",res12)"
   ]
  }
 ],
 "metadata": {
  "kernelspec": {
   "display_name": "Python 3 (ipykernel)",
   "language": "python",
   "name": "python3"
  },
  "language_info": {
   "codemirror_mode": {
    "name": "ipython",
    "version": 3
   },
   "file_extension": ".py",
   "mimetype": "text/x-python",
   "name": "python",
   "nbconvert_exporter": "python",
   "pygments_lexer": "ipython3",
   "version": "3.8.10"
  }
 },
 "nbformat": 4,
 "nbformat_minor": 5
}
