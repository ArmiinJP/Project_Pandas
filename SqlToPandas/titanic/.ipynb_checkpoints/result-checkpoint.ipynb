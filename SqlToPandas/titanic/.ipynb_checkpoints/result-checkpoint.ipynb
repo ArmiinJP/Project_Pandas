{
 "cells": [
  {
   "cell_type": "code",
   "execution_count": 89,
   "id": "0827aa12-dddf-4282-b5ac-1f2803b8f60e",
   "metadata": {},
   "outputs": [],
   "source": [
    "import pandas as pd\n",
    "import numpy as np"
   ]
  },
  {
   "cell_type": "code",
   "execution_count": 41,
   "id": "ba17487c-0d52-4867-9f3d-800a1d00e028",
   "metadata": {},
   "outputs": [],
   "source": [
    "titanic = pd.read_csv('train.csv')\n",
    "t = titanic.set_index(['PassengerId'])\n",
    "pd.set_option('display.max_rows', None)"
   ]
  },
  {
   "cell_type": "code",
   "execution_count": 42,
   "id": "b812b360-9675-466b-9a4f-be29d39218d5",
   "metadata": {},
   "outputs": [],
   "source": [
    "result = pd.DataFrame(index=t.columns, columns=t.columns)"
   ]
  },
  {
   "cell_type": "code",
   "execution_count": 43,
   "id": "0e131f64-1b99-4040-8ce2-47fb2585134e",
   "metadata": {},
   "outputs": [],
   "source": [
    "# outer_column = 'Survived'\n",
    "# ff = t[t[outer_column].duplicated(keep=False)][outer_column].value_counts()\n",
    "# for column in t.columns:\n",
    "#     sum = 0\n",
    "#     if column in ['Name', outer_column]:\n",
    "#         continue\n",
    "#     for i in ff.items():\n",
    "#         percent = round(t[t[outer_column] == i[0]].fillna(-1)[column].value_counts(normalize=True)*100, 2).max()\n",
    "#         column_value = t[t[outer_column] == i[0]].fillna(-1)[column].value_counts().sort_values(ascending=False).head(1).index[0]\n",
    "#         sum += i[1] * percent\n",
    "#     result[outer_column][column] = round(sum / ff.sum(), 2)\n",
    "\n",
    "# result.dropna(axis='columns', how='all').sort_values(by='Survived')"
   ]
  },
  {
   "cell_type": "code",
   "execution_count": 47,
   "id": "b0f2db69-a32d-4ede-bae0-f3b0705aa49b",
   "metadata": {},
   "outputs": [
    {
     "data": {
      "text/html": [
       "<div>\n",
       "<style scoped>\n",
       "    .dataframe tbody tr th:only-of-type {\n",
       "        vertical-align: middle;\n",
       "    }\n",
       "\n",
       "    .dataframe tbody tr th {\n",
       "        vertical-align: top;\n",
       "    }\n",
       "\n",
       "    .dataframe thead th {\n",
       "        text-align: right;\n",
       "    }\n",
       "</style>\n",
       "<table border=\"1\" class=\"dataframe\">\n",
       "  <thead>\n",
       "    <tr style=\"text-align: right;\">\n",
       "      <th></th>\n",
       "      <th>Survived</th>\n",
       "    </tr>\n",
       "  </thead>\n",
       "  <tbody>\n",
       "    <tr>\n",
       "      <th>Ticket</th>\n",
       "      <td>84.88</td>\n",
       "    </tr>\n",
       "    <tr>\n",
       "      <th>Cabin</th>\n",
       "      <td>82.52</td>\n",
       "    </tr>\n",
       "    <tr>\n",
       "      <th>Sex</th>\n",
       "      <td>78.67</td>\n",
       "    </tr>\n",
       "    <tr>\n",
       "      <th>Fare</th>\n",
       "      <td>77.96</td>\n",
       "    </tr>\n",
       "    <tr>\n",
       "      <th>Pclass</th>\n",
       "      <td>67.9</td>\n",
       "    </tr>\n",
       "    <tr>\n",
       "      <th>Age</th>\n",
       "      <td>65.19</td>\n",
       "    </tr>\n",
       "    <tr>\n",
       "      <th>Embarked</th>\n",
       "      <td>63.78</td>\n",
       "    </tr>\n",
       "    <tr>\n",
       "      <th>SibSp</th>\n",
       "      <td>63.3</td>\n",
       "    </tr>\n",
       "    <tr>\n",
       "      <th>Parch</th>\n",
       "      <td>63.03</td>\n",
       "    </tr>\n",
       "  </tbody>\n",
       "</table>\n",
       "</div>"
      ],
      "text/plain": [
       "         Survived\n",
       "Ticket      84.88\n",
       "Cabin       82.52\n",
       "Sex         78.67\n",
       "Fare        77.96\n",
       "Pclass       67.9\n",
       "Age         65.19\n",
       "Embarked    63.78\n",
       "SibSp        63.3\n",
       "Parch       63.03"
      ]
     },
     "execution_count": 47,
     "metadata": {},
     "output_type": "execute_result"
    }
   ],
   "source": [
    "for outer_column in t.columns:\n",
    "    sum = 0\n",
    "    if outer_column in ['Name', 'Survived']:\n",
    "        continue\n",
    "    ff = t[t[outer_column].duplicated(keep=False)][outer_column].value_counts()\n",
    "    for i in ff.items():\n",
    "        percent = round(t[t[outer_column] == i[0]].fillna(-1)['Survived'].value_counts(normalize=True)*100, 2).max()\n",
    "        column_value = t[t[outer_column] == i[0]].fillna(-1)['Survived'].value_counts().sort_values(ascending=False).head(1).index[0]\n",
    "        sum += i[1] * percent\n",
    "    result['Survived'][outer_column] = round(sum / ff.sum(), 2)\n",
    "\n",
    "t_result = result.dropna(axis='columns', how='all').dropna(axis='index', how='all').sort_values(by='Survived', ascending=False)\n",
    "t_result"
   ]
  },
  {
   "cell_type": "code",
   "execution_count": 79,
   "id": "36e404ca-8ddb-45c1-a3a1-65e78af57777",
   "metadata": {},
   "outputs": [],
   "source": [
    "dataset = pd.read_csv('test.csv')\n",
    "dataset.head()\n",
    "\n",
    "dataset2 = pd.read_csv('gender_submission.csv')\n",
    "dataset2.head(), dataset.head()\n",
    "\n",
    "dataset_final = dataset.merge(dataset2, on='PassengerId')\n",
    "\n",
    "x = dataset_final.iloc[:, :-1].values\n",
    "y = dataset_final.iloc[:, 11].values\n",
    "\n",
    "# from sklearn.model_selection import train_test_split\n",
    "# x_train, x_test, y_train, y_test = train_test_split(x, y, test_size = 0.30)\n",
    "# print(x_train, end=\"\\n\\n\\n\\n\")\n",
    "# print(x_test, end=\"\\n\\n\\n\\n\")\n",
    "# print(y_train, end=\"\\n\\n\\n\\n\")\n",
    "# print(y_test, end=\"\\n\\n\\n\\n\")"
   ]
  },
  {
   "cell_type": "code",
   "execution_count": 106,
   "id": "b7ee481e-4691-40d6-902e-2c1dfa77571c",
   "metadata": {},
   "outputs": [
    {
     "ename": "AttributeError",
     "evalue": "'numpy.ndarray' object has no attribute 'columns'",
     "output_type": "error",
     "traceback": [
      "\u001b[0;31m---------------------------------------------------------------------------\u001b[0m",
      "\u001b[0;31mAttributeError\u001b[0m                            Traceback (most recent call last)",
      "Cell \u001b[0;32mIn[106], line 1\u001b[0m\n\u001b[0;32m----> 1\u001b[0m \u001b[43mx\u001b[49m\u001b[38;5;241;43m.\u001b[39;49m\u001b[43mcolumns\u001b[49m\n",
      "\u001b[0;31mAttributeError\u001b[0m: 'numpy.ndarray' object has no attribute 'columns'"
     ]
    }
   ],
   "source": [
    "x"
   ]
  },
  {
   "cell_type": "code",
   "execution_count": 130,
   "id": "68e3399c-a10c-4557-b343-448f97715340",
   "metadata": {
    "scrolled": true
   },
   "outputs": [
    {
     "ename": "NameError",
     "evalue": "name 'reponse' is not defined",
     "output_type": "error",
     "traceback": [
      "\u001b[0;31m---------------------------------------------------------------------------\u001b[0m",
      "\u001b[0;31mNameError\u001b[0m                                 Traceback (most recent call last)",
      "Cell \u001b[0;32mIn[130], line 37\u001b[0m\n\u001b[1;32m     31\u001b[0m         result\u001b[38;5;241m.\u001b[39mappend(response[\u001b[38;5;241m2\u001b[39m])\n\u001b[1;32m     33\u001b[0m     \u001b[38;5;28;01mreturn\u001b[39;00m result\n\u001b[0;32m---> 37\u001b[0m \u001b[43mfirst_model\u001b[49m\u001b[43m(\u001b[49m\u001b[43mx\u001b[49m\u001b[43m)\u001b[49m\n",
      "Cell \u001b[0;32mIn[130], line 30\u001b[0m, in \u001b[0;36mfirst_model\u001b[0;34m(x)\u001b[0m\n\u001b[1;32m     27\u001b[0m \u001b[38;5;28;01mfor\u001b[39;00m entry \u001b[38;5;129;01min\u001b[39;00m entries:\n\u001b[1;32m     28\u001b[0m     response\u001b[38;5;241m.\u001b[39mappend(search(entry))\n\u001b[0;32m---> 30\u001b[0m \u001b[38;5;28;01mfor\u001b[39;00m i \u001b[38;5;129;01min\u001b[39;00m \u001b[43mreponse\u001b[49m:\n\u001b[1;32m     31\u001b[0m     result\u001b[38;5;241m.\u001b[39mappend(response[\u001b[38;5;241m2\u001b[39m])\n\u001b[1;32m     33\u001b[0m \u001b[38;5;28;01mreturn\u001b[39;00m result\n",
      "\u001b[0;31mNameError\u001b[0m: name 'reponse' is not defined"
     ]
    }
   ],
   "source": [
    "def search(entry):\n",
    "    for column in t_result.index:\n",
    "        for value in t[column]:\n",
    "            if value == entry[column]:\n",
    "                percent = round(t[t[column] == value].fillna(-1)['Survived'].value_counts(normalize=True)*100, 2).max()\n",
    "                column_value = t[t[column] == value].fillna(-1)['Survived'].value_counts().sort_values(ascending=False).head(1).index[0]\n",
    "                return column, percent, column_value\n",
    "\n",
    "def first_model(x):\n",
    "    entries = []\n",
    "    for entry in x:\n",
    "        entries.append({\n",
    "            'Pclass': entry[1],\n",
    "            'Name': entry[2],\n",
    "            'Sex': entry[3],\n",
    "            'Age': entry[4],\n",
    "            'SibSp': entry[5],\n",
    "            'Parch': entry[6],\n",
    "            'Ticket': entry[7],\n",
    "            'Fare': entry[8],\n",
    "            'Cabin': entry[9],\n",
    "            'Embarked': entry[10]\n",
    "        })\n",
    "\n",
    "    response = []\n",
    "    result = []\n",
    "    for entry in entries:\n",
    "        response.append(search(entry))\n",
    "\n",
    "    for i in reponse:\n",
    "        result.append(response[2])\n",
    "\n",
    "    return result\n",
    "        \n",
    "\n",
    "            \n",
    "first_model(x)"
   ]
  },
  {
   "cell_type": "code",
   "execution_count": 84,
   "id": "d414097c-fe8b-40c4-92e6-0e0f736eaee7",
   "metadata": {
    "jupyter": {
     "source_hidden": true
    }
   },
   "outputs": [
    {
     "name": "stdout",
     "output_type": "stream",
     "text": [
      "[[892 3 'Kelly, Mr. James' ... 7.8292 nan 'Q']\n",
      " [893 3 'Wilkes, Mrs. James (Ellen Needs)' ... 7.0 nan 'S']\n",
      " [894 2 'Myles, Mr. Thomas Francis' ... 9.6875 nan 'Q']\n",
      " ...\n",
      " [1307 3 'Saether, Mr. Simon Sivertsen' ... 7.25 nan 'S']\n",
      " [1308 3 'Ware, Mr. Frederick' ... 8.05 nan 'S']\n",
      " [1309 3 'Peter, Master. Michael J' ... 22.3583 nan 'C']]\n",
      "Ticket\n",
      "Cabin\n",
      "Sex\n",
      "Fare\n",
      "Pclass\n",
      "Age\n",
      "Embarked\n",
      "SibSp\n",
      "Parch\n"
     ]
    }
   ],
   "source": [
    "first_model"
   ]
  },
  {
   "cell_type": "code",
   "execution_count": null,
   "id": "82aafe77-eb36-4064-9590-a3e0fdcac90c",
   "metadata": {},
   "outputs": [],
   "source": []
  }
 ],
 "metadata": {
  "kernelspec": {
   "display_name": "Python 3 (ipykernel)",
   "language": "python",
   "name": "python3"
  },
  "language_info": {
   "codemirror_mode": {
    "name": "ipython",
    "version": 3
   },
   "file_extension": ".py",
   "mimetype": "text/x-python",
   "name": "python",
   "nbconvert_exporter": "python",
   "pygments_lexer": "ipython3",
   "version": "3.8.10"
  }
 },
 "nbformat": 4,
 "nbformat_minor": 5
}
