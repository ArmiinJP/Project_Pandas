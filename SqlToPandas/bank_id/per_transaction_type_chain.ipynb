{
 "cells": [
  {
   "cell_type": "markdown",
   "id": "ab63d9f4-23da-4cc9-9748-1d7c43428630",
   "metadata": {},
   "source": [
    "\n",
    "        select bank_id, transaction_type_chain, swtc+swtv total, wight\n",
    "        from(\n",
    "            select bank_id, transaction_type_chain, sum(wight) wight , sum(transaction_value) swtv, sum(transaction_cost) swtc\n",
    "            from(\n",
    "                select bank_id, transaction_type_chain, sum(new_count) wight, transaction_cost, transaction_value\n",
    "                from(\n",
    "                    select *\n",
    "                    from(\n",
    "                        select bank_id, transaction_type_chain,  count(count) new_count, transaction_cost, transaction_value\n",
    "                        from data_dataset\n",
    "                        where count = 0\n",
    "                        group by bank_id, transaction_type_chain, transaction_cost, transaction_value) as b0\n",
    " \n",
    "                    union all\n",
    "                    select *\n",
    "                    from(\n",
    "                        select bank_id, transaction_type_chain,  count new_count, transaction_cost, transaction_value\n",
    "                        from data_dataset\n",
    "                        where count != 0) as b1) as b2\n",
    "                group by bank_id, transaction_type_chain, transaction_cost, transaction_value) as b3\n",
    "            group by bank_id, transaction_type_chain) as b4\n",
    "            where bank_id = {{number_of_bank_id}}\n",
    "            order by total desc\n",
    "            "
   ]
  },
  {
   "cell_type": "code",
   "execution_count": 2,
   "id": "85db33a0-aff5-444b-8fa7-ff9406246eca",
   "metadata": {},
   "outputs": [],
   "source": [
    "import pandas as pd"
   ]
  },
  {
   "cell_type": "code",
   "execution_count": 3,
   "id": "3c15027c-6965-4962-92f4-6d74a65bbffe",
   "metadata": {},
   "outputs": [],
   "source": [
    "data = pd.read_csv('../../github_source/tranasaction_dataset.csv', parse_dates=['time_internal'])"
   ]
  },
  {
   "cell_type": "code",
   "execution_count": 4,
   "id": "171e921e-688e-4886-b762-5dee29ed65e3",
   "metadata": {},
   "outputs": [],
   "source": [
    "tmp_data = data[data['count'] == 0]\n",
    "dg1 = tmp_data.groupby(by=['bank_id', 'transaction_type_chain', 'transaction_cost', 'transaction_value']).agg({'count': 'count'}).reset_index()"
   ]
  },
  {
   "cell_type": "code",
   "execution_count": 5,
   "id": "9f6e808e-300d-4162-92ff-c24386bdf4f1",
   "metadata": {},
   "outputs": [],
   "source": [
    "tmp_data2 = data[data['count'] != 0]\n",
    "dg2 = tmp_data2[['count', 'bank_id', 'transaction_type_chain', 'transaction_cost', 'transaction_value']]"
   ]
  },
  {
   "cell_type": "code",
   "execution_count": 6,
   "id": "bbb8e3e0-6a95-45c3-b9f4-29d2c31c6411",
   "metadata": {},
   "outputs": [],
   "source": [
    "dg = pd.concat([dg1, dg2])"
   ]
  },
  {
   "cell_type": "code",
   "execution_count": 7,
   "id": "dc44a102-83e8-45a2-9b14-ec7a533d1be1",
   "metadata": {},
   "outputs": [],
   "source": [
    "dg = dg.groupby(by=['bank_id', 'transaction_type_chain', 'transaction_cost', 'transaction_value']).agg({'count': 'sum'}).reset_index()"
   ]
  },
  {
   "cell_type": "code",
   "execution_count": 8,
   "id": "142bf1b5-96bc-43d0-93f6-6c3d53f722c8",
   "metadata": {},
   "outputs": [],
   "source": [
    "dg = dg.groupby(by=['bank_id', 'transaction_type_chain']).agg({\n",
    "    'count' : 'sum',\n",
    "    'transaction_cost' : 'sum',\n",
    "    'transaction_value' : 'sum'\n",
    "}).reset_index()"
   ]
  },
  {
   "cell_type": "code",
   "execution_count": 9,
   "id": "509ca74f-56ed-4f93-b8f2-fea3e09c0ba2",
   "metadata": {},
   "outputs": [],
   "source": [
    "dg['total_value'] = dg['transaction_cost'] + dg['transaction_value']\n",
    "dg = dg.drop(['transaction_cost', 'transaction_value'], axis='columns')"
   ]
  },
  {
   "cell_type": "code",
   "execution_count": 10,
   "id": "6e9010db-9242-4427-9011-9eb724c5686f",
   "metadata": {},
   "outputs": [
    {
     "data": {
      "text/html": [
       "<div>\n",
       "<style scoped>\n",
       "    .dataframe tbody tr th:only-of-type {\n",
       "        vertical-align: middle;\n",
       "    }\n",
       "\n",
       "    .dataframe tbody tr th {\n",
       "        vertical-align: top;\n",
       "    }\n",
       "\n",
       "    .dataframe thead th {\n",
       "        text-align: right;\n",
       "    }\n",
       "</style>\n",
       "<table border=\"1\" class=\"dataframe\">\n",
       "  <thead>\n",
       "    <tr style=\"text-align: right;\">\n",
       "      <th></th>\n",
       "      <th>bank_id</th>\n",
       "      <th>transaction_type_chain</th>\n",
       "      <th>count</th>\n",
       "      <th>total_value</th>\n",
       "    </tr>\n",
       "  </thead>\n",
       "  <tbody>\n",
       "    <tr>\n",
       "      <th>19551</th>\n",
       "      <td>13335</td>\n",
       "      <td>28392p;28691p;17s;28391m;27333m;27714m</td>\n",
       "      <td>16703</td>\n",
       "      <td>18537082219</td>\n",
       "    </tr>\n",
       "    <tr>\n",
       "      <th>20863</th>\n",
       "      <td>13335</td>\n",
       "      <td>28392p;28691p;6s;28391m;27333m;1122s</td>\n",
       "      <td>166205</td>\n",
       "      <td>8571626945</td>\n",
       "    </tr>\n",
       "    <tr>\n",
       "      <th>20587</th>\n",
       "      <td>13335</td>\n",
       "      <td>28392p;28691p;6s;27714m;1122s;28391m;27333m;28...</td>\n",
       "      <td>4711</td>\n",
       "      <td>8185889315</td>\n",
       "    </tr>\n",
       "    <tr>\n",
       "      <th>20709</th>\n",
       "      <td>13335</td>\n",
       "      <td>28392p;28691p;6s;27714m;28391m;27333m;1122s</td>\n",
       "      <td>58610</td>\n",
       "      <td>4989932846</td>\n",
       "    </tr>\n",
       "    <tr>\n",
       "      <th>20004</th>\n",
       "      <td>13335</td>\n",
       "      <td>28392p;28691p;28497m;6s;28391m;27333m;1122s</td>\n",
       "      <td>45953</td>\n",
       "      <td>4025609887</td>\n",
       "    </tr>\n",
       "    <tr>\n",
       "      <th>...</th>\n",
       "      <td>...</td>\n",
       "      <td>...</td>\n",
       "      <td>...</td>\n",
       "      <td>...</td>\n",
       "    </tr>\n",
       "    <tr>\n",
       "      <th>20332</th>\n",
       "      <td>13335</td>\n",
       "      <td>28392p;28691p;600p;617s;17s;28391m;27333m;882p</td>\n",
       "      <td>5</td>\n",
       "      <td>375</td>\n",
       "    </tr>\n",
       "    <tr>\n",
       "      <th>20054</th>\n",
       "      <td>13335</td>\n",
       "      <td>28392p;28691p;28692p;28497m;6s</td>\n",
       "      <td>5</td>\n",
       "      <td>370</td>\n",
       "    </tr>\n",
       "    <tr>\n",
       "      <th>20257</th>\n",
       "      <td>13335</td>\n",
       "      <td>28392p;28691p;600p;617s;17s;28391m;27333m;2781...</td>\n",
       "      <td>2</td>\n",
       "      <td>370</td>\n",
       "    </tr>\n",
       "    <tr>\n",
       "      <th>20203</th>\n",
       "      <td>13335</td>\n",
       "      <td>28392p;28691p;600p;617s;17s;28391m;27333m;2748...</td>\n",
       "      <td>5</td>\n",
       "      <td>365</td>\n",
       "    </tr>\n",
       "    <tr>\n",
       "      <th>19497</th>\n",
       "      <td>13335</td>\n",
       "      <td>28392p;1122s;27714m;6s;28391m;27333m;27344p;27...</td>\n",
       "      <td>19</td>\n",
       "      <td>0</td>\n",
       "    </tr>\n",
       "  </tbody>\n",
       "</table>\n",
       "<p>1554 rows × 4 columns</p>\n",
       "</div>"
      ],
      "text/plain": [
       "       bank_id                             transaction_type_chain   count  \\\n",
       "19551    13335             28392p;28691p;17s;28391m;27333m;27714m   16703   \n",
       "20863    13335               28392p;28691p;6s;28391m;27333m;1122s  166205   \n",
       "20587    13335  28392p;28691p;6s;27714m;1122s;28391m;27333m;28...    4711   \n",
       "20709    13335        28392p;28691p;6s;27714m;28391m;27333m;1122s   58610   \n",
       "20004    13335        28392p;28691p;28497m;6s;28391m;27333m;1122s   45953   \n",
       "...        ...                                                ...     ...   \n",
       "20332    13335     28392p;28691p;600p;617s;17s;28391m;27333m;882p       5   \n",
       "20054    13335                     28392p;28691p;28692p;28497m;6s       5   \n",
       "20257    13335  28392p;28691p;600p;617s;17s;28391m;27333m;2781...       2   \n",
       "20203    13335  28392p;28691p;600p;617s;17s;28391m;27333m;2748...       5   \n",
       "19497    13335  28392p;1122s;27714m;6s;28391m;27333m;27344p;27...      19   \n",
       "\n",
       "       total_value  \n",
       "19551  18537082219  \n",
       "20863   8571626945  \n",
       "20587   8185889315  \n",
       "20709   4989932846  \n",
       "20004   4025609887  \n",
       "...            ...  \n",
       "20332          375  \n",
       "20054          370  \n",
       "20257          370  \n",
       "20203          365  \n",
       "19497            0  \n",
       "\n",
       "[1554 rows x 4 columns]"
      ]
     },
     "execution_count": 10,
     "metadata": {},
     "output_type": "execute_result"
    }
   ],
   "source": [
    "your_bank_id = 13335\n",
    "dg[dg['bank_id'] == your_bank_id].sort_values('total_value', ascending=False)"
   ]
  }
 ],
 "metadata": {
  "kernelspec": {
   "display_name": "Python 3 (ipykernel)",
   "language": "python",
   "name": "python3"
  },
  "language_info": {
   "codemirror_mode": {
    "name": "ipython",
    "version": 3
   },
   "file_extension": ".py",
   "mimetype": "text/x-python",
   "name": "python",
   "nbconvert_exporter": "python",
   "pygments_lexer": "ipython3",
   "version": "3.8.10"
  }
 },
 "nbformat": 4,
 "nbformat_minor": 5
}
