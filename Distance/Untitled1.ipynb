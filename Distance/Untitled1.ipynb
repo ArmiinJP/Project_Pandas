{
 "cells": [
  {
   "cell_type": "code",
   "execution_count": 1,
   "id": "60729ce2-d947-4bf0-a2d7-c0b0b1815233",
   "metadata": {},
   "outputs": [],
   "source": [
    "import math"
   ]
  },
  {
   "cell_type": "code",
   "execution_count": 5,
   "id": "bf388d82-a223-4900-88f5-2459d1a641e1",
   "metadata": {},
   "outputs": [
    {
     "data": {
      "text/plain": [
       "6.83502753130843"
      ]
     },
     "execution_count": 5,
     "metadata": {},
     "output_type": "execute_result"
    }
   ],
   "source": [
    "float(1) * math.log10(float(1) / float(0.0000001462084485333307))"
   ]
  },
  {
   "cell_type": "code",
   "execution_count": null,
   "id": "3bd315dd-5db8-44a9-b01a-aff5e0cdd844",
   "metadata": {},
   "outputs": [],
   "source": [
    "        \n",
    "    # # choose Xi from sampled choosed from dataset 1\n",
    "    # for xd1, Pxd1 in clean_sample(sample_x_test).items():\n",
    "    #     sum = 0\n",
    "    #     if xd1 == \"\" or Pxd1 == \"\":\n",
    "    #         continue\n",
    "        \n",
    "    #     for sample_x_train in x_train:\n",
    "    #         Pxd2 = clean_sample(sample_x_train).get(xd1)\n",
    "            \n",
    "    #         # if Q(xi) not exist, ignore this distribution \n",
    "    #         if Pxd2 is None:\n",
    "    #             break \n",
    "    #         else:            \n",
    "    #     result_zikma.append({sample_x_train: sum})\n",
    "        \n",
    "    # print(result_zikma)\n",
    "    # break\n",
    "\n",
    "        \n",
    "    #     # sample from dataset 2\n",
    "    #     for sample_x_train in x_train:\n",
    "    #         sum = 0\n",
    "    #         check = 0\n",
    "    #         # choose Xi from sampled choosed from dataset 2\n",
    "    #         for xd2, Pxd2 in clean_sample(sample_x_train).items():\n",
    "    #             if xd1 == xd2:\n",
    "    #                 sum += Pxd1 * np.log(Pxd1 / Pxd2)\n",
    "    #                 break\n",
    "    #             else:\n",
    "    #                 check = 1\n",
    "    #                 break\n",
    "    #         if check = 0:\n",
    "    #             result_zikma.append({sample_x_train : sum})\n",
    "        \n",
    "        #print(result_zikma)\n",
    "            # Pxd2 = clean_sample(sample_x_train).get(xd1)\n",
    "            \n",
    "            # # if Q(xi) not exist, ignore this distribution \n",
    "            # if Pxd2 is None:\n",
    "            #     continue \n",
    "            # else:\n",
    "                \n",
    "            #     Pxd2_list.append(Pxd2)\n",
    "                \n",
    "                \n",
    "    #print(Pxd1_list)\n",
    "    break\n",
    "    # for sample_dataset_2 in x_test:\n",
    "    #     clean_sample(sample_dataset_1)\n",
    "    "
   ]
  }
 ],
 "metadata": {
  "kernelspec": {
   "display_name": "Python 3 (ipykernel)",
   "language": "python",
   "name": "python3"
  },
  "language_info": {
   "codemirror_mode": {
    "name": "ipython",
    "version": 3
   },
   "file_extension": ".py",
   "mimetype": "text/x-python",
   "name": "python",
   "nbconvert_exporter": "python",
   "pygments_lexer": "ipython3",
   "version": "3.8.10"
  }
 },
 "nbformat": 4,
 "nbformat_minor": 5
}
