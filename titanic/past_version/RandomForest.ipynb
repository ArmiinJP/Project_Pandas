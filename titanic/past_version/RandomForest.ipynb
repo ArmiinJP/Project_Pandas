{
 "cells": [
  {
   "cell_type": "code",
   "execution_count": 2,
   "id": "05b8ed9e-93ca-433d-9437-eb2689112394",
   "metadata": {},
   "outputs": [],
   "source": [
    "import numpy as np\n",
    "#import matplotlib.pyplot as plt\n",
    "import pandas as pd"
   ]
  },
  {
   "cell_type": "code",
   "execution_count": 3,
   "id": "8f76d3d1-0f5c-4ef8-8fe9-da5df3796307",
   "metadata": {},
   "outputs": [],
   "source": [
    "path ='train.csv'\n",
    "path2 ='test.csv'\n",
    "path3 ='gender_submission.csv'"
   ]
  },
  {
   "cell_type": "code",
   "execution_count": 4,
   "id": "68acb554-8a4b-4317-bdfa-4f9e7e92bd03",
   "metadata": {},
   "outputs": [],
   "source": [
    "dataset_x_y_train = pd.read_csv(path)\n",
    "dataset_x_test = pd.read_csv(path2)\n",
    "dataset_y_test = pd.read_csv(path3)"
   ]
  },
  {
   "cell_type": "code",
   "execution_count": 5,
   "id": "6208631b-4f6b-48d5-968a-571580f80c67",
   "metadata": {},
   "outputs": [],
   "source": [
    "dataset_x_y_test = dataset_y_test.merge(dataset_x_test, on='PassengerId')"
   ]
  },
  {
   "cell_type": "code",
   "execution_count": 6,
   "id": "01f4d191-1e51-41e6-bc31-27097e364a2c",
   "metadata": {},
   "outputs": [],
   "source": [
    "dataset = pd.concat([dataset_x_y_test, dataset_x_y_train])"
   ]
  },
  {
   "cell_type": "code",
   "execution_count": 4,
   "id": "d06e0d39-e8b9-4f8d-a297-630ffa2db08d",
   "metadata": {},
   "outputs": [],
   "source": [
    "dataset_x_y_train = pd.read_csv(path)\n",
    "dataset_x_test = pd.read_csv(path2)\n",
    "dataset_y_test = pd.read_csv(path3)"
   ]
  },
  {
   "cell_type": "code",
   "execution_count": 5,
   "id": "a55b00fa-6fd7-4599-a3ac-65c6a85b647e",
   "metadata": {},
   "outputs": [],
   "source": [
    "dataset_x_y_test = dataset_y_test.merge(dataset_x_test, on='PassengerId')"
   ]
  },
  {
   "cell_type": "code",
   "execution_count": 6,
   "id": "262824d4-e2fd-40c4-bdb9-3038caf3857b",
   "metadata": {},
   "outputs": [],
   "source": [
    "dataset = pd.concat([dataset_x_y_test, dataset_x_y_train])"
   ]
  },
  {
   "cell_type": "code",
   "execution_count": 7,
   "id": "6eb658f7-0919-407d-9d6c-611af056f658",
   "metadata": {},
   "outputs": [],
   "source": [
    "dataset['Sex'] = dataset['Sex'].astype('category')\n",
    "dataset['Cabin'] = dataset['Cabin'].astype('category')\n",
    "dataset['Ticket'] = dataset['Ticket'].astype('category')\n",
    "dataset['Embarked'] = dataset['Embarked'].astype('category')\n",
    "dataset['Name'] = dataset['Name'].astype('category')\n",
    "\n",
    "dataset['Sex'] = dataset['Sex'].cat.codes\n",
    "dataset['Cabin'] = dataset['Cabin'].cat.codes\n",
    "dataset['Ticket'] = dataset['Ticket'].cat.codes\n",
    "dataset['Embarked'] = dataset['Embarked'].cat.codes\n",
    "dataset['Name'] = dataset['Name'].cat.codes"
   ]
  },
  {
   "cell_type": "code",
   "execution_count": 8,
   "id": "63d234ab-22a6-42a9-ad35-9c7d9b128ace",
   "metadata": {},
   "outputs": [
    {
     "data": {
      "text/plain": [
       "[]"
      ]
     },
     "execution_count": 8,
     "metadata": {},
     "output_type": "execute_result"
    }
   ],
   "source": [
    "dataset['Age'] = dataset['Age'].fillna(-1)\n",
    "dataset['Fare'] = dataset['Fare'].fillna(-1)\n",
    "dataset.columns[dataset.isnull().any()].tolist()"
   ]
  },
  {
   "cell_type": "code",
   "execution_count": 9,
   "id": "05f40449-4726-491b-a469-2f19f352c650",
   "metadata": {},
   "outputs": [],
   "source": [
    "dataset = dataset.sort_values(['PassengerId'])\n",
    "dataset = dataset.reindex(columns=['PassengerId', 'Pclass', 'Name', 'Sex', 'Age', 'SibSp', 'Parch', 'Ticket', 'Fare', 'Cabin', 'Embarked', 'Survived'])"
   ]
  },
  {
   "cell_type": "code",
   "execution_count": 10,
   "id": "d53a2b73-a99f-456d-95f1-580ce2dff320",
   "metadata": {},
   "outputs": [],
   "source": [
    "x = dataset.iloc[:891, :-1].values\n",
    "y = dataset.iloc[:891, 11].values\n",
    "x_train = pd.DataFrame(x, columns=['PassengerId', 'Pclass', 'Name', 'Sex', 'Age', 'SibSp', 'Parch', 'Ticket', 'Fare', 'Cabin', 'Embarked'])\n",
    "y_train = pd.DataFrame(y, columns=['Survived']).squeeze('columns')"
   ]
  },
  {
   "cell_type": "code",
   "execution_count": 11,
   "id": "5d3b7079-74a6-4db0-91ac-12fefcc5f370",
   "metadata": {},
   "outputs": [],
   "source": [
    "x = dataset.iloc[891:, :-1].values\n",
    "y = dataset.iloc[891:, 11].values\n",
    "x_test = pd.DataFrame(x, columns=['PassengerId', 'Pclass', 'Name', 'Sex', 'Age', 'SibSp', 'Parch', 'Ticket', 'Fare', 'Cabin', 'Embarked'])\n",
    "y_test = pd.DataFrame(y, columns=['Survived']).squeeze('columns')"
   ]
  },
  {
   "cell_type": "code",
   "execution_count": 17,
   "id": "11e5bf6e-955e-42a9-b4a2-3bd9a40c86cf",
   "metadata": {},
   "outputs": [],
   "source": [
    "del x_test['Name']\n",
    "del x_train['Name']"
   ]
  },
  {
   "cell_type": "code",
   "execution_count": 13,
   "id": "a00c3b96-cb8b-49b4-878b-6a9d0efa3cd1",
   "metadata": {},
   "outputs": [],
   "source": [
    "# from sklearn.model_selection import train_test_split\n",
    "# x_train, x_test, y_train, y_test = train_test_split(x, y, test_size = 0.0)"
   ]
  },
  {
   "cell_type": "code",
   "execution_count": 148,
   "id": "417a0a91-3fbd-4d2f-b396-e0193a609e82",
   "metadata": {},
   "outputs": [
    {
     "data": {
      "text/html": [
       "<style>#sk-container-id-45 {color: black;}#sk-container-id-45 pre{padding: 0;}#sk-container-id-45 div.sk-toggleable {background-color: white;}#sk-container-id-45 label.sk-toggleable__label {cursor: pointer;display: block;width: 100%;margin-bottom: 0;padding: 0.3em;box-sizing: border-box;text-align: center;}#sk-container-id-45 label.sk-toggleable__label-arrow:before {content: \"▸\";float: left;margin-right: 0.25em;color: #696969;}#sk-container-id-45 label.sk-toggleable__label-arrow:hover:before {color: black;}#sk-container-id-45 div.sk-estimator:hover label.sk-toggleable__label-arrow:before {color: black;}#sk-container-id-45 div.sk-toggleable__content {max-height: 0;max-width: 0;overflow: hidden;text-align: left;background-color: #f0f8ff;}#sk-container-id-45 div.sk-toggleable__content pre {margin: 0.2em;color: black;border-radius: 0.25em;background-color: #f0f8ff;}#sk-container-id-45 input.sk-toggleable__control:checked~div.sk-toggleable__content {max-height: 200px;max-width: 100%;overflow: auto;}#sk-container-id-45 input.sk-toggleable__control:checked~label.sk-toggleable__label-arrow:before {content: \"▾\";}#sk-container-id-45 div.sk-estimator input.sk-toggleable__control:checked~label.sk-toggleable__label {background-color: #d4ebff;}#sk-container-id-45 div.sk-label input.sk-toggleable__control:checked~label.sk-toggleable__label {background-color: #d4ebff;}#sk-container-id-45 input.sk-hidden--visually {border: 0;clip: rect(1px 1px 1px 1px);clip: rect(1px, 1px, 1px, 1px);height: 1px;margin: -1px;overflow: hidden;padding: 0;position: absolute;width: 1px;}#sk-container-id-45 div.sk-estimator {font-family: monospace;background-color: #f0f8ff;border: 1px dotted black;border-radius: 0.25em;box-sizing: border-box;margin-bottom: 0.5em;}#sk-container-id-45 div.sk-estimator:hover {background-color: #d4ebff;}#sk-container-id-45 div.sk-parallel-item::after {content: \"\";width: 100%;border-bottom: 1px solid gray;flex-grow: 1;}#sk-container-id-45 div.sk-label:hover label.sk-toggleable__label {background-color: #d4ebff;}#sk-container-id-45 div.sk-serial::before {content: \"\";position: absolute;border-left: 1px solid gray;box-sizing: border-box;top: 0;bottom: 0;left: 50%;z-index: 0;}#sk-container-id-45 div.sk-serial {display: flex;flex-direction: column;align-items: center;background-color: white;padding-right: 0.2em;padding-left: 0.2em;position: relative;}#sk-container-id-45 div.sk-item {position: relative;z-index: 1;}#sk-container-id-45 div.sk-parallel {display: flex;align-items: stretch;justify-content: center;background-color: white;position: relative;}#sk-container-id-45 div.sk-item::before, #sk-container-id-45 div.sk-parallel-item::before {content: \"\";position: absolute;border-left: 1px solid gray;box-sizing: border-box;top: 0;bottom: 0;left: 50%;z-index: -1;}#sk-container-id-45 div.sk-parallel-item {display: flex;flex-direction: column;z-index: 1;position: relative;background-color: white;}#sk-container-id-45 div.sk-parallel-item:first-child::after {align-self: flex-end;width: 50%;}#sk-container-id-45 div.sk-parallel-item:last-child::after {align-self: flex-start;width: 50%;}#sk-container-id-45 div.sk-parallel-item:only-child::after {width: 0;}#sk-container-id-45 div.sk-dashed-wrapped {border: 1px dashed gray;margin: 0 0.4em 0.5em 0.4em;box-sizing: border-box;padding-bottom: 0.4em;background-color: white;}#sk-container-id-45 div.sk-label label {font-family: monospace;font-weight: bold;display: inline-block;line-height: 1.2em;}#sk-container-id-45 div.sk-label-container {text-align: center;}#sk-container-id-45 div.sk-container {/* jupyter's `normalize.less` sets `[hidden] { display: none; }` but bootstrap.min.css set `[hidden] { display: none !important; }` so we also need the `!important` here to be able to override the default hidden behavior on the sphinx rendered scikit-learn.org. See: https://github.com/scikit-learn/scikit-learn/issues/21755 */display: inline-block !important;position: relative;}#sk-container-id-45 div.sk-text-repr-fallback {display: none;}</style><div id=\"sk-container-id-45\" class=\"sk-top-container\"><div class=\"sk-text-repr-fallback\"><pre>RandomForestClassifier(class_weight=&#x27;balanced&#x27;, max_depth=3)</pre><b>In a Jupyter environment, please rerun this cell to show the HTML representation or trust the notebook. <br />On GitHub, the HTML representation is unable to render, please try loading this page with nbviewer.org.</b></div><div class=\"sk-container\" hidden><div class=\"sk-item\"><div class=\"sk-estimator sk-toggleable\"><input class=\"sk-toggleable__control sk-hidden--visually\" id=\"sk-estimator-id-45\" type=\"checkbox\" checked><label for=\"sk-estimator-id-45\" class=\"sk-toggleable__label sk-toggleable__label-arrow\">RandomForestClassifier</label><div class=\"sk-toggleable__content\"><pre>RandomForestClassifier(class_weight=&#x27;balanced&#x27;, max_depth=3)</pre></div></div></div></div></div>"
      ],
      "text/plain": [
       "RandomForestClassifier(class_weight='balanced', max_depth=3)"
      ]
     },
     "execution_count": 148,
     "metadata": {},
     "output_type": "execute_result"
    }
   ],
   "source": [
    "from sklearn.ensemble import RandomForestClassifier\n",
    "classifier = RandomForestClassifier(n_estimators = 100, max_depth=3, class_weight=\"balanced\")\n",
    "classifier.fit(x_train, y_train)"
   ]
  },
  {
   "cell_type": "code",
   "execution_count": 149,
   "id": "8c42afc0-9a4c-4b8b-8c7e-31ee42b889c4",
   "metadata": {},
   "outputs": [],
   "source": [
    "y_pred = classifier.predict(x_test)"
   ]
  },
  {
   "cell_type": "code",
   "execution_count": 150,
   "id": "ea35eb77-d784-4374-b3ca-a6f68b448670",
   "metadata": {},
   "outputs": [
    {
     "name": "stdout",
     "output_type": "stream",
     "text": [
      "Confusion Matrix:\n",
      "[[232  34]\n",
      " [  6 146]]\n",
      "Classification Report:\n",
      "              precision    recall  f1-score   support\n",
      "\n",
      "           0       0.97      0.87      0.92       266\n",
      "           1       0.81      0.96      0.88       152\n",
      "\n",
      "    accuracy                           0.90       418\n",
      "   macro avg       0.89      0.92      0.90       418\n",
      "weighted avg       0.92      0.90      0.91       418\n",
      "\n",
      "Accuracy: 0.9043062200956937\n"
     ]
    }
   ],
   "source": [
    "from sklearn.metrics import classification_report, confusion_matrix, accuracy_score\n",
    "result = confusion_matrix(y_test, y_pred)\n",
    "print(\"Confusion Matrix:\")\n",
    "print(result)\n",
    "result1 = classification_report(y_test, y_pred)\n",
    "print(\"Classification Report:\",)\n",
    "print (result1)\n",
    "result2 = accuracy_score(y_test,y_pred)\n",
    "print(\"Accuracy:\",result2)"
   ]
  },
  {
   "cell_type": "code",
   "execution_count": null,
   "id": "297ee5fc-d00d-4740-823a-02b6f4a89cf3",
   "metadata": {},
   "outputs": [],
   "source": []
  }
 ],
 "metadata": {
  "kernelspec": {
   "display_name": "Python 3 (ipykernel)",
   "language": "python",
   "name": "python3"
  },
  "language_info": {
   "codemirror_mode": {
    "name": "ipython",
    "version": 3
   },
   "file_extension": ".py",
   "mimetype": "text/x-python",
   "name": "python",
   "nbconvert_exporter": "python",
   "pygments_lexer": "ipython3",
   "version": "3.8.10"
  }
 },
 "nbformat": 4,
 "nbformat_minor": 5
}
