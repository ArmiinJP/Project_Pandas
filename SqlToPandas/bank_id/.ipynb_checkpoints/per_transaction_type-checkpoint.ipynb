{
 "cells": [
  {
   "cell_type": "markdown",
   "id": "f5a98b5d-4305-478e-8907-6c4485b6f35f",
   "metadata": {},
   "source": [
    "        select bank_id, transaction_gateway_id, swtc+swtv total, wight\n",
    "        from(\n",
    "            select bank_id, transaction_gateway_id, sum(wight) wight , sum(transaction_value) swtv, sum(transaction_cost) swtc\n",
    "            from(\n",
    "                select bank_id, transaction_gateway_id, sum(new_count) wight, transaction_cost, transaction_value\n",
    "                from(\n",
    "                    select *\n",
    "                    from(\n",
    "                        select bank_id, transaction_gateway_id,  count(count) new_count, transaction_cost, transaction_value\n",
    "                        from data_dataset\n",
    "                        where count = 0\n",
    "                        group by bank_id, transaction_gateway_id, transaction_cost, transaction_value) as b0\n",
    " \n",
    "                    union all\n",
    "                    select *\n",
    "                    from(\n",
    "                        select bank_id, transaction_gateway_id,  count new_count, transaction_cost, transaction_value\n",
    "                        from data_dataset\n",
    "                        where count != 0) as b1) as b2\n",
    "                group by bank_id, transaction_gateway_id, transaction_cost, transaction_value) as b3\n",
    "            group by bank_id, transaction_gateway_id) as b4\n",
    "            where bank_id = {{number_of_bankid}}\n",
    "            order by total desc"
   ]
  },
  {
   "cell_type": "code",
   "execution_count": 2,
   "id": "85db33a0-aff5-444b-8fa7-ff9406246eca",
   "metadata": {},
   "outputs": [],
   "source": [
    "import pandas as pd"
   ]
  },
  {
   "cell_type": "code",
   "execution_count": 19,
   "id": "3c15027c-6965-4962-92f4-6d74a65bbffe",
   "metadata": {},
   "outputs": [],
   "source": [
    "data = pd.read_csv('../../github_source/tranasaction_dataset.csv', parse_dates=['time_internal'])"
   ]
  },
  {
   "cell_type": "code",
   "execution_count": 34,
   "id": "171e921e-688e-4886-b762-5dee29ed65e3",
   "metadata": {},
   "outputs": [],
   "source": [
    "tmp_data = data[data['count'] == 0]\n",
    "dg1 = tmp_data.groupby(by=['bank_id', 'transaction_gateway_id', 'transaction_cost', 'transaction_value']).agg({'count': 'count'}).reset_index()"
   ]
  },
  {
   "cell_type": "code",
   "execution_count": 35,
   "id": "9f6e808e-300d-4162-92ff-c24386bdf4f1",
   "metadata": {},
   "outputs": [],
   "source": [
    "tmp_data2 = data[data['count'] != 0]\n",
    "dg2 = tmp_data2[['count', 'bank_id', 'transaction_gateway_id', 'transaction_cost', 'transaction_value']]"
   ]
  },
  {
   "cell_type": "code",
   "execution_count": 38,
   "id": "bbb8e3e0-6a95-45c3-b9f4-29d2c31c6411",
   "metadata": {},
   "outputs": [],
   "source": [
    "dg = pd.concat([dg1, dg2])"
   ]
  },
  {
   "cell_type": "code",
   "execution_count": 39,
   "id": "dc44a102-83e8-45a2-9b14-ec7a533d1be1",
   "metadata": {},
   "outputs": [],
   "source": [
    "dg = dg.groupby(by=['bank_id', 'transaction_gateway_id', 'transaction_cost', 'transaction_value']).agg({'count': 'sum'}).reset_index()"
   ]
  },
  {
   "cell_type": "code",
   "execution_count": 43,
   "id": "142bf1b5-96bc-43d0-93f6-6c3d53f722c8",
   "metadata": {},
   "outputs": [],
   "source": [
    "dg = dg.groupby(by=['bank_id', 'transaction_gateway_id']).agg({\n",
    "    'count' : 'sum',\n",
    "    'transaction_cost' : 'sum',\n",
    "    'transaction_value' : 'sum'\n",
    "}).reset_index()"
   ]
  },
  {
   "cell_type": "code",
   "execution_count": 48,
   "id": "509ca74f-56ed-4f93-b8f2-fea3e09c0ba2",
   "metadata": {},
   "outputs": [],
   "source": [
    "dg['total_value'] = dg['transaction_cost'] + dg['transaction_value']\n",
    "dg = dg.drop(['transaction_cost', 'transaction_value'], axis='columns')"
   ]
  },
  {
   "cell_type": "code",
   "execution_count": 52,
   "id": "6e9010db-9242-4427-9011-9eb724c5686f",
   "metadata": {},
   "outputs": [
    {
     "data": {
      "text/html": [
       "<div>\n",
       "<style scoped>\n",
       "    .dataframe tbody tr th:only-of-type {\n",
       "        vertical-align: middle;\n",
       "    }\n",
       "\n",
       "    .dataframe tbody tr th {\n",
       "        vertical-align: top;\n",
       "    }\n",
       "\n",
       "    .dataframe thead th {\n",
       "        text-align: right;\n",
       "    }\n",
       "</style>\n",
       "<table border=\"1\" class=\"dataframe\">\n",
       "  <thead>\n",
       "    <tr style=\"text-align: right;\">\n",
       "      <th></th>\n",
       "      <th>bank_id</th>\n",
       "      <th>transaction_gateway_id</th>\n",
       "      <th>count</th>\n",
       "      <th>total_value</th>\n",
       "    </tr>\n",
       "  </thead>\n",
       "  <tbody>\n",
       "    <tr>\n",
       "      <th>43832</th>\n",
       "      <td>13335</td>\n",
       "      <td>13f3cf8</td>\n",
       "      <td>977413</td>\n",
       "      <td>51677049113</td>\n",
       "    </tr>\n",
       "    <tr>\n",
       "      <th>44077</th>\n",
       "      <td>13335</td>\n",
       "      <td>7cac11e</td>\n",
       "      <td>1768</td>\n",
       "      <td>16219054336</td>\n",
       "    </tr>\n",
       "    <tr>\n",
       "      <th>44285</th>\n",
       "      <td>13335</td>\n",
       "      <td>f033ab3</td>\n",
       "      <td>55521</td>\n",
       "      <td>6085546528</td>\n",
       "    </tr>\n",
       "    <tr>\n",
       "      <th>44299</th>\n",
       "      <td>13335</td>\n",
       "      <td>f7e9050</td>\n",
       "      <td>116</td>\n",
       "      <td>2239493814</td>\n",
       "    </tr>\n",
       "    <tr>\n",
       "      <th>43967</th>\n",
       "      <td>13335</td>\n",
       "      <td>4d6b3e3</td>\n",
       "      <td>13893</td>\n",
       "      <td>2094431350</td>\n",
       "    </tr>\n",
       "    <tr>\n",
       "      <th>...</th>\n",
       "      <td>...</td>\n",
       "      <td>...</td>\n",
       "      <td>...</td>\n",
       "      <td>...</td>\n",
       "    </tr>\n",
       "    <tr>\n",
       "      <th>44244</th>\n",
       "      <td>13335</td>\n",
       "      <td>db4d9c2</td>\n",
       "      <td>3</td>\n",
       "      <td>310</td>\n",
       "    </tr>\n",
       "    <tr>\n",
       "      <th>44259</th>\n",
       "      <td>13335</td>\n",
       "      <td>e090d95</td>\n",
       "      <td>3</td>\n",
       "      <td>310</td>\n",
       "    </tr>\n",
       "    <tr>\n",
       "      <th>44273</th>\n",
       "      <td>13335</td>\n",
       "      <td>e9aa53d</td>\n",
       "      <td>2</td>\n",
       "      <td>310</td>\n",
       "    </tr>\n",
       "    <tr>\n",
       "      <th>43869</th>\n",
       "      <td>13335</td>\n",
       "      <td>22f5adc</td>\n",
       "      <td>3</td>\n",
       "      <td>310</td>\n",
       "    </tr>\n",
       "    <tr>\n",
       "      <th>44039</th>\n",
       "      <td>13335</td>\n",
       "      <td>6aa3406</td>\n",
       "      <td>2</td>\n",
       "      <td>310</td>\n",
       "    </tr>\n",
       "  </tbody>\n",
       "</table>\n",
       "<p>524 rows × 4 columns</p>\n",
       "</div>"
      ],
      "text/plain": [
       "       bank_id transaction_gateway_id   count  total_value\n",
       "43832    13335                13f3cf8  977413  51677049113\n",
       "44077    13335                7cac11e    1768  16219054336\n",
       "44285    13335                f033ab3   55521   6085546528\n",
       "44299    13335                f7e9050     116   2239493814\n",
       "43967    13335                4d6b3e3   13893   2094431350\n",
       "...        ...                    ...     ...          ...\n",
       "44244    13335                db4d9c2       3          310\n",
       "44259    13335                e090d95       3          310\n",
       "44273    13335                e9aa53d       2          310\n",
       "43869    13335                22f5adc       3          310\n",
       "44039    13335                6aa3406       2          310\n",
       "\n",
       "[524 rows x 4 columns]"
      ]
     },
     "execution_count": 52,
     "metadata": {},
     "output_type": "execute_result"
    }
   ],
   "source": [
    "your_bank_id = 13335\n",
    "dg[dg['bank_id'] == your_bank_id].sort_values('total_value', ascending=False)"
   ]
  }
 ],
 "metadata": {
  "kernelspec": {
   "display_name": "Python 3 (ipykernel)",
   "language": "python",
   "name": "python3"
  },
  "language_info": {
   "codemirror_mode": {
    "name": "ipython",
    "version": 3
   },
   "file_extension": ".py",
   "mimetype": "text/x-python",
   "name": "python",
   "nbconvert_exporter": "python",
   "pygments_lexer": "ipython3",
   "version": "3.8.10"
  }
 },
 "nbformat": 4,
 "nbformat_minor": 5
}
