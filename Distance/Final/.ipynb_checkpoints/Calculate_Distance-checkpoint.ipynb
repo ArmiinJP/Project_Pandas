{
 "cells": [
  {
   "cell_type": "code",
   "execution_count": 2,
   "id": "b5a261cf-5223-4f70-827e-31be4341b47a",
   "metadata": {},
   "outputs": [],
   "source": [
    "import warnings\n",
    "warnings.filterwarnings('ignore')"
   ]
  },
  {
   "cell_type": "code",
   "execution_count": 3,
   "id": "0e95f834-b6f4-4c10-818d-3b6322806f6f",
   "metadata": {},
   "outputs": [],
   "source": [
    "import pandas as pd\n",
    "import numpy as np\n",
    "import sklearn as sk\n",
    "import math"
   ]
  },
  {
   "cell_type": "code",
   "execution_count": 4,
   "id": "65682770-2499-4aa9-9f82-f7f9db999e95",
   "metadata": {},
   "outputs": [],
   "source": [
    "dist = pd.read_csv('../dist_data.csv', sep=';')"
   ]
  },
  {
   "cell_type": "code",
   "execution_count": 5,
   "id": "3a8cfa07-6a71-4b2c-89cc-2d8b28356122",
   "metadata": {},
   "outputs": [],
   "source": [
    "dist_clean = dist[dist['dist'] != \"[[], []]\"]"
   ]
  },
  {
   "cell_type": "code",
   "execution_count": 6,
   "id": "5cf057cf-652a-44d1-9a70-ef1cad0f05f0",
   "metadata": {},
   "outputs": [],
   "source": [
    "x = dist_clean.iloc[:, :-1].values\n",
    "y = dist_clean.iloc[:, 1].values"
   ]
  },
  {
   "cell_type": "code",
   "execution_count": 7,
   "id": "d1640004-950d-4e65-bca3-328047c43c7a",
   "metadata": {},
   "outputs": [],
   "source": [
    "from sklearn.model_selection import train_test_split\n",
    "x_train, x_test, y_train, y_test = train_test_split(x, y, test_size = 0.30)"
   ]
  },
  {
   "cell_type": "code",
   "execution_count": 8,
   "id": "1b587568-256c-4a5e-9231-fed8104aa58f",
   "metadata": {},
   "outputs": [],
   "source": [
    "# clean dist Database ( get x[i] and return dict)\n",
    "\n",
    "def clean_sample(sample):\n",
    "    sample_list = sample[0].replace(', [', '; [').split(';')\n",
    "    sample_x = sample_list[0]\n",
    "    sample_Px = sample_list[1]\n",
    "\n",
    "    sample_x_list = []\n",
    "    sample_Px_list = []\n",
    "    \n",
    "    for x in sample_x.split(','):\n",
    "        sample_x_list.append(x.replace(' ', '').replace('[', '').replace(']', ''))\n",
    "    for Px in sample_Px.split(','):\n",
    "        sample_Px_list.append(Px.replace(' ', '').replace('[', '').replace(']', ''))\n",
    "\n",
    "    dict_sample = {}\n",
    "    for i in range(len(sample_x_list)):\n",
    "        dict_sample[sample_x_list[i]] = sample_Px_list[i]\n",
    "    return dict_sample\n"
   ]
  },
  {
   "cell_type": "code",
   "execution_count": 9,
   "id": "e40cd4c7-12ae-41df-a54d-8a18539ec879",
   "metadata": {},
   "outputs": [],
   "source": [
    "def aggregate_distro(distro1, distro2):\n",
    "    xPQx_dict={}\n",
    "    for xd1, Pxd1 in distro1.items():\n",
    "        if xd1 == \"\" or Pxd1 == \"\":\n",
    "            continue\n",
    "        Pxd2 = distro2.get(xd1)\n",
    "        if Pxd2 is None:\n",
    "            Pxd2 = 0.0\n",
    "        xPQx_dict.update({xd1:[Pxd1, Pxd2]})\n",
    "                    \n",
    "    for xd2, Pxd2 in distro2.items():\n",
    "        if xd2 == \"\" or Pxd2 == \"\":\n",
    "            continue\n",
    "        Pxd1 = distro1.get(xd2)\n",
    "        if Pxd1 is None:\n",
    "            Pxd1 = 0.0\n",
    "            xPQx_dict.update({xd2:[0.0, Pxd2]})\n",
    "    \n",
    "    # {443: [Pxi, Qxi], 22: [Pxi, Qxi], ...}\n",
    "    return xPQx_dict\n"
   ]
  },
  {
   "cell_type": "code",
   "execution_count": 10,
   "id": "dde42f46-e951-4ecf-8aba-e99b1df8691e",
   "metadata": {},
   "outputs": [],
   "source": [
    "def calculate_distance(func_distance, total_distro): #dict_distro : {'443': [P443, Q443], '22': [P22, Q22]}\n",
    "    distance = func_distance(total_distro)\n",
    "    return distance"
   ]
  },
  {
   "cell_type": "code",
   "execution_count": 18,
   "id": "3ec8d684-0410-4af1-931e-6346da6c78e2",
   "metadata": {},
   "outputs": [],
   "source": [
    "# Kullback-Leibler\n",
    "\n",
    "#dict_distro : {'443': [P443, Q443], '22': [P22, Q22]}\n",
    "def kl(dict_distro):\n",
    "    sum1 = 0 \n",
    "    for i in dict_distro.values():\n",
    "        Pi = float(i[0])\n",
    "        Qi = float(i[1])\n",
    "        if Pi == 0.0:\n",
    "            sum1 += 0.0\n",
    "            continue\n",
    "        if Qi == 0.0:\n",
    "            continue\n",
    "        sum1 += Pi * math.log2(Pi / Qi)\n",
    "\n",
    "    sum2 = 0 \n",
    "    for i in dict_distro.values():\n",
    "        Pi = float(i[1])\n",
    "        Qi = float(i[0])\n",
    "        if Pi == 0.0:\n",
    "            sum2 += 0.0\n",
    "            continue\n",
    "        if Qi == 0.0:\n",
    "            continue\n",
    "        sum2 += Pi * math.log2(Pi / Qi)\n",
    "        \n",
    "    if   sum1 < 0 and sum2 > 0 :\n",
    "        return sum2\n",
    "    elif sum2 < 0 and sum1 > 0:\n",
    "        return sum1\n",
    "    elif sum1 < 0 and sum2 < 0:\n",
    "        return 9999\n",
    "    elif sum1 > 0 and sum2 > 0:\n",
    "        return min(sum1, sum2)\n",
    "    else:\n",
    "        return -1"
   ]
  },
  {
   "cell_type": "code",
   "execution_count": 12,
   "id": "7e5e97ce-d45b-4bab-9535-eb3950e8c02a",
   "metadata": {
    "jupyter": {
     "source_hidden": true
    }
   },
   "outputs": [],
   "source": [
    "# Jensen–Shannon \n",
    "\n",
    "def js(dict_distro):\n",
    "    #dict_distro : {'443': [P443, Q443], '22': [P22, Q22]}\n",
    "    PMQx_list = []\n",
    "    for i in dict_distro.values():\n",
    "        Mx = (float(i[0]) + float(i[1]))/2\n",
    "        PMQx_list.append([float(i[0]), Mx, float(i[1])])\n",
    "\n",
    "    PM_list = []\n",
    "    QM_list = []\n",
    "    for i in PMQx_list:\n",
    "        PM_list.append([i[0], i[1]])\n",
    "        QM_list.append([i[2], i[1]])\n",
    "\n",
    "    sum1 = kl_for_js(PM_list)\n",
    "    sum2 = kl_for_js(QM_list)\n",
    "\n",
    "    return (sum1 + sum2)/2\n",
    "\n",
    "def kl_for_js(PQx_list):\n",
    "    sum = 0 \n",
    "    for i in PQx_list:\n",
    "        Pi = i[0]\n",
    "        Qi = i[1]\n",
    "        if float(Pi) == 0.0:\n",
    "            sum += 0.0\n",
    "            continue\n",
    "        sum += float(Pi) * math.log2(float(Pi) / float(Qi))\n",
    "        \n",
    "    return sum"
   ]
  },
  {
   "cell_type": "code",
   "execution_count": 16,
   "id": "481a04c3-94e5-4c6d-9816-6ae83032bad3",
   "metadata": {},
   "outputs": [],
   "source": [
    "# Me Distance\n",
    "from math import sqrt\n",
    "\n",
    "def me(dict_distro):\n",
    "    #dict_distro : {'443': [P443, Q443], '22': [P22, Q22]}\n",
    "    sum = 0\n",
    "    for i in dict_distro.values():\n",
    "        y1 = i[0]\n",
    "        y2 = i[1]\n",
    "        sum += (y2 - y1) ** 2\n",
    "\n",
    "    return sqrt(sum)"
   ]
  },
  {
   "cell_type": "code",
   "execution_count": 14,
   "id": "ca98c1b0-2b7d-42bd-bf27-91bcd494df83",
   "metadata": {
    "jupyter": {
     "source_hidden": true
    }
   },
   "outputs": [],
   "source": [
    "# choose best label per threshold\n",
    "\n",
    "def Predict(label_distance, threshold):\n",
    "    y_pred = []\n",
    "    for i in range(len(final_distro)):\n",
    "        t = pd.DataFrame(label_distance[i], columns=['Label', 'Kl Result'])\n",
    "        # tmp = t[t['Kl Result'] < threshold]\n",
    "        # grouped_df = tmp.groupby(['Label']).size().reset_index(name='Count')\n",
    "        # sorted_df = grouped_df.sort_values(by=['Count'], ascending=False)\n",
    "        tmp = t[t['Kl Result'] < threshold]\n",
    "        tmp['Count'] = tmp.groupby(['Label']).transform('size')\n",
    "        tmp = tmp.sort_values(by=['Count', 'Kl Result'], ascending=[False, True])        \n",
    "        if tmp.values.size == 0:\n",
    "            y_pred.append(0)\n",
    "        else:\n",
    "            y_pred.append(tmp.head(1)['Label'].values[0])\n",
    "    return y_pred"
   ]
  },
  {
   "cell_type": "code",
   "execution_count": 41,
   "id": "0c22bbc1-7aa6-4a7a-84bf-8acd0ebd1398",
   "metadata": {
    "scrolled": true
   },
   "outputs": [
    {
     "name": "stdout",
     "output_type": "stream",
     "text": [
      "{'443': [0.8, 0.3], '22': [0.1, 0.3], '80': [0.1, 0.1], '8080': [0.0, 0.3]}\n",
      "Kl distance is:  0.05097750043269361\n",
      "js distance is:  0.2728013599658333\n",
      "me distance is:  0.6164414002968976\n"
     ]
    }
   ],
   "source": [
    "distro1 = x_test\n",
    "distro1_label = y_test\n",
    "distro2 = x_train\n",
    "distro2_label = y_train\n",
    "\n",
    "distro = []\n",
    "distro.append({'443' : 0.8, '22'  : 0.1, '80'  : 0.1})\n",
    "distro.append({'443' : 0.3, '8080' : 0.3, '22'  : 0.3, '80'  : 0.1})\n",
    "distro.append({'443' : 1.0})\n",
    "distro.append({'22' : 0.9, '8080' : 0.1})\n",
    "distro.append({'9090' : 0.5, '21' : 0.5})\n",
    "\n",
    "total_distro = aggregate_distro(distro[0], distro[1])\n",
    "print(total_distro)\n",
    "\n",
    "distance = calculate_distance(kl, total_distro)\n",
    "print(\"Kl distance is: \", distance)\n",
    "\n",
    "distance = calculate_distance(js, total_distro)\n",
    "print(\"js distance is: \", distance)\n",
    "\n",
    "distance = calculate_distance(me, total_distro)\n",
    "print(\"me distance is: \", distance)"
   ]
  },
  {
   "cell_type": "code",
   "execution_count": 40,
   "id": "aa892c7b-8d13-46aa-9122-ca48e277aa84",
   "metadata": {},
   "outputs": [
    {
     "name": "stdout",
     "output_type": "stream",
     "text": [
      "distance is:  0.0 distro is:  {'443': [0.8, 0.8], '22': [0.1, 0.1], '80': [0.1, 0.1]}\n",
      "distance is:  0.46 distro is:  {'443': [0.8, 0.3], '22': [0.1, 0.3], '80': [0.1, 0.1], '8080': [0.0, 0.3]}\n",
      "distance is:  0.18 distro is:  {'443': [0.8, 1.0], '22': [0.1, 0.0], '80': [0.1, 0.0]}\n",
      "distance is:  0.85 distro is:  {'443': [0.8, 0.0], '22': [0.1, 0.9], '80': [0.1, 0.0], '8080': [0.0, 0.1]}\n",
      "distance is:  0.8 distro is:  {'443': [0.8, 0.0], '22': [0.1, 0.0], '80': [0.1, 0.0], '9090': [0.0, 0.5], '21': [0.0, 0.5]}\n",
      "distance is:  0.46 distro is:  {'443': [0.3, 0.8], '8080': [0.3, 0.0], '22': [0.3, 0.1], '80': [0.1, 0.1]}\n",
      "distance is:  0.0 distro is:  {'443': [0.3, 0.3], '8080': [0.3, 0.3], '22': [0.3, 0.3], '80': [0.1, 0.1]}\n",
      "distance is:  0.61 distro is:  {'443': [0.3, 1.0], '8080': [0.3, 0.0], '22': [0.3, 0.0], '80': [0.1, 0.0]}\n",
      "distance is:  0.52 distro is:  {'443': [0.3, 0.0], '8080': [0.3, 0.1], '22': [0.3, 0.9], '80': [0.1, 0.0]}\n",
      "distance is:  0.65 distro is:  {'443': [0.3, 0.0], '8080': [0.3, 0.0], '22': [0.3, 0.0], '80': [0.1, 0.0], '9090': [0.0, 0.5], '21': [0.0, 0.5]}\n",
      "distance is:  0.18 distro is:  {'443': [1.0, 0.8], '22': [0.0, 0.1], '80': [0.0, 0.1]}\n",
      "distance is:  0.61 distro is:  {'443': [1.0, 0.3], '8080': [0.0, 0.3], '22': [0.0, 0.3], '80': [0.0, 0.1]}\n",
      "distance is:  0.0 distro is:  {'443': [1.0, 1.0]}\n",
      "distance is:  1.0 distro is:  {'443': [1.0, 0.0], '22': [0.0, 0.9], '8080': [0.0, 0.1]}\n",
      "distance is:  0.91 distro is:  {'443': [1.0, 0.0], '9090': [0.0, 0.5], '21': [0.0, 0.5]}\n",
      "distance is:  0.85 distro is:  {'22': [0.9, 0.1], '8080': [0.1, 0.0], '443': [0.0, 0.8], '80': [0.0, 0.1]}\n",
      "distance is:  0.52 distro is:  {'22': [0.9, 0.3], '8080': [0.1, 0.3], '443': [0.0, 0.3], '80': [0.0, 0.1]}\n",
      "distance is:  1.0 distro is:  {'22': [0.9, 0.0], '8080': [0.1, 0.0], '443': [0.0, 1.0]}\n",
      "distance is:  0.0 distro is:  {'22': [0.9, 0.9], '8080': [0.1, 0.1]}\n",
      "distance is:  0.85 distro is:  {'22': [0.9, 0.0], '8080': [0.1, 0.0], '9090': [0.0, 0.5], '21': [0.0, 0.5]}\n",
      "distance is:  0.8 distro is:  {'9090': [0.5, 0.0], '21': [0.5, 0.0], '443': [0.0, 0.8], '22': [0.0, 0.1], '80': [0.0, 0.1]}\n",
      "distance is:  0.65 distro is:  {'9090': [0.5, 0.0], '21': [0.5, 0.0], '443': [0.0, 0.3], '8080': [0.0, 0.3], '22': [0.0, 0.3], '80': [0.0, 0.1]}\n",
      "distance is:  0.91 distro is:  {'9090': [0.5, 0.0], '21': [0.5, 0.0], '443': [0.0, 1.0]}\n",
      "distance is:  0.85 distro is:  {'9090': [0.5, 0.0], '21': [0.5, 0.0], '22': [0.0, 0.9], '8080': [0.0, 0.1]}\n",
      "distance is:  0.0 distro is:  {'9090': [0.5, 0.5], '21': [0.5, 0.5]}\n"
     ]
    }
   ],
   "source": [
    "distro = []\n",
    "distro.append({'443' : 0.8, '22'  : 0.1, '80'  : 0.1})\n",
    "distro.append({'443' : 0.3, '8080' : 0.3, '22'  : 0.3, '80'  : 0.1})\n",
    "distro.append({'443' : 1.0})\n",
    "distro.append({'22' : 0.9, '8080' : 0.1})\n",
    "distro.append({'9090' : 0.5, '21' : 0.5})\n",
    "\n",
    "total_distro = []\n",
    "for i in range(5):\n",
    "    for j in range(5):\n",
    "        total_distro.append(aggregate_distro(distro[i], distro[j]))\n",
    "\n",
    "max_distance = 0\n",
    "distances = []\n",
    "for iter in total_distro:\n",
    "    distance = calculate_distance(me, iter)\n",
    "    distances.append([distance, iter])\n",
    "    if distance > max_distance:\n",
    "        max_distance = distance\n",
    "    \n",
    "normalized_distances = []\n",
    "for distance_iter in distances:\n",
    "    distance = distance_iter[0]\n",
    "    iter = distance_iter[1]\n",
    "    normalized_distance = distance / max_distance\n",
    "    normalized_distances.append([normalized_distance, iter])\n",
    "\n",
    "for normal_iter in normalized_distances:\n",
    "    print(\"distance is: \", round(normal_iter[0],2), \"distro is: \", normal_iter[1])"
   ]
  }
 ],
 "metadata": {
  "kernelspec": {
   "display_name": "Python 3 (ipykernel)",
   "language": "python",
   "name": "python3"
  },
  "language_info": {
   "codemirror_mode": {
    "name": "ipython",
    "version": 3
   },
   "file_extension": ".py",
   "mimetype": "text/x-python",
   "name": "python",
   "nbconvert_exporter": "python",
   "pygments_lexer": "ipython3",
   "version": "3.8.10"
  }
 },
 "nbformat": 4,
 "nbformat_minor": 5
}
