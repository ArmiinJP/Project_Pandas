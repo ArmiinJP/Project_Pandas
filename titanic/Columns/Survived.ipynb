{
 "cells": [
  {
   "cell_type": "code",
   "execution_count": 1,
   "id": "4e698dd6-537c-42b3-b0f1-be6bf733b141",
   "metadata": {},
   "outputs": [],
   "source": [
    "import pandas as pd"
   ]
  },
  {
   "cell_type": "code",
   "execution_count": 2,
   "id": "9a1c1f42-7a5a-407f-861c-d34b26fd98ce",
   "metadata": {},
   "outputs": [],
   "source": [
    "titanic = pd.read_csv('train.csv')\n",
    "t = titanic.set_index(['PassengerId'])\n",
    "pd.set_option('display.max_rows', None)"
   ]
  },
  {
   "cell_type": "code",
   "execution_count": 3,
   "id": "b6ee800f-7209-42ab-a548-9f753b2e7574",
   "metadata": {
    "scrolled": true
   },
   "outputs": [
    {
     "name": "stdout",
     "output_type": "stream",
     "text": [
      "Survived: 0, duplicate in 549 times\n",
      "\t\t\t67.76% tell Pclass is 3\n",
      "\t\t\t85.25% tell Sex is male\n",
      "\t\t\t22.77% tell Age is -1.0\n",
      "\t\t\t72.5% tell SibSp is 0\n",
      "\t\t\t81.06% tell Parch is 0\n",
      "\t\t\t1.28% tell Ticket is 347082\n",
      "\t\t\t6.92% tell Fare is 8.05\n",
      "\t\t\t87.61% tell Cabin is -1\n",
      "\t\t\t77.78% tell Embarked is S\n",
      "Survived: 1, duplicate in 342 times\n",
      "\t\t\t39.77% tell Pclass is 1\n",
      "\t\t\t68.13% tell Sex is female\n",
      "\t\t\t15.2% tell Age is -1.0\n",
      "\t\t\t61.4% tell SibSp is 0\n",
      "\t\t\t68.13% tell Parch is 0\n",
      "\t\t\t1.46% tell Ticket is 1601\n",
      "\t\t\t4.68% tell Fare is 13.0\n",
      "\t\t\t60.23% tell Cabin is -1\n",
      "\t\t\t63.45% tell Embarked is S\n"
     ]
    }
   ],
   "source": [
    "ff = t[t['Survived'].duplicated(keep=False)]['Survived'].value_counts()\n",
    "\n",
    "for i in ff.items():\n",
    "    print(f'Survived: {i[0]}, duplicate in {i[1]} times')\n",
    "    for column in t.columns:\n",
    "        if column in ['Name', 'Survived']:\n",
    "            continue\n",
    "        percent = round(t[t['Survived'] == i[0]].fillna(-1)[column].value_counts(normalize=True)*100, 2).max()\n",
    "        column_value = t[t['Survived'] == i[0]].fillna(-1)[column].value_counts().sort_values(ascending=False).head(1).index[0]\n",
    "        print(f'\\t\\t\\t{percent}% tell {column} is {column_value}')"
   ]
  },
  {
   "cell_type": "code",
   "execution_count": 4,
   "id": "23873d91-c7e1-4681-98dd-16a374e79695",
   "metadata": {
    "scrolled": true
   },
   "outputs": [
    {
     "name": "stdout",
     "output_type": "stream",
     "text": [
      "Survived: 0, duplicate in 549 times and 67.76% tell Pclass is 3\n",
      "Survived: 1, duplicate in 342 times and 39.77% tell Pclass is 1\n",
      "----------------------------------------------------------\n",
      "Survived: 0, duplicate in 549 times and 85.25% tell Sex is male\n",
      "Survived: 1, duplicate in 342 times and 68.13% tell Sex is female\n",
      "----------------------------------------------------------\n",
      "Survived: 0, duplicate in 549 times and 22.77% tell Age is -1.0\n",
      "Survived: 1, duplicate in 342 times and 15.2% tell Age is -1.0\n",
      "----------------------------------------------------------\n",
      "Survived: 0, duplicate in 549 times and 72.5% tell SibSp is 0\n",
      "Survived: 1, duplicate in 342 times and 61.4% tell SibSp is 0\n",
      "----------------------------------------------------------\n",
      "Survived: 0, duplicate in 549 times and 81.06% tell Parch is 0\n",
      "Survived: 1, duplicate in 342 times and 68.13% tell Parch is 0\n",
      "----------------------------------------------------------\n",
      "Survived: 0, duplicate in 549 times and 1.28% tell Ticket is 347082\n",
      "Survived: 1, duplicate in 342 times and 1.46% tell Ticket is 1601\n",
      "----------------------------------------------------------\n",
      "Survived: 0, duplicate in 549 times and 6.92% tell Fare is 8.05\n",
      "Survived: 1, duplicate in 342 times and 4.68% tell Fare is 13.0\n",
      "----------------------------------------------------------\n",
      "Survived: 0, duplicate in 549 times and 87.61% tell Cabin is -1\n",
      "Survived: 1, duplicate in 342 times and 60.23% tell Cabin is -1\n",
      "----------------------------------------------------------\n",
      "Survived: 0, duplicate in 549 times and 77.78% tell Embarked is S\n",
      "Survived: 1, duplicate in 342 times and 63.45% tell Embarked is S\n",
      "----------------------------------------------------------\n"
     ]
    }
   ],
   "source": [
    "ff = t[t['Survived'].duplicated(keep=False)]['Survived'].value_counts()\n",
    "\n",
    "for column in t.columns:\n",
    "    if column in ['Name', 'Survived']:\n",
    "        continue\n",
    "    for i in ff.items():\n",
    "        percent = round(t[t['Survived'] == i[0]].fillna(-1)[column].value_counts(normalize=True)*100, 2).max()\n",
    "        column_value = t[t['Survived'] == i[0]].fillna(-1)[column].value_counts().sort_values(ascending=False).head(1).index[0]\n",
    "        print(f'Survived: {i[0]}, duplicate in {i[1]} times and {percent}% tell {column} is {column_value}')\n",
    "    print(\"----------------------------------------------------------\")   \n"
   ]
  },
  {
   "cell_type": "code",
   "execution_count": 5,
   "id": "a83050d3-b24d-4ba1-88d9-a935d7fc8926",
   "metadata": {},
   "outputs": [
    {
     "name": "stdout",
     "output_type": "stream",
     "text": [
      "Pclass:    \t 57.01636363636365\n",
      "----------------------------------------------------------\n",
      "Sex:    \t 78.67868686868685\n",
      "----------------------------------------------------------\n",
      "Age:    \t 19.864343434343432\n",
      "----------------------------------------------------------\n",
      "SibSp:    \t 68.23939393939395\n",
      "----------------------------------------------------------\n",
      "Parch:    \t 76.0969696969697\n",
      "----------------------------------------------------------\n",
      "Ticket:    \t 1.3490909090909091\n",
      "----------------------------------------------------------\n",
      "Fare:    \t 6.06020202020202\n",
      "----------------------------------------------------------\n",
      "Cabin:    \t 77.10050505050505\n",
      "----------------------------------------------------------\n",
      "Embarked:    \t 72.27959595959597\n",
      "----------------------------------------------------------\n"
     ]
    }
   ],
   "source": [
    "ff = t[t['Survived'].duplicated(keep=False)]['Survived'].value_counts()\n",
    "\n",
    "for column in t.columns:\n",
    "    sum = 0\n",
    "    if column in ['Name', 'Survived']:\n",
    "        continue\n",
    "    for i in ff.items():\n",
    "        percent = round(t[t['Survived'] == i[0]].fillna(-1)[column].value_counts(normalize=True)*100, 2).max()\n",
    "        column_value = t[t['Survived'] == i[0]].fillna(-1)[column].value_counts().sort_values(ascending=False).head(1).index[0]\n",
    "        sum += i[1] * percent\n",
    "\n",
    "    print(f'{column}:    \\t', sum/ff.sum())\n",
    "    print(\"----------------------------------------------------------\")   "
   ]
  }
 ],
 "metadata": {
  "kernelspec": {
   "display_name": "Python 3 (ipykernel)",
   "language": "python",
   "name": "python3"
  },
  "language_info": {
   "codemirror_mode": {
    "name": "ipython",
    "version": 3
   },
   "file_extension": ".py",
   "mimetype": "text/x-python",
   "name": "python",
   "nbconvert_exporter": "python",
   "pygments_lexer": "ipython3",
   "version": "3.8.10"
  }
 },
 "nbformat": 4,
 "nbformat_minor": 5
}
