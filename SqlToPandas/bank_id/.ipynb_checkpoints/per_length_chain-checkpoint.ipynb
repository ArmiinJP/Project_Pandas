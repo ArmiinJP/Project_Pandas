{
 "cells": [
  {
   "cell_type": "markdown",
   "id": "ad21bc7c-cbb4-489d-829a-6d3f01cc665e",
   "metadata": {},
   "source": [
    "\n",
    "        select bank_id, wallet_nickname, swtc+swtv total, wight\n",
    "        from(\n",
    "            select bank_id, wallet_nickname, sum(wight) wight , sum(transaction_value) swtv, sum(transaction_cost) swtc\n",
    "            from(\n",
    "                select bank_id, wallet_nickname, sum(new_count) wight, transaction_cost, transaction_value\n",
    "                from(\n",
    "                    select *\n",
    "                    from(\n",
    "                        select bank_id, wallet_nickname,  count(count) new_count, transaction_cost, transaction_value\n",
    "                        from data_dataset\n",
    "                        where count = 0\n",
    "                        group by bank_id, wallet_nickname, transaction_cost, transaction_value) as b0\n",
    " \n",
    "                    union all\n",
    "                    select *\n",
    "                    from(\n",
    "                        select bank_id, wallet_nickname,  count new_count, transaction_cost, transaction_value\n",
    "                        from data_dataset\n",
    "                        where count != 0) as b1) as b2\n",
    "                group by bank_id, wallet_nickname, transaction_cost, transaction_value) as b3\n",
    "            group by bank_id, wallet_nickname) as b4\n",
    "            where bank_id = {{number_of_bankid}}\n",
    "            order by total desc"
   ]
  },
  {
   "cell_type": "code",
   "execution_count": 24,
   "id": "85db33a0-aff5-444b-8fa7-ff9406246eca",
   "metadata": {},
   "outputs": [],
   "source": [
    "import pandas as pd\n",
    "import numpy as np"
   ]
  },
  {
   "cell_type": "code",
   "execution_count": 35,
   "id": "3c15027c-6965-4962-92f4-6d74a65bbffe",
   "metadata": {},
   "outputs": [],
   "source": [
    "data = pd.read_csv('../../github_source/tranasaction_dataset.csv', parse_dates=['time_internal'])\n",
    "data = data.replace(np.nan,0)"
   ]
  },
  {
   "cell_type": "code",
   "execution_count": 36,
   "id": "171e921e-688e-4886-b762-5dee29ed65e3",
   "metadata": {},
   "outputs": [],
   "source": [
    "tmp_data = data[data['count'] == 0]\n",
    "dg1 = tmp_data.groupby(by=['bank_id', 'wallet_nickname', 'transaction_cost', 'transaction_value']).agg({'count': 'count'}).reset_index()"
   ]
  },
  {
   "cell_type": "code",
   "execution_count": 37,
   "id": "9f6e808e-300d-4162-92ff-c24386bdf4f1",
   "metadata": {},
   "outputs": [],
   "source": [
    "tmp_data2 = data[data['count'] != 0]\n",
    "dg2 = tmp_data2[['count', 'bank_id', 'wallet_nickname', 'transaction_cost', 'transaction_value']]"
   ]
  },
  {
   "cell_type": "code",
   "execution_count": 38,
   "id": "bbb8e3e0-6a95-45c3-b9f4-29d2c31c6411",
   "metadata": {},
   "outputs": [],
   "source": [
    "dg = pd.concat([dg1, dg2])"
   ]
  },
  {
   "cell_type": "code",
   "execution_count": 39,
   "id": "dc44a102-83e8-45a2-9b14-ec7a533d1be1",
   "metadata": {},
   "outputs": [],
   "source": [
    "dg = dg.groupby(by=['bank_id', 'wallet_nickname', 'transaction_cost', 'transaction_value']).agg({'count': 'sum'}).reset_index()"
   ]
  },
  {
   "cell_type": "code",
   "execution_count": 40,
   "id": "142bf1b5-96bc-43d0-93f6-6c3d53f722c8",
   "metadata": {},
   "outputs": [],
   "source": [
    "dg = dg.groupby(by=['bank_id', 'wallet_nickname']).agg({\n",
    "    'count' : 'sum',\n",
    "    'transaction_cost' : 'sum',\n",
    "    'transaction_value' : 'sum'\n",
    "}).reset_index()"
   ]
  },
  {
   "cell_type": "code",
   "execution_count": 41,
   "id": "509ca74f-56ed-4f93-b8f2-fea3e09c0ba2",
   "metadata": {},
   "outputs": [],
   "source": [
    "dg['total_value'] = dg['transaction_cost'] + dg['transaction_value']\n",
    "dg = dg.drop(['transaction_cost', 'transaction_value'], axis='columns')"
   ]
  },
  {
   "cell_type": "code",
   "execution_count": 42,
   "id": "6e9010db-9242-4427-9011-9eb724c5686f",
   "metadata": {},
   "outputs": [
    {
     "data": {
      "text/html": [
       "<div>\n",
       "<style scoped>\n",
       "    .dataframe tbody tr th:only-of-type {\n",
       "        vertical-align: middle;\n",
       "    }\n",
       "\n",
       "    .dataframe tbody tr th {\n",
       "        vertical-align: top;\n",
       "    }\n",
       "\n",
       "    .dataframe thead th {\n",
       "        text-align: right;\n",
       "    }\n",
       "</style>\n",
       "<table border=\"1\" class=\"dataframe\">\n",
       "  <thead>\n",
       "    <tr style=\"text-align: right;\">\n",
       "      <th></th>\n",
       "      <th>bank_id</th>\n",
       "      <th>wallet_nickname</th>\n",
       "      <th>count</th>\n",
       "      <th>total_value</th>\n",
       "    </tr>\n",
       "  </thead>\n",
       "  <tbody>\n",
       "    <tr>\n",
       "      <th>37208</th>\n",
       "      <td>13335</td>\n",
       "      <td>0</td>\n",
       "      <td>620329</td>\n",
       "      <td>57183974007</td>\n",
       "    </tr>\n",
       "    <tr>\n",
       "      <th>48274</th>\n",
       "      <td>13335</td>\n",
       "      <td>ed0c3917e9380b3</td>\n",
       "      <td>18147</td>\n",
       "      <td>502134277</td>\n",
       "    </tr>\n",
       "    <tr>\n",
       "      <th>43413</th>\n",
       "      <td>13335</td>\n",
       "      <td>862dcf18a22fc92</td>\n",
       "      <td>191</td>\n",
       "      <td>421625509</td>\n",
       "    </tr>\n",
       "    <tr>\n",
       "      <th>41281</th>\n",
       "      <td>13335</td>\n",
       "      <td>57b9945eac5a433</td>\n",
       "      <td>870</td>\n",
       "      <td>257120247</td>\n",
       "    </tr>\n",
       "    <tr>\n",
       "      <th>44417</th>\n",
       "      <td>13335</td>\n",
       "      <td>9a42b3c27007806</td>\n",
       "      <td>98</td>\n",
       "      <td>250447579</td>\n",
       "    </tr>\n",
       "    <tr>\n",
       "      <th>...</th>\n",
       "      <td>...</td>\n",
       "      <td>...</td>\n",
       "      <td>...</td>\n",
       "      <td>...</td>\n",
       "    </tr>\n",
       "    <tr>\n",
       "      <th>48044</th>\n",
       "      <td>13335</td>\n",
       "      <td>e7d740e79859f58</td>\n",
       "      <td>5</td>\n",
       "      <td>300</td>\n",
       "    </tr>\n",
       "    <tr>\n",
       "      <th>48303</th>\n",
       "      <td>13335</td>\n",
       "      <td>eda57da6176c589</td>\n",
       "      <td>1</td>\n",
       "      <td>300</td>\n",
       "    </tr>\n",
       "    <tr>\n",
       "      <th>45852</th>\n",
       "      <td>13335</td>\n",
       "      <td>b8344b280831256</td>\n",
       "      <td>1</td>\n",
       "      <td>300</td>\n",
       "    </tr>\n",
       "    <tr>\n",
       "      <th>37860</th>\n",
       "      <td>13335</td>\n",
       "      <td>0e5c226be7b95b4</td>\n",
       "      <td>2</td>\n",
       "      <td>300</td>\n",
       "    </tr>\n",
       "    <tr>\n",
       "      <th>38970</th>\n",
       "      <td>13335</td>\n",
       "      <td>26247a16670b7a3</td>\n",
       "      <td>1</td>\n",
       "      <td>300</td>\n",
       "    </tr>\n",
       "  </tbody>\n",
       "</table>\n",
       "<p>11976 rows × 4 columns</p>\n",
       "</div>"
      ],
      "text/plain": [
       "       bank_id  wallet_nickname   count  total_value\n",
       "37208    13335                0  620329  57183974007\n",
       "48274    13335  ed0c3917e9380b3   18147    502134277\n",
       "43413    13335  862dcf18a22fc92     191    421625509\n",
       "41281    13335  57b9945eac5a433     870    257120247\n",
       "44417    13335  9a42b3c27007806      98    250447579\n",
       "...        ...              ...     ...          ...\n",
       "48044    13335  e7d740e79859f58       5          300\n",
       "48303    13335  eda57da6176c589       1          300\n",
       "45852    13335  b8344b280831256       1          300\n",
       "37860    13335  0e5c226be7b95b4       2          300\n",
       "38970    13335  26247a16670b7a3       1          300\n",
       "\n",
       "[11976 rows x 4 columns]"
      ]
     },
     "execution_count": 42,
     "metadata": {},
     "output_type": "execute_result"
    }
   ],
   "source": [
    "your_bank_id = 13335\n",
    "dg[dg['bank_id'] == your_bank_id].sort_values('total_value', ascending=False)"
   ]
  }
 ],
 "metadata": {
  "kernelspec": {
   "display_name": "Python 3 (ipykernel)",
   "language": "python",
   "name": "python3"
  },
  "language_info": {
   "codemirror_mode": {
    "name": "ipython",
    "version": 3
   },
   "file_extension": ".py",
   "mimetype": "text/x-python",
   "name": "python",
   "nbconvert_exporter": "python",
   "pygments_lexer": "ipython3",
   "version": "3.8.10"
  }
 },
 "nbformat": 4,
 "nbformat_minor": 5
}
