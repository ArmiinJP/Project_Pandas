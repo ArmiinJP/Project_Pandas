{
 "cells": [
  {
   "cell_type": "code",
   "execution_count": 5,
   "id": "acb4edfe-ee69-485b-8282-e7d9ea772f19",
   "metadata": {},
   "outputs": [],
   "source": [
    "import numpy as np\n",
    "#import matplotlib.pyplot as plt\n",
    "import pandas as pd"
   ]
  },
  {
   "cell_type": "code",
   "execution_count": 185,
   "id": "6550ac0f-cdaf-4dcf-a1cb-cd5cdfd06517",
   "metadata": {},
   "outputs": [],
   "source": [
    "#path = \"https://archive.ics.uci.edu/ml/machine-learning-databases/iris/iris.data\"\n",
    "path ='../SqlToPandas/titanic/train.csv'\n",
    "path2 ='../SqlToPandas/titanic/test.csv'\n",
    "path3 ='../SqlToPandas/titanic/gender_submission.csv'"
   ]
  },
  {
   "cell_type": "code",
   "execution_count": 186,
   "id": "e52d3081-085a-45d8-bab0-f28938103ceb",
   "metadata": {},
   "outputs": [],
   "source": [
    "dataset_x_y_train = pd.read_csv(path)\n",
    "dataset_x_test = pd.read_csv(path2)\n",
    "dataset_y_test = pd.read_csv(path3)"
   ]
  },
  {
   "cell_type": "code",
   "execution_count": 187,
   "id": "5efd2668-a457-4cc0-8fe5-bce5c5e24c36",
   "metadata": {},
   "outputs": [],
   "source": [
    "dataset_x_y_test = dataset_y_test.merge(dataset_x_test, on='PassengerId')\n",
    "# dataset_x_y_train = pd.read_csv(path)\n",
    "# dataset_x_test = pd.read_csv(path2)\n",
    "# dataset_y_test = pd.read_csv(path3)\n",
    "# dataset_x_test\n",
    "# dg = pd.concat([dg1, dg2])"
   ]
  },
  {
   "cell_type": "code",
   "execution_count": 188,
   "id": "19234080-9880-454b-bb53-61f541be4eaa",
   "metadata": {},
   "outputs": [],
   "source": [
    "dataset = pd.concat([dataset_x_y_test, dataset_x_y_train])"
   ]
  },
  {
   "cell_type": "code",
   "execution_count": 189,
   "id": "73574178-3864-41b2-a58a-9d67657c3f78",
   "metadata": {},
   "outputs": [],
   "source": [
    "dataset['Sex'] = dataset['Sex'].astype('category')\n",
    "dataset['Cabin'] = dataset['Cabin'].astype('category')\n",
    "dataset['Ticket'] = dataset['Ticket'].astype('category')\n",
    "dataset['Embarked'] = dataset['Embarked'].astype('category')\n",
    "dataset['Name'] = dataset['Name'].astype('category')\n",
    "\n",
    "dataset['Sex'] = dataset['Sex'].cat.codes\n",
    "dataset['Cabin'] = dataset['Cabin'].cat.codes\n",
    "dataset['Ticket'] = dataset['Ticket'].cat.codes\n",
    "dataset['Embarked'] = dataset['Embarked'].cat.codes\n",
    "dataset['Name'] = dataset['Name'].cat.codes"
   ]
  },
  {
   "cell_type": "code",
   "execution_count": 190,
   "id": "4c58b97d-2104-47d1-bf15-c7a5d2c0d613",
   "metadata": {},
   "outputs": [
    {
     "data": {
      "text/plain": [
       "[]"
      ]
     },
     "execution_count": 190,
     "metadata": {},
     "output_type": "execute_result"
    }
   ],
   "source": [
    "dataset['Age'] = dataset['Age'].fillna(-1)\n",
    "dataset['Fare'] = dataset['Fare'].fillna(-1)\n",
    "dataset.columns[dataset.isnull().any()].tolist()"
   ]
  },
  {
   "cell_type": "code",
   "execution_count": 191,
   "id": "cda0c6b5-0b15-413a-8c59-c0dc85eee085",
   "metadata": {},
   "outputs": [],
   "source": [
    "dataset = dataset.sort_values(['PassengerId'])\n",
    "dataset = dataset.reindex(columns=['PassengerId', 'Pclass', 'Name', 'Sex', 'Age', 'SibSp', 'Parch', 'Ticket', 'Fare', 'Cabin', 'Embarked', 'Survived'])"
   ]
  },
  {
   "cell_type": "code",
   "execution_count": 219,
   "id": "6b8e9c15-99cf-4fae-bdec-08743f41c219",
   "metadata": {},
   "outputs": [],
   "source": [
    "x = dataset.iloc[:891, :-1].values\n",
    "y = dataset.iloc[:891, 11].values\n",
    "x_train = pd.DataFrame(x, columns=['PassengerId', 'Pclass', 'Name', 'Sex', 'Age', 'SibSp', 'Parch', 'Ticket', 'Fare', 'Cabin', 'Embarked'])\n",
    "y_train = pd.DataFrame(y, columns=['Survived']).squeeze('columns')"
   ]
  },
  {
   "cell_type": "code",
   "execution_count": 220,
   "id": "25ff761b-fbbc-4ff2-bda9-6f8f6ed82250",
   "metadata": {},
   "outputs": [],
   "source": [
    "x = dataset.iloc[891:, :-1].values\n",
    "y = dataset.iloc[891:, 11].values\n",
    "x_test = pd.DataFrame(x, columns=['PassengerId', 'Pclass', 'Name', 'Sex', 'Age', 'SibSp', 'Parch', 'Ticket', 'Fare', 'Cabin', 'Embarked'])\n",
    "y_test = pd.DataFrame(y, columns=['Survived']).squeeze('columns')"
   ]
  },
  {
   "cell_type": "code",
   "execution_count": 221,
   "id": "215c92bd-92ec-4ac6-a6ef-4c1e176d20b2",
   "metadata": {},
   "outputs": [],
   "source": [
    "# from sklearn.model_selection import train_test_split\n",
    "# x_train, x_test, y_train, y_test = train_test_split(x, y, test_size = 0.0)"
   ]
  },
  {
   "cell_type": "code",
   "execution_count": 435,
   "id": "75d98947-82dd-4699-b86e-d17a6c168b2b",
   "metadata": {},
   "outputs": [
    {
     "data": {
      "text/html": [
       "<style>#sk-container-id-75 {color: black;}#sk-container-id-75 pre{padding: 0;}#sk-container-id-75 div.sk-toggleable {background-color: white;}#sk-container-id-75 label.sk-toggleable__label {cursor: pointer;display: block;width: 100%;margin-bottom: 0;padding: 0.3em;box-sizing: border-box;text-align: center;}#sk-container-id-75 label.sk-toggleable__label-arrow:before {content: \"▸\";float: left;margin-right: 0.25em;color: #696969;}#sk-container-id-75 label.sk-toggleable__label-arrow:hover:before {color: black;}#sk-container-id-75 div.sk-estimator:hover label.sk-toggleable__label-arrow:before {color: black;}#sk-container-id-75 div.sk-toggleable__content {max-height: 0;max-width: 0;overflow: hidden;text-align: left;background-color: #f0f8ff;}#sk-container-id-75 div.sk-toggleable__content pre {margin: 0.2em;color: black;border-radius: 0.25em;background-color: #f0f8ff;}#sk-container-id-75 input.sk-toggleable__control:checked~div.sk-toggleable__content {max-height: 200px;max-width: 100%;overflow: auto;}#sk-container-id-75 input.sk-toggleable__control:checked~label.sk-toggleable__label-arrow:before {content: \"▾\";}#sk-container-id-75 div.sk-estimator input.sk-toggleable__control:checked~label.sk-toggleable__label {background-color: #d4ebff;}#sk-container-id-75 div.sk-label input.sk-toggleable__control:checked~label.sk-toggleable__label {background-color: #d4ebff;}#sk-container-id-75 input.sk-hidden--visually {border: 0;clip: rect(1px 1px 1px 1px);clip: rect(1px, 1px, 1px, 1px);height: 1px;margin: -1px;overflow: hidden;padding: 0;position: absolute;width: 1px;}#sk-container-id-75 div.sk-estimator {font-family: monospace;background-color: #f0f8ff;border: 1px dotted black;border-radius: 0.25em;box-sizing: border-box;margin-bottom: 0.5em;}#sk-container-id-75 div.sk-estimator:hover {background-color: #d4ebff;}#sk-container-id-75 div.sk-parallel-item::after {content: \"\";width: 100%;border-bottom: 1px solid gray;flex-grow: 1;}#sk-container-id-75 div.sk-label:hover label.sk-toggleable__label {background-color: #d4ebff;}#sk-container-id-75 div.sk-serial::before {content: \"\";position: absolute;border-left: 1px solid gray;box-sizing: border-box;top: 0;bottom: 0;left: 50%;z-index: 0;}#sk-container-id-75 div.sk-serial {display: flex;flex-direction: column;align-items: center;background-color: white;padding-right: 0.2em;padding-left: 0.2em;position: relative;}#sk-container-id-75 div.sk-item {position: relative;z-index: 1;}#sk-container-id-75 div.sk-parallel {display: flex;align-items: stretch;justify-content: center;background-color: white;position: relative;}#sk-container-id-75 div.sk-item::before, #sk-container-id-75 div.sk-parallel-item::before {content: \"\";position: absolute;border-left: 1px solid gray;box-sizing: border-box;top: 0;bottom: 0;left: 50%;z-index: -1;}#sk-container-id-75 div.sk-parallel-item {display: flex;flex-direction: column;z-index: 1;position: relative;background-color: white;}#sk-container-id-75 div.sk-parallel-item:first-child::after {align-self: flex-end;width: 50%;}#sk-container-id-75 div.sk-parallel-item:last-child::after {align-self: flex-start;width: 50%;}#sk-container-id-75 div.sk-parallel-item:only-child::after {width: 0;}#sk-container-id-75 div.sk-dashed-wrapped {border: 1px dashed gray;margin: 0 0.4em 0.5em 0.4em;box-sizing: border-box;padding-bottom: 0.4em;background-color: white;}#sk-container-id-75 div.sk-label label {font-family: monospace;font-weight: bold;display: inline-block;line-height: 1.2em;}#sk-container-id-75 div.sk-label-container {text-align: center;}#sk-container-id-75 div.sk-container {/* jupyter's `normalize.less` sets `[hidden] { display: none; }` but bootstrap.min.css set `[hidden] { display: none !important; }` so we also need the `!important` here to be able to override the default hidden behavior on the sphinx rendered scikit-learn.org. See: https://github.com/scikit-learn/scikit-learn/issues/21755 */display: inline-block !important;position: relative;}#sk-container-id-75 div.sk-text-repr-fallback {display: none;}</style><div id=\"sk-container-id-75\" class=\"sk-top-container\"><div class=\"sk-text-repr-fallback\"><pre>RandomForestClassifier(n_estimators=66)</pre><b>In a Jupyter environment, please rerun this cell to show the HTML representation or trust the notebook. <br />On GitHub, the HTML representation is unable to render, please try loading this page with nbviewer.org.</b></div><div class=\"sk-container\" hidden><div class=\"sk-item\"><div class=\"sk-estimator sk-toggleable\"><input class=\"sk-toggleable__control sk-hidden--visually\" id=\"sk-estimator-id-75\" type=\"checkbox\" checked><label for=\"sk-estimator-id-75\" class=\"sk-toggleable__label sk-toggleable__label-arrow\">RandomForestClassifier</label><div class=\"sk-toggleable__content\"><pre>RandomForestClassifier(n_estimators=66)</pre></div></div></div></div></div>"
      ],
      "text/plain": [
       "RandomForestClassifier(n_estimators=66)"
      ]
     },
     "execution_count": 435,
     "metadata": {},
     "output_type": "execute_result"
    }
   ],
   "source": [
    "from sklearn.ensemble import RandomForestClassifier\n",
    "classifier = RandomForestClassifier(n_estimators = 66)\n",
    "classifier.fit(x_train, y_train)"
   ]
  },
  {
   "cell_type": "code",
   "execution_count": 436,
   "id": "4de94046-1f1d-4555-96cf-64e0ca88df6e",
   "metadata": {},
   "outputs": [],
   "source": [
    "y_pred = classifier.predict(x_test)"
   ]
  },
  {
   "cell_type": "code",
   "execution_count": 437,
   "id": "30600743-eb43-4dde-ac53-a83a0bba1ed6",
   "metadata": {},
   "outputs": [
    {
     "name": "stdout",
     "output_type": "stream",
     "text": [
      "Confusion Matrix:\n",
      "[[238  28]\n",
      " [ 40 112]]\n",
      "Classification Report:\n",
      "              precision    recall  f1-score   support\n",
      "\n",
      "           0       0.86      0.89      0.87       266\n",
      "           1       0.80      0.74      0.77       152\n",
      "\n",
      "    accuracy                           0.84       418\n",
      "   macro avg       0.83      0.82      0.82       418\n",
      "weighted avg       0.84      0.84      0.84       418\n",
      "\n",
      "Accuracy: 0.8373205741626795\n"
     ]
    }
   ],
   "source": [
    "from sklearn.metrics import classification_report, confusion_matrix, accuracy_score\n",
    "result = confusion_matrix(y_test, y_pred)\n",
    "print(\"Confusion Matrix:\")\n",
    "print(result)\n",
    "result1 = classification_report(y_test, y_pred)\n",
    "print(\"Classification Report:\",)\n",
    "print (result1)\n",
    "result2 = accuracy_score(y_test,y_pred)\n",
    "print(\"Accuracy:\",result2)"
   ]
  }
 ],
 "metadata": {
  "kernelspec": {
   "display_name": "Python 3 (ipykernel)",
   "language": "python",
   "name": "python3"
  },
  "language_info": {
   "codemirror_mode": {
    "name": "ipython",
    "version": 3
   },
   "file_extension": ".py",
   "mimetype": "text/x-python",
   "name": "python",
   "nbconvert_exporter": "python",
   "pygments_lexer": "ipython3",
   "version": "3.8.10"
  }
 },
 "nbformat": 4,
 "nbformat_minor": 5
}
