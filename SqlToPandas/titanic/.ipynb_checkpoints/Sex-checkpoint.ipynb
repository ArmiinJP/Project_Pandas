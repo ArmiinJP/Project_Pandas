{
 "cells": [
  {
   "cell_type": "code",
   "execution_count": 1,
   "id": "20a85e1a-410f-4e1e-8259-2e80b650356a",
   "metadata": {},
   "outputs": [],
   "source": [
    "import pandas as pd"
   ]
  },
  {
   "cell_type": "code",
   "execution_count": 2,
   "id": "befa767f-72d0-4da7-a5c8-08c20db91a93",
   "metadata": {},
   "outputs": [],
   "source": [
    "titanic = pd.read_csv('train.csv')\n",
    "t = titanic.set_index(['PassengerId'])\n",
    "pd.set_option('display.max_rows', None)"
   ]
  },
  {
   "cell_type": "code",
   "execution_count": 3,
   "id": "ddfaf1fc-d815-410f-93ef-50f53c5bc6ba",
   "metadata": {
    "scrolled": true
   },
   "outputs": [
    {
     "name": "stdout",
     "output_type": "stream",
     "text": [
      "Sex: male, duplicate in 577 times\n",
      "\t\t\t81.11% tell Survived is 0\n",
      "\t\t\t60.14% tell Pclass is 3\n",
      "\t\t\t21.49% tell Age is -1.0\n",
      "\t\t\t75.22% tell SibSp is 0\n",
      "\t\t\t83.88% tell Parch is 0\n",
      "\t\t\t1.21% tell Ticket is 1601\n",
      "\t\t\t7.11% tell Fare is 8.05\n",
      "\t\t\t81.46% tell Cabin is -1\n",
      "\t\t\t76.43% tell Embarked is S\n",
      "Sex: female, duplicate in 314 times\n",
      "\t\t\t74.2% tell Survived is 1\n",
      "\t\t\t45.86% tell Pclass is 3\n",
      "\t\t\t16.88% tell Age is -1.0\n",
      "\t\t\t55.41% tell SibSp is 0\n",
      "\t\t\t61.78% tell Parch is 0\n",
      "\t\t\t1.59% tell Ticket is 347082\n",
      "\t\t\t4.78% tell Fare is 7.75\n",
      "\t\t\t69.11% tell Cabin is -1\n",
      "\t\t\t64.65% tell Embarked is S\n"
     ]
    }
   ],
   "source": [
    "ff = t[t['Sex'].duplicated(keep=False)]['Sex'].value_counts()\n",
    "\n",
    "for i in ff.items():\n",
    "    print(f'Sex: {i[0]}, duplicate in {i[1]} times')\n",
    "    for column in t.columns:\n",
    "        if column in ['Name', 'Sex']:\n",
    "            continue\n",
    "        percent = round(t[t['Sex'] == i[0]].fillna(-1)[column].value_counts(normalize=True)*100, 2).max()\n",
    "        column_value = t[t['Sex'] == i[0]].fillna(-1)[column].value_counts().sort_values(ascending=False).head(1).index[0]\n",
    "        print(f'\\t\\t\\t{percent}% tell {column} is {column_value}')"
   ]
  },
  {
   "cell_type": "code",
   "execution_count": 4,
   "id": "3941856b-9a79-4faa-9931-a6ee0bf7a1c8",
   "metadata": {
    "scrolled": true
   },
   "outputs": [
    {
     "name": "stdout",
     "output_type": "stream",
     "text": [
      "Sex: male, duplicate in 577 times and 81.11% tell Survived is 0\n",
      "Sex: female, duplicate in 314 times and 74.2% tell Survived is 1\n",
      "----------------------------------------------------------\n",
      "Sex: male, duplicate in 577 times and 60.14% tell Pclass is 3\n",
      "Sex: female, duplicate in 314 times and 45.86% tell Pclass is 3\n",
      "----------------------------------------------------------\n",
      "Sex: male, duplicate in 577 times and 21.49% tell Age is -1.0\n",
      "Sex: female, duplicate in 314 times and 16.88% tell Age is -1.0\n",
      "----------------------------------------------------------\n",
      "Sex: male, duplicate in 577 times and 75.22% tell SibSp is 0\n",
      "Sex: female, duplicate in 314 times and 55.41% tell SibSp is 0\n",
      "----------------------------------------------------------\n",
      "Sex: male, duplicate in 577 times and 83.88% tell Parch is 0\n",
      "Sex: female, duplicate in 314 times and 61.78% tell Parch is 0\n",
      "----------------------------------------------------------\n",
      "Sex: male, duplicate in 577 times and 1.21% tell Ticket is 1601\n",
      "Sex: female, duplicate in 314 times and 1.59% tell Ticket is 347082\n",
      "----------------------------------------------------------\n",
      "Sex: male, duplicate in 577 times and 7.11% tell Fare is 8.05\n",
      "Sex: female, duplicate in 314 times and 4.78% tell Fare is 7.75\n",
      "----------------------------------------------------------\n",
      "Sex: male, duplicate in 577 times and 81.46% tell Cabin is -1\n",
      "Sex: female, duplicate in 314 times and 69.11% tell Cabin is -1\n",
      "----------------------------------------------------------\n",
      "Sex: male, duplicate in 577 times and 76.43% tell Embarked is S\n",
      "Sex: female, duplicate in 314 times and 64.65% tell Embarked is S\n",
      "----------------------------------------------------------\n"
     ]
    }
   ],
   "source": [
    "ff = t[t['Sex'].duplicated(keep=False)]['Sex'].value_counts()\n",
    "\n",
    "for column in t.columns:\n",
    "    if column in ['Name', 'Sex']:\n",
    "        continue\n",
    "    for i in ff.items():\n",
    "        percent = round(t[t['Sex'] == i[0]].fillna(-1)[column].value_counts(normalize=True)*100, 2).max()\n",
    "        column_value = t[t['Sex'] == i[0]].fillna(-1)[column].value_counts().sort_values(ascending=False).head(1).index[0]\n",
    "        print(f'Sex: {i[0]}, duplicate in {i[1]} times and {percent}% tell {column} is {column_value}')\n",
    "    print(\"----------------------------------------------------------\")   \n"
   ]
  },
  {
   "cell_type": "code",
   "execution_count": 5,
   "id": "8dd499fa-7970-422e-9048-ec92e64cfd9d",
   "metadata": {},
   "outputs": [
    {
     "name": "stdout",
     "output_type": "stream",
     "text": [
      "Survived:    \t 78.67482603815938\n",
      "----------------------------------------------------------\n",
      "Pclass:    \t 55.107542087542086\n",
      "----------------------------------------------------------\n",
      "Age:    \t 19.865375982042647\n",
      "----------------------------------------------------------\n",
      "SibSp:    \t 68.23869809203143\n",
      "----------------------------------------------------------\n",
      "Parch:    \t 76.09167227833893\n",
      "----------------------------------------------------------\n",
      "Ticket:    \t 1.3439169472502805\n",
      "----------------------------------------------------------\n",
      "Fare:    \t 6.288877665544333\n",
      "----------------------------------------------------------\n",
      "Cabin:    \t 77.10769921436587\n",
      "----------------------------------------------------------\n",
      "Embarked:    \t 72.27857463524131\n",
      "----------------------------------------------------------\n"
     ]
    }
   ],
   "source": [
    "ff = t[t['Sex'].duplicated(keep=False)]['Sex'].value_counts()\n",
    "\n",
    "for column in t.columns:\n",
    "    sum = 0\n",
    "    if column in ['Name', 'Sex']:\n",
    "        continue\n",
    "    for i in ff.items():\n",
    "        percent = round(t[t['Sex'] == i[0]].fillna(-1)[column].value_counts(normalize=True)*100, 2).max()\n",
    "        column_value = t[t['Sex'] == i[0]].fillna(-1)[column].value_counts().sort_values(ascending=False).head(1).index[0]\n",
    "        sum += i[1] * percent\n",
    "\n",
    "    print(f'{column}:    \\t', sum/ff.sum())\n",
    "    print(\"----------------------------------------------------------\")   "
   ]
  }
 ],
 "metadata": {
  "kernelspec": {
   "display_name": "Python 3 (ipykernel)",
   "language": "python",
   "name": "python3"
  },
  "language_info": {
   "codemirror_mode": {
    "name": "ipython",
    "version": 3
   },
   "file_extension": ".py",
   "mimetype": "text/x-python",
   "name": "python",
   "nbconvert_exporter": "python",
   "pygments_lexer": "ipython3",
   "version": "3.8.10"
  }
 },
 "nbformat": 4,
 "nbformat_minor": 5
}
