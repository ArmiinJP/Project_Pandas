{
 "cells": [
  {
   "cell_type": "markdown",
   "id": "e5dd00e5-9c78-41e8-bafb-64e5f893ac37",
   "metadata": {},
   "source": [
    "\n",
    "        select bank_id, transaction_type_chain, swtc+swtv total, wight\n",
    "        from(\n",
    "            select bank_id, transaction_type_chain, sum(wight) wight , sum(transaction_value) swtv, sum(transaction_cost) swtc\n",
    "            from(\n",
    "                select bank_id, transaction_type_chain, sum(new_count) wight, transaction_cost, transaction_value\n",
    "                from(\n",
    "                    select *\n",
    "                    from(\n",
    "                        select bank_id, transaction_type_chain,  count(count) new_count, transaction_cost, transaction_value\n",
    "                        from (select unnest(string_to_array(transaction_type_chain, ';')) transaction_type_chain, dest_wallet_id, bank_id, transaction_cost, transaction_value, transaction_gateway_id, count, transaction_type, wallet_nickname, time_internal from data_dataset) as newdataset\n",
    "                        where count = 0\n",
    "                        group by bank_id, transaction_type_chain, transaction_cost, transaction_value) as b0\n",
    " \n",
    "                    union all\n",
    "                    select *\n",
    "                    from(\n",
    "                        select bank_id, transaction_type_chain,  count new_count, transaction_cost, transaction_value\n",
    "                        from (select unnest(string_to_array(transaction_type_chain, ';')) transaction_type_chain, dest_wallet_id, bank_id, transaction_cost, transaction_value, transaction_gateway_id, count, transaction_type, wallet_nickname, time_internal from data_dataset) as newdataset\n",
    "                        where count != 0) as b1) as b2\n",
    "                group by bank_id, transaction_type_chain, transaction_cost, transaction_value) as b3\n",
    "            group by bank_id, transaction_type_chain) as b4\n",
    "            where bank_id = {{number_of_bank_id}}\n",
    "            order by total desc\n",
    "            "
   ]
  },
  {
   "cell_type": "code",
   "execution_count": 1,
   "id": "85db33a0-aff5-444b-8fa7-ff9406246eca",
   "metadata": {},
   "outputs": [],
   "source": [
    "import pandas as pd\n",
    "import numpy as np"
   ]
  },
  {
   "cell_type": "code",
   "execution_count": 2,
   "id": "3c15027c-6965-4962-92f4-6d74a65bbffe",
   "metadata": {},
   "outputs": [],
   "source": [
    "data = pd.read_csv('../../github_source/tranasaction_dataset.csv', parse_dates=['time_internal'])\n",
    "data = data.replace(np.nan,0)\n",
    "data['subchain'] = data['transaction_type_chain'].str.split(';')\n",
    "data = data.drop(['transaction_type_chain'], axis='columns')\n",
    "data = data.explode('subchain')"
   ]
  },
  {
   "cell_type": "code",
   "execution_count": 3,
   "id": "171e921e-688e-4886-b762-5dee29ed65e3",
   "metadata": {},
   "outputs": [],
   "source": [
    "tmp_data = data[data['count'] == 0]\n",
    "tmp_data\n",
    "dg1 = tmp_data.groupby(by=['bank_id', 'subchain', 'transaction_cost', 'transaction_value']).agg({'count': 'count'}).reset_index()"
   ]
  },
  {
   "cell_type": "code",
   "execution_count": 4,
   "id": "9f6e808e-300d-4162-92ff-c24386bdf4f1",
   "metadata": {},
   "outputs": [],
   "source": [
    "tmp_data2 = data[data['count'] != 0]\n",
    "dg2 = tmp_data2[['count', 'bank_id', 'subchain', 'transaction_cost', 'transaction_value']]"
   ]
  },
  {
   "cell_type": "code",
   "execution_count": 5,
   "id": "bbb8e3e0-6a95-45c3-b9f4-29d2c31c6411",
   "metadata": {},
   "outputs": [],
   "source": [
    "dg = pd.concat([dg1, dg2])"
   ]
  },
  {
   "cell_type": "code",
   "execution_count": 6,
   "id": "dc44a102-83e8-45a2-9b14-ec7a533d1be1",
   "metadata": {},
   "outputs": [],
   "source": [
    "dg = dg.groupby(by=['bank_id', 'subchain', 'transaction_cost', 'transaction_value']).agg({'count': 'sum'}).reset_index()"
   ]
  },
  {
   "cell_type": "code",
   "execution_count": 8,
   "id": "cb72afd6-6411-4736-b10b-f0a096a1dcc9",
   "metadata": {},
   "outputs": [],
   "source": [
    "dg = dg.groupby(by=['bank_id', 'subchain']).agg({\n",
    "    'count' : 'sum',\n",
    "    'transaction_cost' : 'sum',\n",
    "    'transaction_value' : 'sum'\n",
    "}).reset_index()"
   ]
  },
  {
   "cell_type": "code",
   "execution_count": 9,
   "id": "2e4e46b7-a42c-49fe-9d0a-5e191075cfbd",
   "metadata": {},
   "outputs": [],
   "source": [
    "dg['total_value'] = dg['transaction_cost'] + dg['transaction_value']\n",
    "dg = dg.drop(['transaction_cost', 'transaction_value'], axis='columns')"
   ]
  },
  {
   "cell_type": "code",
   "execution_count": 10,
   "id": "e0451828-780f-4895-9f9d-54c719d7fc31",
   "metadata": {},
   "outputs": [
    {
     "data": {
      "text/html": [
       "<div>\n",
       "<style scoped>\n",
       "    .dataframe tbody tr th:only-of-type {\n",
       "        vertical-align: middle;\n",
       "    }\n",
       "\n",
       "    .dataframe tbody tr th {\n",
       "        vertical-align: top;\n",
       "    }\n",
       "\n",
       "    .dataframe thead th {\n",
       "        text-align: right;\n",
       "    }\n",
       "</style>\n",
       "<table border=\"1\" class=\"dataframe\">\n",
       "  <thead>\n",
       "    <tr style=\"text-align: right;\">\n",
       "      <th></th>\n",
       "      <th>bank_id</th>\n",
       "      <th>subchain</th>\n",
       "      <th>count</th>\n",
       "      <th>total_value</th>\n",
       "    </tr>\n",
       "  </thead>\n",
       "  <tbody>\n",
       "    <tr>\n",
       "      <th>10951</th>\n",
       "      <td>13335</td>\n",
       "      <td>28392p</td>\n",
       "      <td>1219889</td>\n",
       "      <td>87522742252</td>\n",
       "    </tr>\n",
       "    <tr>\n",
       "      <th>10856</th>\n",
       "      <td>13335</td>\n",
       "      <td>27333m</td>\n",
       "      <td>1074711</td>\n",
       "      <td>87506400317</td>\n",
       "    </tr>\n",
       "    <tr>\n",
       "      <th>10950</th>\n",
       "      <td>13335</td>\n",
       "      <td>28391m</td>\n",
       "      <td>1085323</td>\n",
       "      <td>87506400317</td>\n",
       "    </tr>\n",
       "    <tr>\n",
       "      <th>10975</th>\n",
       "      <td>13335</td>\n",
       "      <td>28691p</td>\n",
       "      <td>1166458</td>\n",
       "      <td>84918569263</td>\n",
       "    </tr>\n",
       "    <tr>\n",
       "      <th>10984</th>\n",
       "      <td>13335</td>\n",
       "      <td>6s</td>\n",
       "      <td>1159733</td>\n",
       "      <td>67927028007</td>\n",
       "    </tr>\n",
       "    <tr>\n",
       "      <th>...</th>\n",
       "      <td>...</td>\n",
       "      <td>...</td>\n",
       "      <td>...</td>\n",
       "      <td>...</td>\n",
       "    </tr>\n",
       "    <tr>\n",
       "      <th>10912</th>\n",
       "      <td>13335</td>\n",
       "      <td>27848p</td>\n",
       "      <td>5</td>\n",
       "      <td>445</td>\n",
       "    </tr>\n",
       "    <tr>\n",
       "      <th>10911</th>\n",
       "      <td>13335</td>\n",
       "      <td>27848c</td>\n",
       "      <td>5</td>\n",
       "      <td>445</td>\n",
       "    </tr>\n",
       "    <tr>\n",
       "      <th>10811</th>\n",
       "      <td>13335</td>\n",
       "      <td>27027p</td>\n",
       "      <td>5</td>\n",
       "      <td>385</td>\n",
       "    </tr>\n",
       "    <tr>\n",
       "      <th>10908</th>\n",
       "      <td>13335</td>\n",
       "      <td>27811p</td>\n",
       "      <td>2</td>\n",
       "      <td>370</td>\n",
       "    </tr>\n",
       "    <tr>\n",
       "      <th>10889</th>\n",
       "      <td>13335</td>\n",
       "      <td>27480p</td>\n",
       "      <td>5</td>\n",
       "      <td>365</td>\n",
       "    </tr>\n",
       "  </tbody>\n",
       "</table>\n",
       "<p>218 rows × 4 columns</p>\n",
       "</div>"
      ],
      "text/plain": [
       "       bank_id subchain    count  total_value\n",
       "10951    13335   28392p  1219889  87522742252\n",
       "10856    13335   27333m  1074711  87506400317\n",
       "10950    13335   28391m  1085323  87506400317\n",
       "10975    13335   28691p  1166458  84918569263\n",
       "10984    13335       6s  1159733  67927028007\n",
       "...        ...      ...      ...          ...\n",
       "10912    13335   27848p        5          445\n",
       "10911    13335   27848c        5          445\n",
       "10811    13335   27027p        5          385\n",
       "10908    13335   27811p        2          370\n",
       "10889    13335   27480p        5          365\n",
       "\n",
       "[218 rows x 4 columns]"
      ]
     },
     "execution_count": 10,
     "metadata": {},
     "output_type": "execute_result"
    }
   ],
   "source": [
    "your_bank_id = 13335\n",
    "dg[dg['bank_id'] == your_bank_id].sort_values('total_value', ascending=False)"
   ]
  }
 ],
 "metadata": {
  "kernelspec": {
   "display_name": "Python 3 (ipykernel)",
   "language": "python",
   "name": "python3"
  },
  "language_info": {
   "codemirror_mode": {
    "name": "ipython",
    "version": 3
   },
   "file_extension": ".py",
   "mimetype": "text/x-python",
   "name": "python",
   "nbconvert_exporter": "python",
   "pygments_lexer": "ipython3",
   "version": "3.8.10"
  }
 },
 "nbformat": 4,
 "nbformat_minor": 5
}
