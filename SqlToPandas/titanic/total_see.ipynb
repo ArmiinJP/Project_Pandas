{
 "cells": [
  {
   "cell_type": "code",
   "execution_count": 1,
   "id": "90c02f34-09b9-4b2a-866f-9a81ddbe0ad7",
   "metadata": {},
   "outputs": [],
   "source": [
    "import pandas as pd"
   ]
  },
  {
   "cell_type": "code",
   "execution_count": 2,
   "id": "1aff5e54-4c40-4a19-8504-c8775a6d6047",
   "metadata": {},
   "outputs": [],
   "source": [
    "titanic = pd.read_csv('train.csv')\n",
    "t = titanic.set_index(['PassengerId'])"
   ]
  },
  {
   "cell_type": "code",
   "execution_count": 13,
   "id": "1d519d0a-9270-4244-bbd4-3ad3eefce3ac",
   "metadata": {},
   "outputs": [
    {
     "data": {
      "text/plain": [
       "Survived      2\n",
       "Pclass        3\n",
       "Name        891\n",
       "Sex           2\n",
       "Age          88\n",
       "SibSp         7\n",
       "Parch         7\n",
       "Ticket      681\n",
       "Fare        248\n",
       "Cabin       147\n",
       "Embarked      3\n",
       "dtype: int64"
      ]
     },
     "execution_count": 13,
     "metadata": {},
     "output_type": "execute_result"
    }
   ],
   "source": [
    "t.nunique()"
   ]
  },
  {
   "cell_type": "code",
   "execution_count": 53,
   "id": "7674e259-1cb5-4db3-ad44-57023621645a",
   "metadata": {
    "scrolled": true
   },
   "outputs": [
    {
     "data": {
      "text/plain": [
       "(array([0, 1]),\n",
       " '-------------------------------------',\n",
       " array([3, 1, 2]),\n",
       " '-------------------------------------',\n",
       " array(['male', 'female'], dtype=object),\n",
       " '-------------------------------------',\n",
       " array([1, 0, 3, 4, 2, 5, 8]),\n",
       " '-------------------------------------',\n",
       " array([0, 1, 2, 5, 3, 4, 6]),\n",
       " '-------------------------------------',\n",
       " array(['S', 'C', 'Q', nan], dtype=object),\n",
       " '-------------------------------------',\n",
       " array([22.  , 38.  , 26.  , 35.  ,   nan, 54.  ,  2.  , 27.  , 14.  ,\n",
       "         4.  , 58.  , 20.  , 39.  , 55.  , 31.  , 34.  , 15.  , 28.  ,\n",
       "         8.  , 19.  , 40.  , 66.  , 42.  , 21.  , 18.  ,  3.  ,  7.  ,\n",
       "        49.  , 29.  , 65.  , 28.5 ,  5.  , 11.  , 45.  , 17.  , 32.  ,\n",
       "        16.  , 25.  ,  0.83, 30.  , 33.  , 23.  , 24.  , 46.  , 59.  ,\n",
       "        71.  , 37.  , 47.  , 14.5 , 70.5 , 32.5 , 12.  ,  9.  , 36.5 ,\n",
       "        51.  , 55.5 , 40.5 , 44.  ,  1.  , 61.  , 56.  , 50.  , 36.  ,\n",
       "        45.5 , 20.5 , 62.  , 41.  , 52.  , 63.  , 23.5 ,  0.92, 43.  ,\n",
       "        60.  , 10.  , 64.  , 13.  , 48.  ,  0.75, 53.  , 57.  , 80.  ,\n",
       "        70.  , 24.5 ,  6.  ,  0.67, 30.5 ,  0.42, 34.5 , 74.  ]),\n",
       " '-------------------------------------',\n",
       " array([nan, 'C85', 'C123', 'E46', 'G6', 'C103', 'D56', 'A6',\n",
       "        'C23 C25 C27', 'B78', 'D33', 'B30', 'C52', 'B28', 'C83', 'F33',\n",
       "        'F G73', 'E31', 'A5', 'D10 D12', 'D26', 'C110', 'B58 B60', 'E101',\n",
       "        'F E69', 'D47', 'B86', 'F2', 'C2', 'E33', 'B19', 'A7', 'C49', 'F4',\n",
       "        'A32', 'B4', 'B80', 'A31', 'D36', 'D15', 'C93', 'C78', 'D35',\n",
       "        'C87', 'B77', 'E67', 'B94', 'C125', 'C99', 'C118', 'D7', 'A19',\n",
       "        'B49', 'D', 'C22 C26', 'C106', 'C65', 'E36', 'C54',\n",
       "        'B57 B59 B63 B66', 'C7', 'E34', 'C32', 'B18', 'C124', 'C91', 'E40',\n",
       "        'T', 'C128', 'D37', 'B35', 'E50', 'C82', 'B96 B98', 'E10', 'E44',\n",
       "        'A34', 'C104', 'C111', 'C92', 'E38', 'D21', 'E12', 'E63', 'A14',\n",
       "        'B37', 'C30', 'D20', 'B79', 'E25', 'D46', 'B73', 'C95', 'B38',\n",
       "        'B39', 'B22', 'C86', 'C70', 'A16', 'C101', 'C68', 'A10', 'E68',\n",
       "        'B41', 'A20', 'D19', 'D50', 'D9', 'A23', 'B50', 'A26', 'D48',\n",
       "        'E58', 'C126', 'B71', 'B51 B53 B55', 'D49', 'B5', 'B20', 'F G63',\n",
       "        'C62 C64', 'E24', 'C90', 'C45', 'E8', 'B101', 'D45', 'C46', 'D30',\n",
       "        'E121', 'D11', 'E77', 'F38', 'B3', 'D6', 'B82 B84', 'D17', 'A36',\n",
       "        'B102', 'B69', 'E49', 'C47', 'D28', 'E17', 'A24', 'C50', 'B42',\n",
       "        'C148'], dtype=object),\n",
       " '-------------------------------------',\n",
       " array([  7.25  ,  71.2833,   7.925 ,  53.1   ,   8.05  ,   8.4583,\n",
       "         51.8625,  21.075 ,  11.1333,  30.0708,  16.7   ,  26.55  ,\n",
       "         31.275 ,   7.8542,  16.    ,  29.125 ,  13.    ,  18.    ,\n",
       "          7.225 ,  26.    ,   8.0292,  35.5   ,  31.3875, 263.    ,\n",
       "          7.8792,   7.8958,  27.7208, 146.5208,   7.75  ,  10.5   ,\n",
       "         82.1708,  52.    ,   7.2292,  11.2417,   9.475 ,  21.    ,\n",
       "         41.5792,  15.5   ,  21.6792,  17.8   ,  39.6875,   7.8   ,\n",
       "         76.7292,  61.9792,  27.75  ,  46.9   ,  80.    ,  83.475 ,\n",
       "         27.9   ,  15.2458,   8.1583,   8.6625,  73.5   ,  14.4542,\n",
       "         56.4958,   7.65  ,  29.    ,  12.475 ,   9.    ,   9.5   ,\n",
       "          7.7875,  47.1   ,  15.85  ,  34.375 ,  61.175 ,  20.575 ,\n",
       "         34.6542,  63.3583,  23.    ,  77.2875,   8.6542,   7.775 ,\n",
       "         24.15  ,   9.825 ,  14.4583, 247.5208,   7.1417,  22.3583,\n",
       "          6.975 ,   7.05  ,  14.5   ,  15.0458,  26.2833,   9.2167,\n",
       "         79.2   ,   6.75  ,  11.5   ,  36.75  ,   7.7958,  12.525 ,\n",
       "         66.6   ,   7.3125,  61.3792,   7.7333,  69.55  ,  16.1   ,\n",
       "         15.75  ,  20.525 ,  55.    ,  25.925 ,  33.5   ,  30.6958,\n",
       "         25.4667,  28.7125,   0.    ,  15.05  ,  39.    ,  22.025 ,\n",
       "         50.    ,   8.4042,   6.4958,  10.4625,  18.7875,  31.    ,\n",
       "        113.275 ,  27.    ,  76.2917,  90.    ,   9.35  ,  13.5   ,\n",
       "          7.55  ,  26.25  ,  12.275 ,   7.125 ,  52.5542,  20.2125,\n",
       "         86.5   , 512.3292,  79.65  , 153.4625, 135.6333,  19.5   ,\n",
       "         29.7   ,  77.9583,  20.25  ,  78.85  ,  91.0792,  12.875 ,\n",
       "          8.85  , 151.55  ,  30.5   ,  23.25  ,  12.35  , 110.8833,\n",
       "        108.9   ,  24.    ,  56.9292,  83.1583, 262.375 ,  14.    ,\n",
       "        164.8667, 134.5   ,   6.2375,  57.9792,  28.5   , 133.65  ,\n",
       "         15.9   ,   9.225 ,  35.    ,  75.25  ,  69.3   ,  55.4417,\n",
       "        211.5   ,   4.0125, 227.525 ,  15.7417,   7.7292,  12.    ,\n",
       "        120.    ,  12.65  ,  18.75  ,   6.8583,  32.5   ,   7.875 ,\n",
       "         14.4   ,  55.9   ,   8.1125,  81.8583,  19.2583,  19.9667,\n",
       "         89.1042,  38.5   ,   7.725 ,  13.7917,   9.8375,   7.0458,\n",
       "          7.5208,  12.2875,   9.5875,  49.5042,  78.2667,  15.1   ,\n",
       "          7.6292,  22.525 ,  26.2875,  59.4   ,   7.4958,  34.0208,\n",
       "         93.5   , 221.7792, 106.425 ,  49.5   ,  71.    ,  13.8625,\n",
       "          7.8292,  39.6   ,  17.4   ,  51.4792,  26.3875,  30.    ,\n",
       "         40.125 ,   8.7125,  15.    ,  33.    ,  42.4   ,  15.55  ,\n",
       "         65.    ,  32.3208,   7.0542,   8.4333,  25.5875,   9.8417,\n",
       "          8.1375,  10.1708, 211.3375,  57.    ,  13.4167,   7.7417,\n",
       "          9.4833,   7.7375,   8.3625,  23.45  ,  25.9292,   8.6833,\n",
       "          8.5167,   7.8875,  37.0042,   6.45  ,   6.95  ,   8.3   ,\n",
       "          6.4375,  39.4   ,  14.1083,  13.8583,  50.4958,   5.    ,\n",
       "          9.8458,  10.5167]))"
      ]
     },
     "execution_count": 53,
     "metadata": {},
     "output_type": "execute_result"
    }
   ],
   "source": [
    "t['Survived'].unique() , \"-------------------------------------\", \\\n",
    "t['Pclass'].unique() , \"-------------------------------------\", \\\n",
    "t['Sex'].unique() , \"-------------------------------------\", \\\n",
    "t['SibSp'].unique() , \"-------------------------------------\", \\\n",
    "t['Parch'].unique() , \"-------------------------------------\", \\\n",
    "t['Embarked'].unique() , \"-------------------------------------\", \\\n",
    "t['Age'].unique() , \"-------------------------------------\", \\\n",
    "t['Cabin'].unique() , \"-------------------------------------\", \\\n",
    "t['Fare'].unique()"
   ]
  },
  {
   "cell_type": "code",
   "execution_count": 15,
   "id": "8d081b88-d508-45f0-9968-e7fea3417c6c",
   "metadata": {},
   "outputs": [
    {
     "data": {
      "text/html": [
       "<div>\n",
       "<style scoped>\n",
       "    .dataframe tbody tr th:only-of-type {\n",
       "        vertical-align: middle;\n",
       "    }\n",
       "\n",
       "    .dataframe tbody tr th {\n",
       "        vertical-align: top;\n",
       "    }\n",
       "\n",
       "    .dataframe thead th {\n",
       "        text-align: right;\n",
       "    }\n",
       "</style>\n",
       "<table border=\"1\" class=\"dataframe\">\n",
       "  <thead>\n",
       "    <tr style=\"text-align: right;\">\n",
       "      <th></th>\n",
       "      <th>Survived</th>\n",
       "      <th>Pclass</th>\n",
       "      <th>Age</th>\n",
       "      <th>SibSp</th>\n",
       "      <th>Parch</th>\n",
       "      <th>Fare</th>\n",
       "    </tr>\n",
       "  </thead>\n",
       "  <tbody>\n",
       "    <tr>\n",
       "      <th>count</th>\n",
       "      <td>891.000000</td>\n",
       "      <td>891.000000</td>\n",
       "      <td>714.000000</td>\n",
       "      <td>891.000000</td>\n",
       "      <td>891.000000</td>\n",
       "      <td>891.000000</td>\n",
       "    </tr>\n",
       "    <tr>\n",
       "      <th>mean</th>\n",
       "      <td>0.383838</td>\n",
       "      <td>2.308642</td>\n",
       "      <td>29.699118</td>\n",
       "      <td>0.523008</td>\n",
       "      <td>0.381594</td>\n",
       "      <td>32.204208</td>\n",
       "    </tr>\n",
       "    <tr>\n",
       "      <th>std</th>\n",
       "      <td>0.486592</td>\n",
       "      <td>0.836071</td>\n",
       "      <td>14.526497</td>\n",
       "      <td>1.102743</td>\n",
       "      <td>0.806057</td>\n",
       "      <td>49.693429</td>\n",
       "    </tr>\n",
       "    <tr>\n",
       "      <th>min</th>\n",
       "      <td>0.000000</td>\n",
       "      <td>1.000000</td>\n",
       "      <td>0.420000</td>\n",
       "      <td>0.000000</td>\n",
       "      <td>0.000000</td>\n",
       "      <td>0.000000</td>\n",
       "    </tr>\n",
       "    <tr>\n",
       "      <th>25%</th>\n",
       "      <td>0.000000</td>\n",
       "      <td>2.000000</td>\n",
       "      <td>20.125000</td>\n",
       "      <td>0.000000</td>\n",
       "      <td>0.000000</td>\n",
       "      <td>7.910400</td>\n",
       "    </tr>\n",
       "    <tr>\n",
       "      <th>50%</th>\n",
       "      <td>0.000000</td>\n",
       "      <td>3.000000</td>\n",
       "      <td>28.000000</td>\n",
       "      <td>0.000000</td>\n",
       "      <td>0.000000</td>\n",
       "      <td>14.454200</td>\n",
       "    </tr>\n",
       "    <tr>\n",
       "      <th>75%</th>\n",
       "      <td>1.000000</td>\n",
       "      <td>3.000000</td>\n",
       "      <td>38.000000</td>\n",
       "      <td>1.000000</td>\n",
       "      <td>0.000000</td>\n",
       "      <td>31.000000</td>\n",
       "    </tr>\n",
       "    <tr>\n",
       "      <th>max</th>\n",
       "      <td>1.000000</td>\n",
       "      <td>3.000000</td>\n",
       "      <td>80.000000</td>\n",
       "      <td>8.000000</td>\n",
       "      <td>6.000000</td>\n",
       "      <td>512.329200</td>\n",
       "    </tr>\n",
       "  </tbody>\n",
       "</table>\n",
       "</div>"
      ],
      "text/plain": [
       "         Survived      Pclass         Age       SibSp       Parch        Fare\n",
       "count  891.000000  891.000000  714.000000  891.000000  891.000000  891.000000\n",
       "mean     0.383838    2.308642   29.699118    0.523008    0.381594   32.204208\n",
       "std      0.486592    0.836071   14.526497    1.102743    0.806057   49.693429\n",
       "min      0.000000    1.000000    0.420000    0.000000    0.000000    0.000000\n",
       "25%      0.000000    2.000000   20.125000    0.000000    0.000000    7.910400\n",
       "50%      0.000000    3.000000   28.000000    0.000000    0.000000   14.454200\n",
       "75%      1.000000    3.000000   38.000000    1.000000    0.000000   31.000000\n",
       "max      1.000000    3.000000   80.000000    8.000000    6.000000  512.329200"
      ]
     },
     "execution_count": 15,
     "metadata": {},
     "output_type": "execute_result"
    }
   ],
   "source": [
    "t.describe()"
   ]
  },
  {
   "cell_type": "code",
   "execution_count": 16,
   "id": "331fc07d-3a6f-4584-8c0f-686417256cca",
   "metadata": {},
   "outputs": [
    {
     "name": "stdout",
     "output_type": "stream",
     "text": [
      "<class 'pandas.core.frame.DataFrame'>\n",
      "Index: 891 entries, 1 to 891\n",
      "Data columns (total 11 columns):\n",
      " #   Column    Non-Null Count  Dtype  \n",
      "---  ------    --------------  -----  \n",
      " 0   Survived  891 non-null    int64  \n",
      " 1   Pclass    891 non-null    int64  \n",
      " 2   Name      891 non-null    object \n",
      " 3   Sex       891 non-null    object \n",
      " 4   Age       714 non-null    float64\n",
      " 5   SibSp     891 non-null    int64  \n",
      " 6   Parch     891 non-null    int64  \n",
      " 7   Ticket    891 non-null    object \n",
      " 8   Fare      891 non-null    float64\n",
      " 9   Cabin     204 non-null    object \n",
      " 10  Embarked  889 non-null    object \n",
      "dtypes: float64(2), int64(4), object(5)\n",
      "memory usage: 83.5+ KB\n"
     ]
    }
   ],
   "source": [
    "t.info()"
   ]
  },
  {
   "cell_type": "markdown",
   "id": "776371dd-226f-4247-96db-a78b456da037",
   "metadata": {},
   "source": [
    "شمارش مقادیر خالی در هر ستون، همانطور که مشخص هست فقط ستون سن و کابین و محل سوار شدن دارای مقادیر خالی هستند"
   ]
  },
  {
   "cell_type": "code",
   "execution_count": 45,
   "id": "c0608051-9a6c-471a-b47e-3f9d3cd408e5",
   "metadata": {},
   "outputs": [
    {
     "data": {
      "text/plain": [
       "Survived      0\n",
       "Pclass        0\n",
       "Name          0\n",
       "Sex           0\n",
       "Age         177\n",
       "SibSp         0\n",
       "Parch         0\n",
       "Ticket        0\n",
       "Fare          0\n",
       "Cabin       687\n",
       "Embarked      2\n",
       "dtype: int64"
      ]
     },
     "execution_count": 45,
     "metadata": {},
     "output_type": "execute_result"
    }
   ],
   "source": [
    "t.isna().sum(axis=0)"
   ]
  },
  {
   "cell_type": "markdown",
   "id": "516992ae-b7c8-4e9b-863d-4a9b46e20a4f",
   "metadata": {},
   "source": [
    "توزیع ستون‌های مختلف"
   ]
  },
  {
   "cell_type": "code",
   "execution_count": 50,
   "id": "90a97714-f6fc-4643-a177-c8c7963092c0",
   "metadata": {
    "scrolled": true
   },
   "outputs": [
    {
     "data": {
      "text/plain": [
       "(Survived\n",
       " 0    61.62\n",
       " 1    38.38\n",
       " Name: proportion, dtype: float64,\n",
       " '-------------------------------------',\n",
       " Pclass\n",
       " 3    55.11\n",
       " 1    24.24\n",
       " 2    20.65\n",
       " Name: proportion, dtype: float64,\n",
       " '-------------------------------------',\n",
       " Sex\n",
       " male      64.76\n",
       " female    35.24\n",
       " Name: proportion, dtype: float64,\n",
       " '-------------------------------------',\n",
       " SibSp\n",
       " 0    68.24\n",
       " 1    23.46\n",
       " 2     3.14\n",
       " 4     2.02\n",
       " 3     1.80\n",
       " 8     0.79\n",
       " 5     0.56\n",
       " Name: proportion, dtype: float64,\n",
       " '-------------------------------------',\n",
       " Parch\n",
       " 0    76.09\n",
       " 1    13.24\n",
       " 2     8.98\n",
       " 5     0.56\n",
       " 3     0.56\n",
       " 4     0.45\n",
       " 6     0.11\n",
       " Name: proportion, dtype: float64,\n",
       " '-------------------------------------',\n",
       " Embarked\n",
       " S    72.44\n",
       " C    18.90\n",
       " Q     8.66\n",
       " Name: proportion, dtype: float64,\n",
       " '-------------------------------------',\n",
       " Ticket\n",
       " 347082      0.79\n",
       " CA. 2343    0.79\n",
       " 1601        0.79\n",
       " 3101295     0.67\n",
       " CA 2144     0.67\n",
       "             ... \n",
       " 9234        0.11\n",
       " 19988       0.11\n",
       " 2693        0.11\n",
       " PC 17612    0.11\n",
       " 370376      0.11\n",
       " Name: proportion, Length: 681, dtype: float64,\n",
       " '-------------------------------------',\n",
       " Age\n",
       " 24.00    4.20\n",
       " 22.00    3.78\n",
       " 18.00    3.64\n",
       " 19.00    3.50\n",
       " 28.00    3.50\n",
       "          ... \n",
       " 36.50    0.14\n",
       " 55.50    0.14\n",
       " 0.92     0.14\n",
       " 23.50    0.14\n",
       " 74.00    0.14\n",
       " Name: proportion, Length: 88, dtype: float64,\n",
       " '-------------------------------------',\n",
       " Cabin\n",
       " B96 B98        1.96\n",
       " G6             1.96\n",
       " C23 C25 C27    1.96\n",
       " C22 C26        1.47\n",
       " F33            1.47\n",
       "                ... \n",
       " E34            0.49\n",
       " C7             0.49\n",
       " C54            0.49\n",
       " E36            0.49\n",
       " C148           0.49\n",
       " Name: proportion, Length: 147, dtype: float64,\n",
       " '-------------------------------------',\n",
       " Fare\n",
       " 8.0500     4.83\n",
       " 13.0000    4.71\n",
       " 7.8958     4.26\n",
       " 7.7500     3.82\n",
       " 26.0000    3.48\n",
       "            ... \n",
       " 35.0000    0.11\n",
       " 28.5000    0.11\n",
       " 6.2375     0.11\n",
       " 14.0000    0.11\n",
       " 10.5167    0.11\n",
       " Name: proportion, Length: 248, dtype: float64)"
      ]
     },
     "execution_count": 50,
     "metadata": {},
     "output_type": "execute_result"
    }
   ],
   "source": [
    "round(t['Survived'].value_counts(normalize=True)*100, 2), \"-------------------------------------\", \\\n",
    "round(t['Pclass'].value_counts(normalize=True)*100, 2) , \"-------------------------------------\", \\\n",
    "round(t['Sex'].value_counts(normalize=True)*100, 2) , \"-------------------------------------\", \\\n",
    "round(t['SibSp'].value_counts(normalize=True)*100, 2) , \"-------------------------------------\", \\\n",
    "round(t['Parch'].value_counts(normalize=True)*100, 2) , \"-------------------------------------\", \\\n",
    "round(t['Embarked'].value_counts(normalize=True)*100, 2) , \"-------------------------------------\", \\\n",
    "round(t['Ticket'].value_counts(normalize=True)*100, 2) , \"-------------------------------------\", \\\n",
    "round(t['Age'].value_counts(normalize=True)*100, 2) , \"-------------------------------------\", \\\n",
    "round(t['Cabin'].value_counts(normalize=True)*100, 2) , \"-------------------------------------\", \\\n",
    "round(t['Fare'].value_counts(normalize=True)*100, 2)"
   ]
  },
  {
   "cell_type": "code",
   "execution_count": 1,
   "id": "d4c7ce25-b449-42f1-b37c-a46b9c037748",
   "metadata": {},
   "outputs": [],
   "source": [
    "# ts_cabin = ts[['Cabin']].dropna().drop_duplicates(subset=['Cabin']).sort_values(['Cabin'])\n",
    "# tns_cabin = tns[['Cabin']].dropna().drop_duplicates(subset=['Cabin']).sort_values(['Cabin'])\n",
    "# tns_cabin.sub(axis='columns')"
   ]
  },
  {
   "cell_type": "code",
   "execution_count": null,
   "id": "cc8e0ef7-d6d1-4d80-9277-12dc4bfa648d",
   "metadata": {},
   "outputs": [],
   "source": []
  }
 ],
 "metadata": {
  "kernelspec": {
   "display_name": "Python 3 (ipykernel)",
   "language": "python",
   "name": "python3"
  },
  "language_info": {
   "codemirror_mode": {
    "name": "ipython",
    "version": 3
   },
   "file_extension": ".py",
   "mimetype": "text/x-python",
   "name": "python",
   "nbconvert_exporter": "python",
   "pygments_lexer": "ipython3",
   "version": "3.10.10"
  }
 },
 "nbformat": 4,
 "nbformat_minor": 5
}
