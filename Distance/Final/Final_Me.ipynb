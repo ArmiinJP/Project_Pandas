{
 "cells": [
  {
   "cell_type": "code",
   "execution_count": 1,
   "id": "b5a261cf-5223-4f70-827e-31be4341b47a",
   "metadata": {},
   "outputs": [],
   "source": [
    "import warnings\n",
    "warnings.filterwarnings('ignore')"
   ]
  },
  {
   "cell_type": "code",
   "execution_count": 2,
   "id": "0e95f834-b6f4-4c10-818d-3b6322806f6f",
   "metadata": {},
   "outputs": [],
   "source": [
    "import pandas as pd\n",
    "import numpy as np\n",
    "import sklearn as sk\n",
    "import math"
   ]
  },
  {
   "cell_type": "code",
   "execution_count": 3,
   "id": "65682770-2499-4aa9-9f82-f7f9db999e95",
   "metadata": {},
   "outputs": [],
   "source": [
    "dist = pd.read_csv('../dist_data.csv', sep=';')"
   ]
  },
  {
   "cell_type": "code",
   "execution_count": 4,
   "id": "3a8cfa07-6a71-4b2c-89cc-2d8b28356122",
   "metadata": {},
   "outputs": [],
   "source": [
    "dist_clean = dist[dist['dist'] != \"[[], []]\"]"
   ]
  },
  {
   "cell_type": "code",
   "execution_count": 5,
   "id": "5cf057cf-652a-44d1-9a70-ef1cad0f05f0",
   "metadata": {},
   "outputs": [],
   "source": [
    "x = dist_clean.iloc[:, :-1].values\n",
    "y = dist_clean.iloc[:, 1].values"
   ]
  },
  {
   "cell_type": "code",
   "execution_count": 6,
   "id": "d1640004-950d-4e65-bca3-328047c43c7a",
   "metadata": {},
   "outputs": [],
   "source": [
    "from sklearn.model_selection import train_test_split\n",
    "x_train, x_test, y_train, y_test = train_test_split(x, y, test_size = 0.30)"
   ]
  },
  {
   "cell_type": "code",
   "execution_count": 8,
   "id": "1b587568-256c-4a5e-9231-fed8104aa58f",
   "metadata": {},
   "outputs": [],
   "source": [
    "# clean dist Database ( get x[i] and return dict)\n",
    "\n",
    "def clean_sample(sample):\n",
    "    sample_list = sample[0].replace(', [', '; [').split(';')\n",
    "    sample_x = sample_list[0]\n",
    "    sample_Px = sample_list[1]\n",
    "\n",
    "    sample_x_list = []\n",
    "    sample_Px_list = []\n",
    "    \n",
    "    for x in sample_x.split(','):\n",
    "        sample_x_list.append(x.replace(' ', '').replace('[', '').replace(']', ''))\n",
    "    for Px in sample_Px.split(','):\n",
    "        sample_Px_list.append(Px.replace(' ', '').replace('[', '').replace(']', ''))\n",
    "\n",
    "    dict_sample = {}\n",
    "    for i in range(len(sample_x_list)):\n",
    "        dict_sample[sample_x_list[i]] = sample_Px_list[i]\n",
    "    return dict_sample\n",
    "\n",
    "def preprocess_distros(distro1, distro2):\n",
    "    label_distance = []\n",
    "    for i, sample_x_test in enumerate(distro1):\n",
    "        #print(i)\n",
    "        label_pre_distro = []\n",
    "        for j, sample_x_train in enumerate(distro2):\n",
    "            #distro1_with_all.append(aggregate_distro(clean_sample(sample_x_test), clean_sample(sample_x_train)))\n",
    "            label_pre_distro.append([distro2_label[j], me(aggregate_distro(clean_sample(sample_x_test), clean_sample(sample_x_train)))])\n",
    "        label_distance.append(label_pre_distro)\n",
    "    return label_distance\n",
    "\n",
    "def aggregate_distro(distro1, distro2):\n",
    "    xPQx_dict={}\n",
    "    for xd1, Pxd1 in distro1.items():\n",
    "        if xd1 == \"\" or Pxd1 == \"\":\n",
    "            continue\n",
    "        Pxd2 = distro2.get(xd1)\n",
    "        if Pxd2 is None:\n",
    "            Pxd2 = 0.0\n",
    "        xPQx_dict.update({xd1:[Pxd1, Pxd2]})\n",
    "                    \n",
    "    for xd2, Pxd2 in distro2.items():\n",
    "        if xd2 == \"\" or Pxd2 == \"\":\n",
    "            continue\n",
    "        Pxd1 = distro1.get(xd2)\n",
    "        if Pxd1 is None:\n",
    "            Pxd1 = 0.0\n",
    "            xPQx_dict.update({xd2:[0.0, Pxd2]})\n",
    "    \n",
    "    # {443: [Pxi, Qxi], 22: [Pxi, Qxi], ...}\n",
    "    return xPQx_dict\n"
   ]
  },
  {
   "cell_type": "code",
   "execution_count": 16,
   "id": "481a04c3-94e5-4c6d-9816-6ae83032bad3",
   "metadata": {},
   "outputs": [],
   "source": [
    "# Me Distance\n",
    "from math import sqrt\n",
    "\n",
    "def me(dict_distro):\n",
    "    #dict_distro : {'443': [P443, Q443], '22': [P22, Q22]}\n",
    "    sum = 0\n",
    "    for i in dict_distro.values():\n",
    "        y1 = float(i[0])\n",
    "        y2 = float(i[1])\n",
    "        sum += (y2 - y1) ** 2\n",
    "\n",
    "    return sqrt(sum)"
   ]
  },
  {
   "cell_type": "code",
   "execution_count": 17,
   "id": "ca98c1b0-2b7d-42bd-bf27-91bcd494df83",
   "metadata": {},
   "outputs": [],
   "source": [
    "# choose best label per threshold\n",
    "\n",
    "def Predict(label_distance, threshold):\n",
    "    y_pred = []\n",
    "    for i in range(len(final_distro)):\n",
    "        t = pd.DataFrame(label_distance[i], columns=['Label', 'Kl Result'])\n",
    "        # tmp = t[t['Kl Result'] < threshold]\n",
    "        # grouped_df = tmp.groupby(['Label']).size().reset_index(name='Count')\n",
    "        # sorted_df = grouped_df.sort_values(by=['Count'], ascending=False)\n",
    "        tmp = t[t['Kl Result'] < threshold]\n",
    "        tmp['Count'] = tmp.groupby(['Label']).transform('size')\n",
    "        tmp = tmp.sort_values(by=['Count', 'Kl Result'], ascending=[False, True])        \n",
    "        if tmp.values.size == 0:\n",
    "            y_pred.append(0)\n",
    "        else:\n",
    "            y_pred.append(tmp.head(1)['Label'].values[0])\n",
    "    return y_pred"
   ]
  },
  {
   "cell_type": "code",
   "execution_count": 18,
   "id": "0c22bbc1-7aa6-4a7a-84bf-8acd0ebd1398",
   "metadata": {
    "scrolled": true
   },
   "outputs": [],
   "source": [
    "distro1 = x_test\n",
    "distro1_label = y_test\n",
    "distro2 = x_train\n",
    "distro2_label = y_train\n",
    "\n",
    "final_distro = preprocess_distros(distro1, distro2)\n"
   ]
  },
  {
   "cell_type": "code",
   "execution_count": null,
   "id": "31784428-1445-47d2-803e-5e9068fe6d57",
   "metadata": {
    "scrolled": true
   },
   "outputs": [],
   "source": [
    "max = 0\n",
    "for iter in final_distro:\n",
    "    for j in iter:\n",
    "        if j[1] > max:\n",
    "            max = j[1]\n",
    "\n",
    "print(max)"
   ]
  },
  {
   "cell_type": "code",
   "execution_count": null,
   "id": "f111fb15-83ce-4b59-a670-385451c9b205",
   "metadata": {},
   "outputs": [],
   "source": [
    "from sklearn.metrics import classification_report, confusion_matrix, accuracy_score, f1_score\n",
    "\n",
    "prediction = {}\n",
    "for i in np.arange(1.5, 0.5, -0.05):\n",
    "    #print(i)\n",
    "    y_pred = Predict(final_distro, i)\n",
    "    res1 = accuracy_score(y_test,y_pred)\n",
    "    res2 = f1_score(y_test, y_pred, average=\"weighted\")\n",
    "    res3 = f1_score(y_test, y_pred, average=\"micro\")\n",
    "    res4 = f1_score(y_test, y_pred, average=\"macro\")\n",
    "    prediction[round(i,2)] = [res1, res2, res3, res4]\n"
   ]
  },
  {
   "cell_type": "code",
   "execution_count": null,
   "id": "96f6bc10-e8f1-43a5-99ba-669c0d819356",
   "metadata": {},
   "outputs": [],
   "source": [
    "import seaborn as sns\n",
    "import matplotlib.pyplot as plt\n",
    "\n",
    "data = pd.DataFrame.from_dict(prediction, orient='index', columns=['Accuracy', 'F1_weighted', 'F1_micro', 'F1_macro'])\n",
    "\n",
    "fig, axx = plt.subplots(2, 2, figsize=(20,15))\n",
    "\n",
    "axx[0, 0].set_title('Accuracy')\n",
    "sns.lineplot(y=data['Accuracy'].values, x=data.index, ax=axx[0, 0])\n",
    "print(f\"Max Accuracy is: {data['Accuracy'].max()} and threshold is: {data[data['Accuracy'] == data['Accuracy'].max()].index[0]}\")\n",
    "\n",
    "\n",
    "\n",
    "axx[0, 1].set_title('F1_weighted')\n",
    "sns.lineplot(y=data['F1_weighted'].values, x=data.index, ax=axx[0, 1])\n",
    "print(f\"Max F1_weighted is: {data['F1_weighted'].max()} and threshold is: {data[data['F1_weighted'] == data['F1_weighted'].max()].index[0]}\")\n",
    "\n",
    "axx[1, 0].set_title('F1_micro')\n",
    "sns.lineplot(y=data['F1_micro'].values, x=data.index, ax=axx[1, 0])\n",
    "print(f\"Max F1_micro is: {data['F1_micro'].max()} and threshold is: {data[data['F1_micro'] == data['F1_micro'].max()].index[0]}\")\n",
    "\n",
    "axx[1, 1].set_title('F1_macro')\n",
    "sns.lineplot(y=data['F1_macro'].values, x=data.index, ax=axx[1, 1])\n",
    "print(f\"Max F1_macro is: {data['F1_macro'].max()} and threshold is: {data[data['F1_macro'] == data['F1_macro'].max()].index[0]}\")\n",
    "\n",
    "plt.tight_layout()"
   ]
  },
  {
   "cell_type": "code",
   "execution_count": 40,
   "id": "aa892c7b-8d13-46aa-9122-ca48e277aa84",
   "metadata": {},
   "outputs": [
    {
     "name": "stdout",
     "output_type": "stream",
     "text": [
      "distance is:  0.0 distro is:  {'443': [0.8, 0.8], '22': [0.1, 0.1], '80': [0.1, 0.1]}\n",
      "distance is:  0.46 distro is:  {'443': [0.8, 0.3], '22': [0.1, 0.3], '80': [0.1, 0.1], '8080': [0.0, 0.3]}\n",
      "distance is:  0.18 distro is:  {'443': [0.8, 1.0], '22': [0.1, 0.0], '80': [0.1, 0.0]}\n",
      "distance is:  0.85 distro is:  {'443': [0.8, 0.0], '22': [0.1, 0.9], '80': [0.1, 0.0], '8080': [0.0, 0.1]}\n",
      "distance is:  0.8 distro is:  {'443': [0.8, 0.0], '22': [0.1, 0.0], '80': [0.1, 0.0], '9090': [0.0, 0.5], '21': [0.0, 0.5]}\n",
      "distance is:  0.46 distro is:  {'443': [0.3, 0.8], '8080': [0.3, 0.0], '22': [0.3, 0.1], '80': [0.1, 0.1]}\n",
      "distance is:  0.0 distro is:  {'443': [0.3, 0.3], '8080': [0.3, 0.3], '22': [0.3, 0.3], '80': [0.1, 0.1]}\n",
      "distance is:  0.61 distro is:  {'443': [0.3, 1.0], '8080': [0.3, 0.0], '22': [0.3, 0.0], '80': [0.1, 0.0]}\n",
      "distance is:  0.52 distro is:  {'443': [0.3, 0.0], '8080': [0.3, 0.1], '22': [0.3, 0.9], '80': [0.1, 0.0]}\n",
      "distance is:  0.65 distro is:  {'443': [0.3, 0.0], '8080': [0.3, 0.0], '22': [0.3, 0.0], '80': [0.1, 0.0], '9090': [0.0, 0.5], '21': [0.0, 0.5]}\n",
      "distance is:  0.18 distro is:  {'443': [1.0, 0.8], '22': [0.0, 0.1], '80': [0.0, 0.1]}\n",
      "distance is:  0.61 distro is:  {'443': [1.0, 0.3], '8080': [0.0, 0.3], '22': [0.0, 0.3], '80': [0.0, 0.1]}\n",
      "distance is:  0.0 distro is:  {'443': [1.0, 1.0]}\n",
      "distance is:  1.0 distro is:  {'443': [1.0, 0.0], '22': [0.0, 0.9], '8080': [0.0, 0.1]}\n",
      "distance is:  0.91 distro is:  {'443': [1.0, 0.0], '9090': [0.0, 0.5], '21': [0.0, 0.5]}\n",
      "distance is:  0.85 distro is:  {'22': [0.9, 0.1], '8080': [0.1, 0.0], '443': [0.0, 0.8], '80': [0.0, 0.1]}\n",
      "distance is:  0.52 distro is:  {'22': [0.9, 0.3], '8080': [0.1, 0.3], '443': [0.0, 0.3], '80': [0.0, 0.1]}\n",
      "distance is:  1.0 distro is:  {'22': [0.9, 0.0], '8080': [0.1, 0.0], '443': [0.0, 1.0]}\n",
      "distance is:  0.0 distro is:  {'22': [0.9, 0.9], '8080': [0.1, 0.1]}\n",
      "distance is:  0.85 distro is:  {'22': [0.9, 0.0], '8080': [0.1, 0.0], '9090': [0.0, 0.5], '21': [0.0, 0.5]}\n",
      "distance is:  0.8 distro is:  {'9090': [0.5, 0.0], '21': [0.5, 0.0], '443': [0.0, 0.8], '22': [0.0, 0.1], '80': [0.0, 0.1]}\n",
      "distance is:  0.65 distro is:  {'9090': [0.5, 0.0], '21': [0.5, 0.0], '443': [0.0, 0.3], '8080': [0.0, 0.3], '22': [0.0, 0.3], '80': [0.0, 0.1]}\n",
      "distance is:  0.91 distro is:  {'9090': [0.5, 0.0], '21': [0.5, 0.0], '443': [0.0, 1.0]}\n",
      "distance is:  0.85 distro is:  {'9090': [0.5, 0.0], '21': [0.5, 0.0], '22': [0.0, 0.9], '8080': [0.0, 0.1]}\n",
      "distance is:  0.0 distro is:  {'9090': [0.5, 0.5], '21': [0.5, 0.5]}\n"
     ]
    }
   ],
   "source": [
    "# distro = []\n",
    "# distro.append({'443' : 0.8, '22'  : 0.1, '80'  : 0.1})\n",
    "# distro.append({'443' : 0.3, '8080' : 0.3, '22'  : 0.3, '80'  : 0.1})\n",
    "# distro.append({'443' : 1.0})\n",
    "# distro.append({'22' : 0.9, '8080' : 0.1})\n",
    "# distro.append({'9090' : 0.5, '21' : 0.5})\n",
    "\n",
    "# total_distro = []\n",
    "# for i in range(5):\n",
    "#     for j in range(5):\n",
    "#         total_distro.append(aggregate_distro(distro[i], distro[j]))\n",
    "\n",
    "# max_distance = 0\n",
    "# distances = []\n",
    "# for iter in total_distro:\n",
    "#     distance = calculate_distance(me, iter)\n",
    "#     distances.append([distance, iter])\n",
    "#     if distance > max_distance:\n",
    "#         max_distance = distance\n",
    "    \n",
    "# normalized_distances = []\n",
    "# for distance_iter in distances:\n",
    "#     distance = distance_iter[0]\n",
    "#     iter = distance_iter[1]\n",
    "#     normalized_distance = distance / max_distance\n",
    "#     normalized_distances.append([normalized_distance, iter])\n",
    "\n",
    "# for normal_iter in normalized_distances:\n",
    "#     print(\"distance is: \", round(normal_iter[0],2), \"distro is: \", normal_iter[1])"
   ]
  }
 ],
 "metadata": {
  "kernelspec": {
   "display_name": "Python 3 (ipykernel)",
   "language": "python",
   "name": "python3"
  },
  "language_info": {
   "codemirror_mode": {
    "name": "ipython",
    "version": 3
   },
   "file_extension": ".py",
   "mimetype": "text/x-python",
   "name": "python",
   "nbconvert_exporter": "python",
   "pygments_lexer": "ipython3",
   "version": "3.8.10"
  }
 },
 "nbformat": 4,
 "nbformat_minor": 5
}
