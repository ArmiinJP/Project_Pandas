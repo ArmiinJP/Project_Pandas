{
 "cells": [
  {
   "cell_type": "code",
   "execution_count": 1,
   "id": "c5035c4c-d07b-4f03-8372-e044f032e177",
   "metadata": {},
   "outputs": [],
   "source": [
    "import pandas as pd"
   ]
  },
  {
   "cell_type": "code",
   "execution_count": 2,
   "id": "e3695a91-5ecc-4ff3-9aa4-da09914bb59f",
   "metadata": {},
   "outputs": [],
   "source": [
    "titanic = pd.read_csv('train.csv')\n",
    "t = titanic.set_index(['PassengerId'])\n",
    "pd.set_option('display.max_rows', None)"
   ]
  },
  {
   "cell_type": "code",
   "execution_count": 3,
   "id": "7793633b-3978-4fd6-b928-cf34fc023ea3",
   "metadata": {
    "scrolled": true
   },
   "outputs": [
    {
     "name": "stdout",
     "output_type": "stream",
     "text": [
      "Embarked: S, duplicate in 644 times\n",
      "\t\t\t66.3% tell Survived is 0\n",
      "\t\t\t54.81% tell Pclass is 3\n",
      "\t\t\t68.48% tell Sex is male\n",
      "\t\t\t13.98% tell Age is -1.0\n",
      "\t\t\t68.01% tell SibSp is 0\n",
      "\t\t\t75.16% tell Parch is 0\n",
      "\t\t\t1.09% tell Ticket is 1601\n",
      "\t\t\t6.68% tell Fare is 8.05\n",
      "\t\t\t79.97% tell Cabin is -1\n",
      "Embarked: C, duplicate in 168 times\n",
      "\t\t\t55.36% tell Survived is 1\n",
      "\t\t\t50.6% tell Pclass is 1\n",
      "\t\t\t56.55% tell Sex is male\n",
      "\t\t\t22.62% tell Age is -1.0\n",
      "\t\t\t64.88% tell SibSp is 0\n",
      "\t\t\t73.21% tell Parch is 0\n",
      "\t\t\t2.38% tell Ticket is 17421\n",
      "\t\t\t8.93% tell Fare is 7.2292\n",
      "\t\t\t58.93% tell Cabin is -1\n",
      "Embarked: Q, duplicate in 77 times\n",
      "\t\t\t61.04% tell Survived is 0\n",
      "\t\t\t93.51% tell Pclass is 3\n",
      "\t\t\t53.25% tell Sex is male\n",
      "\t\t\t63.64% tell Age is -1.0\n",
      "\t\t\t76.62% tell SibSp is 0\n",
      "\t\t\t89.61% tell Parch is 0\n",
      "\t\t\t6.49% tell Ticket is 382652\n",
      "\t\t\t38.96% tell Fare is 7.75\n",
      "\t\t\t94.81% tell Cabin is -1\n"
     ]
    }
   ],
   "source": [
    "ff = t[t['Embarked'].duplicated(keep=False)]['Embarked'].value_counts()\n",
    "\n",
    "for i in ff.items():\n",
    "    print(f'Embarked: {i[0]}, duplicate in {i[1]} times')\n",
    "    for column in t.columns:\n",
    "        if column in ['Name', 'Embarked']:\n",
    "            continue\n",
    "        percent = round(t[t['Embarked'] == i[0]].fillna(-1)[column].value_counts(normalize=True)*100, 2).max()\n",
    "        column_value = t[t['Embarked'] == i[0]].fillna(-1)[column].value_counts().sort_values(ascending=False).head(1).index[0]\n",
    "        print(f'\\t\\t\\t{percent}% tell {column} is {column_value}')"
   ]
  },
  {
   "cell_type": "code",
   "execution_count": 4,
   "id": "0f55356e-53c0-4e72-b90a-6ab19fcc2c1a",
   "metadata": {
    "scrolled": true
   },
   "outputs": [
    {
     "name": "stdout",
     "output_type": "stream",
     "text": [
      "Embarked: S, duplicate in 644 times and 66.3% tell Survived is 0\n",
      "Embarked: C, duplicate in 168 times and 55.36% tell Survived is 1\n",
      "Embarked: Q, duplicate in 77 times and 61.04% tell Survived is 0\n",
      "----------------------------------------------------------\n",
      "Embarked: S, duplicate in 644 times and 54.81% tell Pclass is 3\n",
      "Embarked: C, duplicate in 168 times and 50.6% tell Pclass is 1\n",
      "Embarked: Q, duplicate in 77 times and 93.51% tell Pclass is 3\n",
      "----------------------------------------------------------\n",
      "Embarked: S, duplicate in 644 times and 68.48% tell Sex is male\n",
      "Embarked: C, duplicate in 168 times and 56.55% tell Sex is male\n",
      "Embarked: Q, duplicate in 77 times and 53.25% tell Sex is male\n",
      "----------------------------------------------------------\n",
      "Embarked: S, duplicate in 644 times and 13.98% tell Age is -1.0\n",
      "Embarked: C, duplicate in 168 times and 22.62% tell Age is -1.0\n",
      "Embarked: Q, duplicate in 77 times and 63.64% tell Age is -1.0\n",
      "----------------------------------------------------------\n",
      "Embarked: S, duplicate in 644 times and 68.01% tell SibSp is 0\n",
      "Embarked: C, duplicate in 168 times and 64.88% tell SibSp is 0\n",
      "Embarked: Q, duplicate in 77 times and 76.62% tell SibSp is 0\n",
      "----------------------------------------------------------\n",
      "Embarked: S, duplicate in 644 times and 75.16% tell Parch is 0\n",
      "Embarked: C, duplicate in 168 times and 73.21% tell Parch is 0\n",
      "Embarked: Q, duplicate in 77 times and 89.61% tell Parch is 0\n",
      "----------------------------------------------------------\n",
      "Embarked: S, duplicate in 644 times and 1.09% tell Ticket is 1601\n",
      "Embarked: C, duplicate in 168 times and 2.38% tell Ticket is 17421\n",
      "Embarked: Q, duplicate in 77 times and 6.49% tell Ticket is 382652\n",
      "----------------------------------------------------------\n",
      "Embarked: S, duplicate in 644 times and 6.68% tell Fare is 8.05\n",
      "Embarked: C, duplicate in 168 times and 8.93% tell Fare is 7.2292\n",
      "Embarked: Q, duplicate in 77 times and 38.96% tell Fare is 7.75\n",
      "----------------------------------------------------------\n",
      "Embarked: S, duplicate in 644 times and 79.97% tell Cabin is -1\n",
      "Embarked: C, duplicate in 168 times and 58.93% tell Cabin is -1\n",
      "Embarked: Q, duplicate in 77 times and 94.81% tell Cabin is -1\n",
      "----------------------------------------------------------\n"
     ]
    }
   ],
   "source": [
    "ff = t[t['Embarked'].duplicated(keep=False)]['Embarked'].value_counts()\n",
    "\n",
    "for column in t.columns:\n",
    "    if column in ['Name', 'Embarked']:\n",
    "        continue\n",
    "    for i in ff.items():\n",
    "        percent = round(t[t['Embarked'] == i[0]].fillna(-1)[column].value_counts(normalize=True)*100, 2).max()\n",
    "        column_value = t[t['Embarked'] == i[0]].fillna(-1)[column].value_counts().sort_values(ascending=False).head(1).index[0]\n",
    "        print(f'Embarked: {i[0]}, duplicate in {i[1]} times and {percent}% tell {column} is {column_value}')\n",
    "    print(\"----------------------------------------------------------\")   \n"
   ]
  },
  {
   "cell_type": "code",
   "execution_count": 5,
   "id": "21c17a06-59aa-48bd-a676-824163929e9e",
   "metadata": {},
   "outputs": [
    {
     "name": "stdout",
     "output_type": "stream",
     "text": [
      "Survived:    \t 63.777007874015744\n",
      "----------------------------------------------------------\n",
      "Pclass:    \t 57.36637795275591\n",
      "----------------------------------------------------------\n",
      "Sex:    \t 64.9063779527559\n",
      "----------------------------------------------------------\n",
      "Age:    \t 19.9140157480315\n",
      "----------------------------------------------------------\n",
      "SibSp:    \t 68.16425196850393\n",
      "----------------------------------------------------------\n",
      "Parch:    \t 76.04307086614172\n",
      "----------------------------------------------------------\n",
      "Ticket:    \t 1.801496062992126\n",
      "----------------------------------------------------------\n",
      "Fare:    \t 9.901102362204725\n",
      "----------------------------------------------------------\n",
      "Cabin:    \t 77.27929133858267\n",
      "----------------------------------------------------------\n"
     ]
    }
   ],
   "source": [
    "ff = t[t['Embarked'].duplicated(keep=False)]['Embarked'].value_counts()\n",
    "\n",
    "for column in t.columns:\n",
    "    sum = 0\n",
    "    if column in ['Name', 'Embarked']:\n",
    "        continue\n",
    "    for i in ff.items():\n",
    "        percent = round(t[t['Embarked'] == i[0]].fillna(-1)[column].value_counts(normalize=True)*100, 2).max()\n",
    "        column_value = t[t['Embarked'] == i[0]].fillna(-1)[column].value_counts().sort_values(ascending=False).head(1).index[0]\n",
    "        sum += i[1] * percent\n",
    "\n",
    "    print(f'{column}:    \\t', sum/ff.sum())\n",
    "    print(\"----------------------------------------------------------\")   "
   ]
  }
 ],
 "metadata": {
  "kernelspec": {
   "display_name": "Python 3 (ipykernel)",
   "language": "python",
   "name": "python3"
  },
  "language_info": {
   "codemirror_mode": {
    "name": "ipython",
    "version": 3
   },
   "file_extension": ".py",
   "mimetype": "text/x-python",
   "name": "python",
   "nbconvert_exporter": "python",
   "pygments_lexer": "ipython3",
   "version": "3.8.10"
  }
 },
 "nbformat": 4,
 "nbformat_minor": 5
}
