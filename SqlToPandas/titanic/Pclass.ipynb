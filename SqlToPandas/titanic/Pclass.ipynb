{
 "cells": [
  {
   "cell_type": "code",
   "execution_count": null,
   "id": "fee26efb-5a85-4c55-8806-627df130daf1",
   "metadata": {},
   "outputs": [],
   "source": []
  },
  {
   "cell_type": "code",
   "execution_count": 1,
   "id": "43f32190-8a27-4607-bd6d-31c59d8f9302",
   "metadata": {},
   "outputs": [],
   "source": [
    "import pandas as pd"
   ]
  },
  {
   "cell_type": "code",
   "execution_count": 2,
   "id": "bfd8143d-c34a-45b8-af7f-e23a87f13567",
   "metadata": {},
   "outputs": [],
   "source": [
    "titanic = pd.read_csv('train.csv')\n",
    "t = titanic.set_index(['PassengerId'])\n",
    "pd.set_option('display.max_rows', None)"
   ]
  },
  {
   "cell_type": "code",
   "execution_count": 3,
   "id": "03cf6db6-6596-4f1c-8ad1-8ca2998f344a",
   "metadata": {
    "scrolled": true
   },
   "outputs": [
    {
     "name": "stdout",
     "output_type": "stream",
     "text": [
      "Pclass: 3, duplicate in 491 times\n",
      "\t\t\t75.76% tell Survived is 0\n",
      "\t\t\t70.67% tell Sex is male\n",
      "\t\t\t27.7% tell Age is -1.0\n",
      "\t\t\t71.49% tell SibSp is 0\n",
      "\t\t\t77.6% tell Parch is 0\n",
      "\t\t\t1.43% tell Ticket is 347082\n",
      "\t\t\t8.76% tell Fare is 8.05\n",
      "\t\t\t97.56% tell Cabin is -1\n",
      "\t\t\t71.89% tell Embarked is S\n",
      "Pclass: 1, duplicate in 216 times\n",
      "\t\t\t62.96% tell Survived is 1\n",
      "\t\t\t56.48% tell Sex is male\n",
      "\t\t\t13.89% tell Age is -1.0\n",
      "\t\t\t63.43% tell SibSp is 0\n",
      "\t\t\t75.46% tell Parch is 0\n",
      "\t\t\t1.85% tell Ticket is 17421\n",
      "\t\t\t6.94% tell Fare is 26.55\n",
      "\t\t\t18.52% tell Cabin is -1\n",
      "\t\t\t58.8% tell Embarked is S\n",
      "Pclass: 2, duplicate in 184 times\n",
      "\t\t\t52.72% tell Survived is 0\n",
      "\t\t\t58.7% tell Sex is male\n",
      "\t\t\t5.98% tell Age is -1.0\n",
      "\t\t\t65.22% tell SibSp is 0\n",
      "\t\t\t72.83% tell Parch is 0\n",
      "\t\t\t2.72% tell Ticket is S.O.C. 14879\n",
      "\t\t\t22.83% tell Fare is 13.0\n",
      "\t\t\t91.3% tell Cabin is -1\n",
      "\t\t\t89.13% tell Embarked is S\n"
     ]
    }
   ],
   "source": [
    "ff = t[t['Pclass'].duplicated(keep=False)]['Pclass'].value_counts()\n",
    "\n",
    "for i in ff.items():\n",
    "    print(f'Pclass: {i[0]}, duplicate in {i[1]} times')\n",
    "    for column in t.columns:\n",
    "        if column in ['Name', 'Pclass']:\n",
    "            continue\n",
    "        percent = round(t[t['Pclass'] == i[0]].fillna(-1)[column].value_counts(normalize=True)*100, 2).max()\n",
    "        column_value = t[t['Pclass'] == i[0]].fillna(-1)[column].value_counts().sort_values(ascending=False).head(1).index[0]\n",
    "        print(f'\\t\\t\\t{percent}% tell {column} is {column_value}')"
   ]
  },
  {
   "cell_type": "code",
   "execution_count": 4,
   "id": "6b749c5d-e73f-4fa2-870f-72503da52d86",
   "metadata": {
    "scrolled": true
   },
   "outputs": [
    {
     "name": "stdout",
     "output_type": "stream",
     "text": [
      "Pclass: 3, duplicate in 491 times and 75.76% tell Survived is 0\n",
      "Pclass: 1, duplicate in 216 times and 62.96% tell Survived is 1\n",
      "Pclass: 2, duplicate in 184 times and 52.72% tell Survived is 0\n",
      "----------------------------------------------------------\n",
      "Pclass: 3, duplicate in 491 times and 70.67% tell Sex is male\n",
      "Pclass: 1, duplicate in 216 times and 56.48% tell Sex is male\n",
      "Pclass: 2, duplicate in 184 times and 58.7% tell Sex is male\n",
      "----------------------------------------------------------\n",
      "Pclass: 3, duplicate in 491 times and 27.7% tell Age is -1.0\n",
      "Pclass: 1, duplicate in 216 times and 13.89% tell Age is -1.0\n",
      "Pclass: 2, duplicate in 184 times and 5.98% tell Age is -1.0\n",
      "----------------------------------------------------------\n",
      "Pclass: 3, duplicate in 491 times and 71.49% tell SibSp is 0\n",
      "Pclass: 1, duplicate in 216 times and 63.43% tell SibSp is 0\n",
      "Pclass: 2, duplicate in 184 times and 65.22% tell SibSp is 0\n",
      "----------------------------------------------------------\n",
      "Pclass: 3, duplicate in 491 times and 77.6% tell Parch is 0\n",
      "Pclass: 1, duplicate in 216 times and 75.46% tell Parch is 0\n",
      "Pclass: 2, duplicate in 184 times and 72.83% tell Parch is 0\n",
      "----------------------------------------------------------\n",
      "Pclass: 3, duplicate in 491 times and 1.43% tell Ticket is 347082\n",
      "Pclass: 1, duplicate in 216 times and 1.85% tell Ticket is 17421\n",
      "Pclass: 2, duplicate in 184 times and 2.72% tell Ticket is S.O.C. 14879\n",
      "----------------------------------------------------------\n",
      "Pclass: 3, duplicate in 491 times and 8.76% tell Fare is 8.05\n",
      "Pclass: 1, duplicate in 216 times and 6.94% tell Fare is 26.55\n",
      "Pclass: 2, duplicate in 184 times and 22.83% tell Fare is 13.0\n",
      "----------------------------------------------------------\n",
      "Pclass: 3, duplicate in 491 times and 97.56% tell Cabin is -1\n",
      "Pclass: 1, duplicate in 216 times and 18.52% tell Cabin is -1\n",
      "Pclass: 2, duplicate in 184 times and 91.3% tell Cabin is -1\n",
      "----------------------------------------------------------\n",
      "Pclass: 3, duplicate in 491 times and 71.89% tell Embarked is S\n",
      "Pclass: 1, duplicate in 216 times and 58.8% tell Embarked is S\n",
      "Pclass: 2, duplicate in 184 times and 89.13% tell Embarked is S\n",
      "----------------------------------------------------------\n"
     ]
    }
   ],
   "source": [
    "ff = t[t['Pclass'].duplicated(keep=False)]['Pclass'].value_counts()\n",
    "\n",
    "for column in t.columns:\n",
    "    if column in ['Name', 'Pclass']:\n",
    "        continue\n",
    "    for i in ff.items():\n",
    "        percent = round(t[t['Pclass'] == i[0]].fillna(-1)[column].value_counts(normalize=True)*100, 2).max()\n",
    "        column_value = t[t['Pclass'] == i[0]].fillna(-1)[column].value_counts().sort_values(ascending=False).head(1).index[0]\n",
    "        print(f'Pclass: {i[0]}, duplicate in {i[1]} times and {percent}% tell {column} is {column_value}')\n",
    "    print(\"----------------------------------------------------------\")   \n"
   ]
  },
  {
   "cell_type": "code",
   "execution_count": 5,
   "id": "0ca01486-70a5-4173-8d6f-cd96b1c6d949",
   "metadata": {},
   "outputs": [
    {
     "name": "stdout",
     "output_type": "stream",
     "text": [
      "Survived:    \t 67.8989898989899\n",
      "----------------------------------------------------------\n",
      "Sex:    \t 64.75808080808082\n",
      "----------------------------------------------------------\n",
      "Age:    \t 19.866734006734006\n",
      "----------------------------------------------------------\n",
      "SibSp:    \t 68.24124579124579\n",
      "----------------------------------------------------------\n",
      "Parch:    \t 76.09616161616161\n",
      "----------------------------------------------------------\n",
      "Ticket:    \t 1.7982154882154882\n",
      "----------------------------------------------------------\n",
      "Fare:    \t 11.224377104377103\n",
      "----------------------------------------------------------\n",
      "Cabin:    \t 77.1060381593715\n",
      "----------------------------------------------------------\n",
      "Embarked:    \t 72.2768911335578\n",
      "----------------------------------------------------------\n"
     ]
    }
   ],
   "source": [
    "ff = t[t['Pclass'].duplicated(keep=False)]['Pclass'].value_counts()\n",
    "\n",
    "for column in t.columns:\n",
    "    sum = 0\n",
    "    if column in ['Name', 'Pclass']:\n",
    "        continue\n",
    "    for i in ff.items():\n",
    "        percent = round(t[t['Pclass'] == i[0]].fillna(-1)[column].value_counts(normalize=True)*100, 2).max()\n",
    "        column_value = t[t['Pclass'] == i[0]].fillna(-1)[column].value_counts().sort_values(ascending=False).head(1).index[0]\n",
    "        sum += i[1] * percent\n",
    "\n",
    "    print(f'{column}:    \\t', sum/ff.sum())\n",
    "    print(\"----------------------------------------------------------\")   "
   ]
  }
 ],
 "metadata": {
  "kernelspec": {
   "display_name": "Python 3 (ipykernel)",
   "language": "python",
   "name": "python3"
  },
  "language_info": {
   "codemirror_mode": {
    "name": "ipython",
    "version": 3
   },
   "file_extension": ".py",
   "mimetype": "text/x-python",
   "name": "python",
   "nbconvert_exporter": "python",
   "pygments_lexer": "ipython3",
   "version": "3.8.10"
  }
 },
 "nbformat": 4,
 "nbformat_minor": 5
}
