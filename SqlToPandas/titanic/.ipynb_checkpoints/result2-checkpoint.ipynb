{
 "cells": [
  {
   "cell_type": "code",
   "execution_count": 154,
   "id": "0827aa12-dddf-4282-b5ac-1f2803b8f60e",
   "metadata": {},
   "outputs": [],
   "source": [
    "import pandas as pd\n",
    "import numpy as np"
   ]
  },
  {
   "cell_type": "code",
   "execution_count": 155,
   "id": "ba17487c-0d52-4867-9f3d-800a1d00e028",
   "metadata": {},
   "outputs": [],
   "source": [
    "titanic = pd.read_csv('train.csv')\n",
    "t = titanic.set_index(['PassengerId'])\n",
    "pd.set_option('display.max_rows', None)"
   ]
  },
  {
   "cell_type": "code",
   "execution_count": 156,
   "id": "2aa7d9a5-5f14-4a2c-9dc5-dab0cdb398b6",
   "metadata": {},
   "outputs": [],
   "source": [
    "def fit(dataset, n_count):\n",
    "    result = pd.DataFrame(index=t.columns, columns=t.columns)\n",
    "    for outer_column in t.columns:\n",
    "        sum = 0\n",
    "        if outer_column in ['Name', 'Survived']:\n",
    "            continue\n",
    "        ff = t[outer_column].value_counts()[t[outer_column].value_counts() > n_count]\n",
    "        if len(ff) < 1:\n",
    "            continue\n",
    "        #ff = t[t[outer_column].duplicated(keep=False)][outer_column].value_counts()\n",
    "        for i in ff.items():\n",
    "            percent = round(t[t[outer_column] == i[0]].fillna(-1)['Survived'].value_counts(normalize=True)*100, 3).max()\n",
    "            column_value = t[t[outer_column] == i[0]].fillna(-1)['Survived'].value_counts().sort_values(ascending=False).head(1).index[0]\n",
    "            sum += i[1] * percent\n",
    "        result[outer_column]['Survived'] = sum / ff.sum()\n",
    "    \n",
    "    t_result = result.dropna(axis='columns', how='all').dropna(axis='index', how='all')#.sort_values(by='Survived', ascending=False)\n",
    "    return t_result\n",
    "\n",
    "# res = []\n",
    "# for i in range(5):\n",
    "#     res.append(fit(i))\n",
    "# pd.concat(res).sort_values(['Ticket', 'Sex', 'Fare', 'Pclass', 'Embarked', 'Age', 'SibSp', 'Parch'], ascending=False)\n",
    "#fit(4).transpose().sort_values(by='Survived')"
   ]
  },
  {
   "cell_type": "code",
   "execution_count": 157,
   "id": "68e3399c-a10c-4557-b343-448f97715340",
   "metadata": {
    "scrolled": true
   },
   "outputs": [],
   "source": [
    "def Search_max(entry, sort_columns, dataset):\n",
    "    for column in sort_columns.index: # ['Ticket', 'Cabin', 'Sex', 'Fare', 'Pclass', 'Age', 'Embarked', 'SibSp','Parch']\n",
    "        for value in t[column]: # t[\"Ticket\"]: [1061, A/5 21171 , ....]\n",
    "            if value == entry[column]: # if 1061 == entry['Ticket']\n",
    "                percent = round(t[t[column] == value].fillna(-1)['Survived'].value_counts(normalize=True)*100, 2).max()\n",
    "                column_value = t[t[column] == value].fillna(-1)['Survived'].value_counts().sort_values(ascending=False).head(1).index[0]\n",
    "                return column, percent, column_value\n",
    "\n",
    "def Predict(x, sort_columns, dataset):\n",
    "    entries = []\n",
    "    for entry in x:\n",
    "        entries.append({\n",
    "            'Pclass': entry[1],\n",
    "            'Name': entry[2],\n",
    "            'Sex': entry[3],\n",
    "            'Age': entry[4],\n",
    "            'SibSp': entry[5],\n",
    "            'Parch': entry[6],\n",
    "            'Ticket': entry[7],\n",
    "            'Fare': entry[8],\n",
    "            'Cabin': entry[9],\n",
    "            'Embarked': entry[10]\n",
    "        })\n",
    "\n",
    "    response = []\n",
    "    result = []\n",
    "    for entry in entries:\n",
    "        response.append(Search_max(entry, sort_columns, dataset))\n",
    "\n",
    "    for i in response:\n",
    "        result.append(i[2])\n",
    "\n",
    "    return result"
   ]
  },
  {
   "cell_type": "code",
   "execution_count": 158,
   "id": "36e404ca-8ddb-45c1-a3a1-65e78af57777",
   "metadata": {},
   "outputs": [],
   "source": [
    "dataset = pd.read_csv('test.csv')\n",
    "dataset.head()\n",
    "\n",
    "dataset2 = pd.read_csv('gender_submission.csv')\n",
    "dataset2.head(), dataset.head()\n",
    "\n",
    "dataset_final = dataset.merge(dataset2, on='PassengerId')\n",
    "\n",
    "x = dataset_final.iloc[:, :-1].values\n",
    "y = dataset_final.iloc[:, 11].values\n"
   ]
  },
  {
   "cell_type": "code",
   "execution_count": 175,
   "id": "0d47ad18-5618-4489-911a-3ac5c8ca2147",
   "metadata": {},
   "outputs": [
    {
     "data": {
      "text/html": [
       "<div>\n",
       "<style scoped>\n",
       "    .dataframe tbody tr th:only-of-type {\n",
       "        vertical-align: middle;\n",
       "    }\n",
       "\n",
       "    .dataframe tbody tr th {\n",
       "        vertical-align: top;\n",
       "    }\n",
       "\n",
       "    .dataframe thead th {\n",
       "        text-align: right;\n",
       "    }\n",
       "</style>\n",
       "<table border=\"1\" class=\"dataframe\">\n",
       "  <thead>\n",
       "    <tr style=\"text-align: right;\">\n",
       "      <th></th>\n",
       "      <th>Survived</th>\n",
       "    </tr>\n",
       "  </thead>\n",
       "  <tbody>\n",
       "    <tr>\n",
       "      <th>Ticket</th>\n",
       "      <td>89.247344</td>\n",
       "    </tr>\n",
       "    <tr>\n",
       "      <th>Sex</th>\n",
       "      <td>78.675588</td>\n",
       "    </tr>\n",
       "    <tr>\n",
       "      <th>Fare</th>\n",
       "      <td>76.716935</td>\n",
       "    </tr>\n",
       "    <tr>\n",
       "      <th>Pclass</th>\n",
       "      <td>67.901302</td>\n",
       "    </tr>\n",
       "    <tr>\n",
       "      <th>Cabin</th>\n",
       "      <td>66.666667</td>\n",
       "    </tr>\n",
       "    <tr>\n",
       "      <th>Embarked</th>\n",
       "      <td>63.779252</td>\n",
       "    </tr>\n",
       "    <tr>\n",
       "      <th>SibSp</th>\n",
       "      <td>63.30008</td>\n",
       "    </tr>\n",
       "    <tr>\n",
       "      <th>Age</th>\n",
       "      <td>63.287278</td>\n",
       "    </tr>\n",
       "    <tr>\n",
       "      <th>Parch</th>\n",
       "      <td>63.033575</td>\n",
       "    </tr>\n",
       "  </tbody>\n",
       "</table>\n",
       "</div>"
      ],
      "text/plain": [
       "           Survived\n",
       "Ticket    89.247344\n",
       "Sex       78.675588\n",
       "Fare      76.716935\n",
       "Pclass    67.901302\n",
       "Cabin     66.666667\n",
       "Embarked  63.779252\n",
       "SibSp      63.30008\n",
       "Age       63.287278\n",
       "Parch     63.033575"
      ]
     },
     "execution_count": 175,
     "metadata": {},
     "output_type": "execute_result"
    }
   ],
   "source": [
    "n_count = 3\n",
    "dataset = t\n",
    "sort_columns = fit(dataset, n_count).transpose().sort_values(by='Survived', ascending=False)\n",
    "sort_columns"
   ]
  },
  {
   "cell_type": "code",
   "execution_count": 179,
   "id": "82aafe77-eb36-4064-9590-a3e0fdcac90c",
   "metadata": {},
   "outputs": [
    {
     "name": "stdout",
     "output_type": "stream",
     "text": [
      "Confusion Matrix:\n",
      "[[73  8]\n",
      " [13 32]]\n",
      "Classification Report:\n",
      "              precision    recall  f1-score   support\n",
      "\n",
      "           0       0.85      0.90      0.87        81\n",
      "           1       0.80      0.71      0.75        45\n",
      "\n",
      "    accuracy                           0.83       126\n",
      "   macro avg       0.82      0.81      0.81       126\n",
      "weighted avg       0.83      0.83      0.83       126\n",
      "\n",
      "Accuracy: 0.8333333333333334\n"
     ]
    }
   ],
   "source": [
    "from sklearn.model_selection import train_test_split\n",
    "x_train, x_test, y_train, y_test = train_test_split(x, y, test_size = 0.30)\n",
    "\n",
    "y_pred = Predict(x_test, sort_columns, dataset)\n",
    "\n",
    "from sklearn.metrics import classification_report, confusion_matrix, accuracy_score\n",
    "result = confusion_matrix(y_test, y_pred)\n",
    "print(\"Confusion Matrix:\")\n",
    "print(result)\n",
    "result1 = classification_report(y_test, y_pred)\n",
    "\n",
    "print(\"Classification Report:\",)\n",
    "print (result1)\n",
    "result2 = accuracy_score(y_test,y_pred)\n",
    "print(\"Accuracy:\",result2)"
   ]
  }
 ],
 "metadata": {
  "kernelspec": {
   "display_name": "Python 3 (ipykernel)",
   "language": "python",
   "name": "python3"
  },
  "language_info": {
   "codemirror_mode": {
    "name": "ipython",
    "version": 3
   },
   "file_extension": ".py",
   "mimetype": "text/x-python",
   "name": "python",
   "nbconvert_exporter": "python",
   "pygments_lexer": "ipython3",
   "version": "3.8.10"
  }
 },
 "nbformat": 4,
 "nbformat_minor": 5
}
