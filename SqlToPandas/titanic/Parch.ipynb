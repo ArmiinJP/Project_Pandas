{
 "cells": [
  {
   "cell_type": "code",
   "execution_count": 1,
   "id": "fc368eaf-f9a5-4b29-922d-0093cc76e738",
   "metadata": {},
   "outputs": [],
   "source": [
    "import pandas as pd"
   ]
  },
  {
   "cell_type": "code",
   "execution_count": 2,
   "id": "8764f24d-8d65-4702-af9e-1ac07958e24c",
   "metadata": {},
   "outputs": [],
   "source": [
    "titanic = pd.read_csv('train.csv')\n",
    "t = titanic.set_index(['PassengerId'])\n",
    "pd.set_option('display.max_rows', None)"
   ]
  },
  {
   "cell_type": "code",
   "execution_count": 3,
   "id": "c15dc2e2-112f-4b87-b9f0-4ce331b2d9c1",
   "metadata": {
    "scrolled": true
   },
   "outputs": [
    {
     "name": "stdout",
     "output_type": "stream",
     "text": [
      "Parch: 0, duplicate in 678 times\n",
      "\t\t\t65.63% tell Survived is 0\n",
      "\t\t\t56.19% tell Pclass is 3\n",
      "\t\t\t71.39% tell Sex is male\n",
      "\t\t\t23.16% tell Age is -1.0\n",
      "\t\t\t79.2% tell SibSp is 0\n",
      "\t\t\t1.03% tell Ticket is 1601\n",
      "\t\t\t6.34% tell Fare is 8.05\n",
      "\t\t\t79.2% tell Cabin is -1\n",
      "\t\t\t71.39% tell Embarked is S\n",
      "Parch: 1, duplicate in 118 times\n",
      "\t\t\t55.08% tell Survived is 1\n",
      "\t\t\t46.61% tell Pclass is 3\n",
      "\t\t\t50.85% tell Sex is female\n",
      "\t\t\t6.78% tell Age is -1.0\n",
      "\t\t\t48.31% tell SibSp is 1\n",
      "\t\t\t4.24% tell Ticket is 3101295\n",
      "\t\t\t5.08% tell Fare is 26.0\n",
      "\t\t\t66.95% tell Cabin is -1\n",
      "\t\t\t69.49% tell Embarked is S\n",
      "Parch: 2, duplicate in 80 times\n",
      "\t\t\t50.0% tell Survived is 1\n",
      "\t\t\t53.75% tell Pclass is 3\n",
      "\t\t\t61.25% tell Sex is female\n",
      "\t\t\t15.0% tell Age is -1.0\n",
      "\t\t\t36.25% tell SibSp is 0\n",
      "\t\t\t8.75% tell Ticket is CA. 2343\n",
      "\t\t\t8.75% tell Fare is 69.55\n",
      "\t\t\t71.25% tell Cabin is -1\n",
      "\t\t\t81.25% tell Embarked is S\n",
      "Parch: 5, duplicate in 5 times\n",
      "\t\t\t80.0% tell Survived is 0\n",
      "\t\t\t100.0% tell Pclass is 3\n",
      "\t\t\t80.0% tell Sex is female\n",
      "\t\t\t60.0% tell Age is 39.0\n",
      "\t\t\t60.0% tell SibSp is 1\n",
      "\t\t\t40.0% tell Ticket is 347082\n",
      "\t\t\t40.0% tell Fare is 31.275\n",
      "\t\t\t100.0% tell Cabin is -1\n",
      "\t\t\t80.0% tell Embarked is S\n",
      "Parch: 3, duplicate in 5 times\n",
      "\t\t\t60.0% tell Survived is 1\n",
      "\t\t\t60.0% tell Pclass is 3\n",
      "\t\t\t80.0% tell Sex is female\n",
      "\t\t\t40.0% tell Age is 24.0\n",
      "\t\t\t60.0% tell SibSp is 1\n",
      "\t\t\t40.0% tell Ticket is W./C. 6608\n",
      "\t\t\t40.0% tell Fare is 34.375\n",
      "\t\t\t100.0% tell Cabin is -1\n",
      "\t\t\t80.0% tell Embarked is S\n",
      "Parch: 4, duplicate in 4 times\n",
      "\t\t\t100.0% tell Survived is 0\n",
      "\t\t\t75.0% tell Pclass is 3\n",
      "\t\t\t50.0% tell Sex is female\n",
      "\t\t\t25.0% tell Age is 45.0\n",
      "\t\t\t75.0% tell SibSp is 1\n",
      "\t\t\t50.0% tell Ticket is 347088\n",
      "\t\t\t50.0% tell Fare is 27.9\n",
      "\t\t\t75.0% tell Cabin is -1\n",
      "\t\t\t100.0% tell Embarked is S\n"
     ]
    }
   ],
   "source": [
    "ff = t[t['Parch'].duplicated(keep=False)]['Parch'].value_counts()\n",
    "\n",
    "for i in ff.items():\n",
    "    print(f'Parch: {i[0]}, duplicate in {i[1]} times')\n",
    "    for column in t.columns:\n",
    "        if column in ['Name', 'Parch']:\n",
    "            continue\n",
    "        percent = round(t[t['Parch'] == i[0]].fillna(-1)[column].value_counts(normalize=True)*100, 2).max()\n",
    "        column_value = t[t['Parch'] == i[0]].fillna(-1)[column].value_counts().sort_values(ascending=False).head(1).index[0]\n",
    "        print(f'\\t\\t\\t{percent}% tell {column} is {column_value}')"
   ]
  },
  {
   "cell_type": "code",
   "execution_count": 4,
   "id": "50d91937-420c-4afc-a65b-731996114fe1",
   "metadata": {
    "scrolled": true
   },
   "outputs": [
    {
     "name": "stdout",
     "output_type": "stream",
     "text": [
      "Parch: 0, duplicate in 678 times and 65.63% tell Survived is 0\n",
      "Parch: 1, duplicate in 118 times and 55.08% tell Survived is 1\n",
      "Parch: 2, duplicate in 80 times and 50.0% tell Survived is 1\n",
      "Parch: 5, duplicate in 5 times and 80.0% tell Survived is 0\n",
      "Parch: 3, duplicate in 5 times and 60.0% tell Survived is 1\n",
      "Parch: 4, duplicate in 4 times and 100.0% tell Survived is 0\n",
      "----------------------------------------------------------\n",
      "Parch: 0, duplicate in 678 times and 56.19% tell Pclass is 3\n",
      "Parch: 1, duplicate in 118 times and 46.61% tell Pclass is 3\n",
      "Parch: 2, duplicate in 80 times and 53.75% tell Pclass is 3\n",
      "Parch: 5, duplicate in 5 times and 100.0% tell Pclass is 3\n",
      "Parch: 3, duplicate in 5 times and 60.0% tell Pclass is 3\n",
      "Parch: 4, duplicate in 4 times and 75.0% tell Pclass is 3\n",
      "----------------------------------------------------------\n",
      "Parch: 0, duplicate in 678 times and 71.39% tell Sex is male\n",
      "Parch: 1, duplicate in 118 times and 50.85% tell Sex is female\n",
      "Parch: 2, duplicate in 80 times and 61.25% tell Sex is female\n",
      "Parch: 5, duplicate in 5 times and 80.0% tell Sex is female\n",
      "Parch: 3, duplicate in 5 times and 80.0% tell Sex is female\n",
      "Parch: 4, duplicate in 4 times and 50.0% tell Sex is female\n",
      "----------------------------------------------------------\n",
      "Parch: 0, duplicate in 678 times and 23.16% tell Age is -1.0\n",
      "Parch: 1, duplicate in 118 times and 6.78% tell Age is -1.0\n",
      "Parch: 2, duplicate in 80 times and 15.0% tell Age is -1.0\n",
      "Parch: 5, duplicate in 5 times and 60.0% tell Age is 39.0\n",
      "Parch: 3, duplicate in 5 times and 40.0% tell Age is 24.0\n",
      "Parch: 4, duplicate in 4 times and 25.0% tell Age is 45.0\n",
      "----------------------------------------------------------\n",
      "Parch: 0, duplicate in 678 times and 79.2% tell SibSp is 0\n",
      "Parch: 1, duplicate in 118 times and 48.31% tell SibSp is 1\n",
      "Parch: 2, duplicate in 80 times and 36.25% tell SibSp is 0\n",
      "Parch: 5, duplicate in 5 times and 60.0% tell SibSp is 1\n",
      "Parch: 3, duplicate in 5 times and 60.0% tell SibSp is 1\n",
      "Parch: 4, duplicate in 4 times and 75.0% tell SibSp is 1\n",
      "----------------------------------------------------------\n",
      "Parch: 0, duplicate in 678 times and 1.03% tell Ticket is 1601\n",
      "Parch: 1, duplicate in 118 times and 4.24% tell Ticket is 3101295\n",
      "Parch: 2, duplicate in 80 times and 8.75% tell Ticket is CA. 2343\n",
      "Parch: 5, duplicate in 5 times and 40.0% tell Ticket is 347082\n",
      "Parch: 3, duplicate in 5 times and 40.0% tell Ticket is W./C. 6608\n",
      "Parch: 4, duplicate in 4 times and 50.0% tell Ticket is 347088\n",
      "----------------------------------------------------------\n",
      "Parch: 0, duplicate in 678 times and 6.34% tell Fare is 8.05\n",
      "Parch: 1, duplicate in 118 times and 5.08% tell Fare is 26.0\n",
      "Parch: 2, duplicate in 80 times and 8.75% tell Fare is 69.55\n",
      "Parch: 5, duplicate in 5 times and 40.0% tell Fare is 31.275\n",
      "Parch: 3, duplicate in 5 times and 40.0% tell Fare is 34.375\n",
      "Parch: 4, duplicate in 4 times and 50.0% tell Fare is 27.9\n",
      "----------------------------------------------------------\n",
      "Parch: 0, duplicate in 678 times and 79.2% tell Cabin is -1\n",
      "Parch: 1, duplicate in 118 times and 66.95% tell Cabin is -1\n",
      "Parch: 2, duplicate in 80 times and 71.25% tell Cabin is -1\n",
      "Parch: 5, duplicate in 5 times and 100.0% tell Cabin is -1\n",
      "Parch: 3, duplicate in 5 times and 100.0% tell Cabin is -1\n",
      "Parch: 4, duplicate in 4 times and 75.0% tell Cabin is -1\n",
      "----------------------------------------------------------\n",
      "Parch: 0, duplicate in 678 times and 71.39% tell Embarked is S\n",
      "Parch: 1, duplicate in 118 times and 69.49% tell Embarked is S\n",
      "Parch: 2, duplicate in 80 times and 81.25% tell Embarked is S\n",
      "Parch: 5, duplicate in 5 times and 80.0% tell Embarked is S\n",
      "Parch: 3, duplicate in 5 times and 80.0% tell Embarked is S\n",
      "Parch: 4, duplicate in 4 times and 100.0% tell Embarked is S\n",
      "----------------------------------------------------------\n"
     ]
    }
   ],
   "source": [
    "ff = t[t['Parch'].duplicated(keep=False)]['Parch'].value_counts()\n",
    "\n",
    "for column in t.columns:\n",
    "    if column in ['Name', 'Parch']:\n",
    "        continue\n",
    "    for i in ff.items():\n",
    "        percent = round(t[t['Parch'] == i[0]].fillna(-1)[column].value_counts(normalize=True)*100, 2).max()\n",
    "        column_value = t[t['Parch'] == i[0]].fillna(-1)[column].value_counts().sort_values(ascending=False).head(1).index[0]\n",
    "        print(f'Parch: {i[0]}, duplicate in {i[1]} times and {percent}% tell {column} is {column_value}')\n",
    "    print(\"----------------------------------------------------------\")   \n"
   ]
  },
  {
   "cell_type": "code",
   "execution_count": 5,
   "id": "d282cf89-33db-47f4-bc1d-e3376076d58f",
   "metadata": {},
   "outputs": [
    {
     "name": "stdout",
     "output_type": "stream",
     "text": [
      "Survived:    \t 63.02986516853933\n",
      "----------------------------------------------------------\n",
      "Pclass:    \t 55.05258426966292\n",
      "----------------------------------------------------------\n",
      "Sex:    \t 67.75586516853933\n",
      "----------------------------------------------------------\n",
      "Age:    \t 20.564629213483148\n",
      "----------------------------------------------------------\n",
      "SibSp:    \t 71.00919101123596\n",
      "----------------------------------------------------------\n",
      "Ticket:    \t 2.8074831460674154\n",
      "----------------------------------------------------------\n",
      "Fare:    \t 6.963999999999999\n",
      "----------------------------------------------------------\n",
      "Cabin:    \t 77.07606741573034\n",
      "----------------------------------------------------------\n",
      "Embarked:    \t 72.24970786516853\n",
      "----------------------------------------------------------\n"
     ]
    }
   ],
   "source": [
    "ff = t[t['Parch'].duplicated(keep=False)]['Parch'].value_counts()\n",
    "\n",
    "for column in t.columns:\n",
    "    sum = 0\n",
    "    if column in ['Name', 'Parch']:\n",
    "        continue\n",
    "    for i in ff.items():\n",
    "        percent = round(t[t['Parch'] == i[0]].fillna(-1)[column].value_counts(normalize=True)*100, 2).max()\n",
    "        column_value = t[t['Parch'] == i[0]].fillna(-1)[column].value_counts().sort_values(ascending=False).head(1).index[0]\n",
    "        sum += i[1] * percent\n",
    "\n",
    "    print(f'{column}:    \\t', sum/ff.sum())\n",
    "    print(\"----------------------------------------------------------\")   "
   ]
  }
 ],
 "metadata": {
  "kernelspec": {
   "display_name": "Python 3 (ipykernel)",
   "language": "python",
   "name": "python3"
  },
  "language_info": {
   "codemirror_mode": {
    "name": "ipython",
    "version": 3
   },
   "file_extension": ".py",
   "mimetype": "text/x-python",
   "name": "python",
   "nbconvert_exporter": "python",
   "pygments_lexer": "ipython3",
   "version": "3.8.10"
  }
 },
 "nbformat": 4,
 "nbformat_minor": 5
}
