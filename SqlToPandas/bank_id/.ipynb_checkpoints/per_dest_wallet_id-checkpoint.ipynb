{
 "cells": [
  {
   "cell_type": "markdown",
   "id": "d8534344-7cb9-4a78-92b8-05479b864ceb",
   "metadata": {},
   "source": [
    "\n",
    "        select bank_id, dest_wallet_id, swtc+swtv total, wight\n",
    "        from(\n",
    "            select bank_id, dest_wallet_id, sum(wight) wight , sum(transaction_value) swtv, sum(transaction_cost) swtc\n",
    "            from(\n",
    "                select bank_id, dest_wallet_id, sum(new_count) wight, transaction_cost, transaction_value\n",
    "                from(\n",
    "                    select *\n",
    "                    from(\n",
    "                        select bank_id, dest_wallet_id,  count(count) new_count, transaction_cost, transaction_value\n",
    "                        from data_dataset\n",
    "                        where count = 0\n",
    "                        group by bank_id, dest_wallet_id, transaction_cost, transaction_value) as b0\n",
    " \n",
    "                    union all\n",
    "                    select *\n",
    "                    from(\n",
    "                        select bank_id, dest_wallet_id,  count new_count, transaction_cost, transaction_value\n",
    "                        from data_dataset\n",
    "                        where count != 0) as b1) as b2\n",
    "                group by bank_id, dest_wallet_id, transaction_cost, transaction_value) as b3\n",
    "            group by bank_id, dest_wallet_id) as b4\n",
    "            where bank_id = {{number_of_bank_id}}\n",
    "            order by total desc\n"
   ]
  },
  {
   "cell_type": "code",
   "execution_count": 5,
   "id": "9c0d47f0-8cec-42cb-a5d8-6f8f6cd8b5b4",
   "metadata": {},
   "outputs": [],
   "source": [
    "import pandas as pd"
   ]
  },
  {
   "cell_type": "code",
   "execution_count": 31,
   "id": "fdff0877-a23b-468a-b027-9b096b9bbf5d",
   "metadata": {},
   "outputs": [],
   "source": [
    "data = pd.read_csv('../github_source/tranasaction_dataset.csv', parse_dates=['time_internal'])\n"
   ]
  },
  {
   "cell_type": "code",
   "execution_count": 94,
   "id": "dc202572-fa10-4897-85b8-db7fd7e75fb1",
   "metadata": {},
   "outputs": [],
   "source": [
    "tmp_data1 = data[data['count'] == 0]\n",
    "dg1 = tmp_data1.groupby(by=['bank_id', 'dest_wallet_id', 'transaction_cost', 'transaction_value']).agg({'count':'count'}).reset_index()"
   ]
  },
  {
   "cell_type": "code",
   "execution_count": 95,
   "id": "5c17ce76-b9ef-4a16-9118-f9a7fa255a24",
   "metadata": {},
   "outputs": [],
   "source": [
    "tmp_data2 = data[data['count'] != 0]\n",
    "dg2 = tmp_data2[['bank_id', 'dest_wallet_id', 'transaction_cost', 'transaction_value', 'count']]"
   ]
  },
  {
   "cell_type": "code",
   "execution_count": 109,
   "id": "42869dba-9fe4-425c-906d-2f6d648106c6",
   "metadata": {},
   "outputs": [],
   "source": [
    "dg = pd.concat([dg1, dg2])"
   ]
  },
  {
   "cell_type": "code",
   "execution_count": 97,
   "id": "d2bf461a-3d54-45b1-9a9e-12aac590c711",
   "metadata": {},
   "outputs": [],
   "source": [
    "dg = dg.groupby(by=['bank_id', 'dest_wallet_id', 'transaction_cost', 'transaction_value']).agg({'count': 'sum'}).reset_index()"
   ]
  },
  {
   "cell_type": "code",
   "execution_count": 98,
   "id": "2f121577-16ef-4eb9-83b0-edc35258f150",
   "metadata": {},
   "outputs": [],
   "source": [
    "dg = dg.groupby(by=['bank_id', 'dest_wallet_id']).sum(['transaction_cost', 'transaction_value', 'count']).reset_index()"
   ]
  },
  {
   "cell_type": "code",
   "execution_count": 99,
   "id": "4f6a0a21-4a2a-4437-bb78-842727978949",
   "metadata": {},
   "outputs": [],
   "source": [
    "dg['total_value'] = dg['transaction_cost'] + dg['transaction_value']\n",
    "dg = dg.drop(['transaction_cost', 'transaction_value'], axis='columns')"
   ]
  },
  {
   "cell_type": "code",
   "execution_count": 107,
   "id": "848185d4-ee1c-492f-87a9-32fc78e80fcd",
   "metadata": {},
   "outputs": [
    {
     "data": {
      "text/html": [
       "<div>\n",
       "<style scoped>\n",
       "    .dataframe tbody tr th:only-of-type {\n",
       "        vertical-align: middle;\n",
       "    }\n",
       "\n",
       "    .dataframe tbody tr th {\n",
       "        vertical-align: top;\n",
       "    }\n",
       "\n",
       "    .dataframe thead th {\n",
       "        text-align: right;\n",
       "    }\n",
       "</style>\n",
       "<table border=\"1\" class=\"dataframe\">\n",
       "  <thead>\n",
       "    <tr style=\"text-align: right;\">\n",
       "      <th></th>\n",
       "      <th>bank_id</th>\n",
       "      <th>dest_wallet_id</th>\n",
       "      <th>count</th>\n",
       "      <th>total_value</th>\n",
       "    </tr>\n",
       "  </thead>\n",
       "  <tbody>\n",
       "    <tr>\n",
       "      <th>86981</th>\n",
       "      <td>13335</td>\n",
       "      <td>3161613056</td>\n",
       "      <td>72049</td>\n",
       "      <td>7693582494</td>\n",
       "    </tr>\n",
       "    <tr>\n",
       "      <th>81789</th>\n",
       "      <td>13335</td>\n",
       "      <td>1746866354</td>\n",
       "      <td>195095</td>\n",
       "      <td>6804993010</td>\n",
       "    </tr>\n",
       "    <tr>\n",
       "      <th>81694</th>\n",
       "      <td>13335</td>\n",
       "      <td>1746866206</td>\n",
       "      <td>193428</td>\n",
       "      <td>5193374629</td>\n",
       "    </tr>\n",
       "    <tr>\n",
       "      <th>86875</th>\n",
       "      <td>13335</td>\n",
       "      <td>3161612295</td>\n",
       "      <td>49956</td>\n",
       "      <td>4428249274</td>\n",
       "    </tr>\n",
       "    <tr>\n",
       "      <th>86910</th>\n",
       "      <td>13335</td>\n",
       "      <td>3161612551</td>\n",
       "      <td>50390</td>\n",
       "      <td>4334148983</td>\n",
       "    </tr>\n",
       "    <tr>\n",
       "      <th>...</th>\n",
       "      <td>...</td>\n",
       "      <td>...</td>\n",
       "      <td>...</td>\n",
       "      <td>...</td>\n",
       "    </tr>\n",
       "    <tr>\n",
       "      <th>83481</th>\n",
       "      <td>13335</td>\n",
       "      <td>2889911470</td>\n",
       "      <td>1</td>\n",
       "      <td>300</td>\n",
       "    </tr>\n",
       "    <tr>\n",
       "      <th>76841</th>\n",
       "      <td>13335</td>\n",
       "      <td>1746179293</td>\n",
       "      <td>2</td>\n",
       "      <td>300</td>\n",
       "    </tr>\n",
       "    <tr>\n",
       "      <th>77293</th>\n",
       "      <td>13335</td>\n",
       "      <td>1746209507</td>\n",
       "      <td>1</td>\n",
       "      <td>300</td>\n",
       "    </tr>\n",
       "    <tr>\n",
       "      <th>73596</th>\n",
       "      <td>13335</td>\n",
       "      <td>1745979587</td>\n",
       "      <td>6</td>\n",
       "      <td>296</td>\n",
       "    </tr>\n",
       "    <tr>\n",
       "      <th>75373</th>\n",
       "      <td>13335</td>\n",
       "      <td>1746068012</td>\n",
       "      <td>5</td>\n",
       "      <td>255</td>\n",
       "    </tr>\n",
       "  </tbody>\n",
       "</table>\n",
       "<p>15784 rows × 4 columns</p>\n",
       "</div>"
      ],
      "text/plain": [
       "       bank_id  dest_wallet_id   count  total_value\n",
       "86981    13335      3161613056   72049   7693582494\n",
       "81789    13335      1746866354  195095   6804993010\n",
       "81694    13335      1746866206  193428   5193374629\n",
       "86875    13335      3161612295   49956   4428249274\n",
       "86910    13335      3161612551   50390   4334148983\n",
       "...        ...             ...     ...          ...\n",
       "83481    13335      2889911470       1          300\n",
       "76841    13335      1746179293       2          300\n",
       "77293    13335      1746209507       1          300\n",
       "73596    13335      1745979587       6          296\n",
       "75373    13335      1746068012       5          255\n",
       "\n",
       "[15784 rows x 4 columns]"
      ]
     },
     "execution_count": 107,
     "metadata": {},
     "output_type": "execute_result"
    }
   ],
   "source": [
    "your_bank_id = 13335\n",
    "dg[dg['bank_id'] == your_bank_id].sort_values(by='total_value', ascending=False)"
   ]
  }
 ],
 "metadata": {
  "kernelspec": {
   "display_name": "Python 3 (ipykernel)",
   "language": "python",
   "name": "python3"
  },
  "language_info": {
   "codemirror_mode": {
    "name": "ipython",
    "version": 3
   },
   "file_extension": ".py",
   "mimetype": "text/x-python",
   "name": "python",
   "nbconvert_exporter": "python",
   "pygments_lexer": "ipython3",
   "version": "3.8.10"
  }
 },
 "nbformat": 4,
 "nbformat_minor": 5
}
