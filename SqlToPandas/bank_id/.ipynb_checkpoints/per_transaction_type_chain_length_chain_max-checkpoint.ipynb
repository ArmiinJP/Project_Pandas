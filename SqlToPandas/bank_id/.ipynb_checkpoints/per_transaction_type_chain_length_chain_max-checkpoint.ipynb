{
 "cells": [
  {
   "cell_type": "code",
   "execution_count": null,
   "id": "fd787ed9-1783-40c1-9121-c443b8ab2e21",
   "metadata": {},
   "outputs": [],
   "source": [
    "\n",
    "        select bank_id, transaction_type_chain, number_of_chain, swtc+swtv total, wight\n",
    "        from(\n",
    "            select bank_id, transaction_type_chain, number_of_chain, sum(wight) wight , sum(transaction_value) swtv, sum(transaction_cost) swtc\n",
    "            from(\n",
    "                select bank_id, transaction_type_chain, number_of_chain, sum(new_count) wight, transaction_cost, transaction_value\n",
    "                from(\n",
    "                    select *\n",
    "                    from(\n",
    "                        select bank_id, transaction_type_chain, length(transaction_type_chain) - length(replace(transaction_type_chain, ';', '')) + 1 number_of_chain,  count(count) new_count, transaction_cost, transaction_value\n",
    "                        from data_dataset\n",
    "                        where count = 0\n",
    "                        group by bank_id, transaction_type_chain, length(transaction_type_chain) - length(replace(transaction_type_chain, ';', '')) + 1, transaction_cost, transaction_value) as b0\n",
    " \n",
    "                    union all\n",
    "                    select *\n",
    "                    from(\n",
    "                        select bank_id, transaction_type_chain, length(transaction_type_chain) - length(replace(transaction_type_chain, ';', '')) + 1 number_of_chain,  count new_count, transaction_cost, transaction_value\n",
    "                        from data_dataset\n",
    "                        where count != 0) as b1) as b2\n",
    "                group by bank_id, transaction_type_chain, number_of_chain, transaction_cost, transaction_value) as b3\n",
    "            group by bank_id, number_of_chain, transaction_type_chain) as b4\n",
    "            where bank_id = {{number_of_bankid}} and number_of_chain = (    select number_of_chain\n",
    "    from(\n",
    "        select bank_id, number_of_chain, swtc+swtv total, wight\n",
    "        from(\n",
    "            select bank_id, number_of_chain, sum(wight) wight , sum(transaction_value) swtv, sum(transaction_cost) swtc\n",
    "            from(\n",
    "                select bank_id, number_of_chain, sum(new_count) wight, transaction_cost, transaction_value\n",
    "                from(\n",
    "                    select *\n",
    "                    from(\n",
    "                        select bank_id, length(transaction_type_chain) - length(replace(transaction_type_chain, ';', '')) + 1 number_of_chain,  count(count) new_count, transaction_cost, transaction_value\n",
    "                        from data_dataset\n",
    "                        where count = 0\n",
    "                        group by bank_id, length(transaction_type_chain) - length(replace(transaction_type_chain, ';', '')) + 1, transaction_cost, transaction_value) as b0\n",
    " \n",
    "                    union all\n",
    "                    select *\n",
    "                    from(\n",
    "                        select bank_id, length(transaction_type_chain) - length(replace(transaction_type_chain, ';', '')) + 1 number_of_chain,  count new_count, transaction_cost, transaction_value\n",
    "                        from data_dataset\n",
    "                        where count != 0) as b1) as b2\n",
    "                group by bank_id, number_of_chain, transaction_cost, transaction_value) as b3\n",
    "            group by bank_id, number_of_chain) as b4\n",
    "            where bank_id = {{number_of_bankid}}\n",
    "            order by total desc\n",
    "            limit 1) as b5)\n",
    "            order by total desc\n",
    "            "
   ]
  },
  {
   "cell_type": "code",
   "execution_count": 67,
   "id": "85db33a0-aff5-444b-8fa7-ff9406246eca",
   "metadata": {},
   "outputs": [],
   "source": [
    "import pandas as pd\n",
    "import numpy as np"
   ]
  },
  {
   "cell_type": "code",
   "execution_count": 68,
   "id": "3c15027c-6965-4962-92f4-6d74a65bbffe",
   "metadata": {},
   "outputs": [],
   "source": [
    "data = pd.read_csv('../../github_source/tranasaction_dataset.csv', parse_dates=['time_internal'])\n",
    "data = data.replace(np.nan,0)\n",
    "data['length_chain'] = data['transaction_type_chain'].str.count(';')+1"
   ]
  },
  {
   "cell_type": "code",
   "execution_count": 69,
   "id": "171e921e-688e-4886-b762-5dee29ed65e3",
   "metadata": {},
   "outputs": [],
   "source": [
    "tmp_data = data[data['count'] == 0]\n",
    "dg1 = tmp_data.groupby(by=['bank_id', 'length_chain', 'transaction_cost', 'transaction_value']).agg({'count': 'count'}).reset_index()"
   ]
  },
  {
   "cell_type": "code",
   "execution_count": 70,
   "id": "9f6e808e-300d-4162-92ff-c24386bdf4f1",
   "metadata": {},
   "outputs": [],
   "source": [
    "tmp_data2 = data[data['count'] != 0]\n",
    "dg2 = tmp_data2[['count', 'bank_id', 'length_chain', 'transaction_cost', 'transaction_value']]"
   ]
  },
  {
   "cell_type": "code",
   "execution_count": 71,
   "id": "bbb8e3e0-6a95-45c3-b9f4-29d2c31c6411",
   "metadata": {},
   "outputs": [],
   "source": [
    "dg = pd.concat([dg1, dg2])"
   ]
  },
  {
   "cell_type": "code",
   "execution_count": 72,
   "id": "dc44a102-83e8-45a2-9b14-ec7a533d1be1",
   "metadata": {},
   "outputs": [],
   "source": [
    "dg = dg.groupby(by=['bank_id', 'length_chain', 'transaction_cost', 'transaction_value']).agg({'count': 'sum'}).reset_index()"
   ]
  },
  {
   "cell_type": "code",
   "execution_count": 73,
   "id": "142bf1b5-96bc-43d0-93f6-6c3d53f722c8",
   "metadata": {},
   "outputs": [],
   "source": [
    "dg = dg.groupby(by=['bank_id', 'length_chain']).agg({\n",
    "    'count' : 'sum',\n",
    "    'transaction_cost' : 'sum',\n",
    "    'transaction_value' : 'sum'\n",
    "}).reset_index()"
   ]
  },
  {
   "cell_type": "code",
   "execution_count": 74,
   "id": "509ca74f-56ed-4f93-b8f2-fea3e09c0ba2",
   "metadata": {},
   "outputs": [],
   "source": [
    "dg['total_value'] = dg['transaction_cost'] + dg['transaction_value']\n",
    "dg = dg.drop(['transaction_cost', 'transaction_value'], axis='columns')"
   ]
  },
  {
   "cell_type": "code",
   "execution_count": 75,
   "id": "6e9010db-9242-4427-9011-9eb724c5686f",
   "metadata": {},
   "outputs": [],
   "source": [
    "your_bank_id = 13335\n",
    "final = dg[dg['bank_id'] == your_bank_id].sort_values('total_value', ascending=False).head(1)\n",
    "best = final['length_chain'].values[0]"
   ]
  },
  {
   "cell_type": "code",
   "execution_count": 76,
   "id": "982bc5b0-8e46-42c8-8442-5563cf243b17",
   "metadata": {},
   "outputs": [],
   "source": [
    "data = data[data['length_chain'] == best]"
   ]
  },
  {
   "cell_type": "code",
   "execution_count": 77,
   "id": "59dcaad3-937e-4471-93e8-08dfc2c7b71e",
   "metadata": {},
   "outputs": [],
   "source": [
    "tmp_data = data[data['count'] == 0]\n",
    "dg1 = tmp_data.groupby(by=['bank_id', 'transaction_type_chain', 'transaction_cost', 'transaction_value']).agg({'count': 'count'}).reset_index()"
   ]
  },
  {
   "cell_type": "code",
   "execution_count": 78,
   "id": "7a411617-1823-46d8-9b9b-ab7981ea59f2",
   "metadata": {},
   "outputs": [],
   "source": [
    "tmp_data2 = data[data['count'] != 0]\n",
    "dg2 = tmp_data2[['count', 'bank_id', 'transaction_type_chain', 'transaction_cost', 'transaction_value']]"
   ]
  },
  {
   "cell_type": "code",
   "execution_count": 79,
   "id": "309ea360-b6fa-4070-bce4-d7238564c7f6",
   "metadata": {},
   "outputs": [],
   "source": [
    "dg = pd.concat([dg1, dg2])"
   ]
  },
  {
   "cell_type": "code",
   "execution_count": 80,
   "id": "7127654a-06d7-4512-947e-fa6c7bf5d5ea",
   "metadata": {},
   "outputs": [],
   "source": [
    "dg = dg.groupby(by=['bank_id', 'transaction_type_chain', 'transaction_cost', 'transaction_value']).agg({'count': 'sum'}).reset_index()"
   ]
  },
  {
   "cell_type": "code",
   "execution_count": 81,
   "id": "87e187b1-3b86-47d1-a564-61cc1246a655",
   "metadata": {},
   "outputs": [],
   "source": [
    "dg = dg.groupby(by=['bank_id', 'transaction_type_chain']).agg({\n",
    "    'count' : 'sum',\n",
    "    'transaction_cost' : 'sum',\n",
    "    'transaction_value' : 'sum'\n",
    "}).reset_index()"
   ]
  },
  {
   "cell_type": "code",
   "execution_count": 82,
   "id": "495804f8-aefb-43fe-b158-74e4a568b397",
   "metadata": {},
   "outputs": [],
   "source": [
    "dg['total_value'] = dg['transaction_cost'] + dg['transaction_value']\n",
    "dg = dg.drop(['transaction_cost', 'transaction_value'], axis='columns')"
   ]
  },
  {
   "cell_type": "code",
   "execution_count": 84,
   "id": "835f9da3-7c4f-4452-af0e-c8c9a3588260",
   "metadata": {},
   "outputs": [
    {
     "data": {
      "text/html": [
       "<div>\n",
       "<style scoped>\n",
       "    .dataframe tbody tr th:only-of-type {\n",
       "        vertical-align: middle;\n",
       "    }\n",
       "\n",
       "    .dataframe tbody tr th {\n",
       "        vertical-align: top;\n",
       "    }\n",
       "\n",
       "    .dataframe thead th {\n",
       "        text-align: right;\n",
       "    }\n",
       "</style>\n",
       "<table border=\"1\" class=\"dataframe\">\n",
       "  <thead>\n",
       "    <tr style=\"text-align: right;\">\n",
       "      <th></th>\n",
       "      <th>bank_id</th>\n",
       "      <th>transaction_type_chain</th>\n",
       "      <th>count</th>\n",
       "      <th>total_value</th>\n",
       "    </tr>\n",
       "  </thead>\n",
       "  <tbody>\n",
       "    <tr>\n",
       "      <th>2818</th>\n",
       "      <td>13335</td>\n",
       "      <td>28392p;28691p;17s;28391m;27333m;27714m</td>\n",
       "      <td>16703</td>\n",
       "      <td>18537082219</td>\n",
       "    </tr>\n",
       "    <tr>\n",
       "      <th>2859</th>\n",
       "      <td>13335</td>\n",
       "      <td>28392p;28691p;6s;28391m;27333m;1122s</td>\n",
       "      <td>166205</td>\n",
       "      <td>8571626945</td>\n",
       "    </tr>\n",
       "    <tr>\n",
       "      <th>2853</th>\n",
       "      <td>13335</td>\n",
       "      <td>28392p;28691p;6s;1122s;28391m;27333m</td>\n",
       "      <td>43371</td>\n",
       "      <td>2476618286</td>\n",
       "    </tr>\n",
       "    <tr>\n",
       "      <th>2865</th>\n",
       "      <td>13335</td>\n",
       "      <td>28392p;28691p;6s;28391m;27333m;847s</td>\n",
       "      <td>13193</td>\n",
       "      <td>1154107386</td>\n",
       "    </tr>\n",
       "    <tr>\n",
       "      <th>2874</th>\n",
       "      <td>13335</td>\n",
       "      <td>28392p;6s;1122s;28391m;27333m;28412p</td>\n",
       "      <td>8903</td>\n",
       "      <td>952222386</td>\n",
       "    </tr>\n",
       "    <tr>\n",
       "      <th>...</th>\n",
       "      <td>...</td>\n",
       "      <td>...</td>\n",
       "      <td>...</td>\n",
       "      <td>...</td>\n",
       "    </tr>\n",
       "    <tr>\n",
       "      <th>2819</th>\n",
       "      <td>13335</td>\n",
       "      <td>28392p;28691p;27525p;28454p;6s;27714m</td>\n",
       "      <td>12</td>\n",
       "      <td>750</td>\n",
       "    </tr>\n",
       "    <tr>\n",
       "      <th>2821</th>\n",
       "      <td>13335</td>\n",
       "      <td>28392p;28691p;27525p;28497m;6s;27714m</td>\n",
       "      <td>6</td>\n",
       "      <td>740</td>\n",
       "    </tr>\n",
       "    <tr>\n",
       "      <th>2830</th>\n",
       "      <td>13335</td>\n",
       "      <td>28392p;28691p;28481m;3501s;27714m;28412p</td>\n",
       "      <td>1</td>\n",
       "      <td>636</td>\n",
       "    </tr>\n",
       "    <tr>\n",
       "      <th>2857</th>\n",
       "      <td>13335</td>\n",
       "      <td>28392p;28691p;6s;27714m;6s;1002s</td>\n",
       "      <td>1</td>\n",
       "      <td>628</td>\n",
       "    </tr>\n",
       "    <tr>\n",
       "      <th>2832</th>\n",
       "      <td>13335</td>\n",
       "      <td>28392p;28691p;28481m;6s;27714m;1002s</td>\n",
       "      <td>1</td>\n",
       "      <td>412</td>\n",
       "    </tr>\n",
       "  </tbody>\n",
       "</table>\n",
       "<p>83 rows × 4 columns</p>\n",
       "</div>"
      ],
      "text/plain": [
       "      bank_id                    transaction_type_chain   count  total_value\n",
       "2818    13335    28392p;28691p;17s;28391m;27333m;27714m   16703  18537082219\n",
       "2859    13335      28392p;28691p;6s;28391m;27333m;1122s  166205   8571626945\n",
       "2853    13335      28392p;28691p;6s;1122s;28391m;27333m   43371   2476618286\n",
       "2865    13335       28392p;28691p;6s;28391m;27333m;847s   13193   1154107386\n",
       "2874    13335      28392p;6s;1122s;28391m;27333m;28412p    8903    952222386\n",
       "...       ...                                       ...     ...          ...\n",
       "2819    13335     28392p;28691p;27525p;28454p;6s;27714m      12          750\n",
       "2821    13335     28392p;28691p;27525p;28497m;6s;27714m       6          740\n",
       "2830    13335  28392p;28691p;28481m;3501s;27714m;28412p       1          636\n",
       "2857    13335          28392p;28691p;6s;27714m;6s;1002s       1          628\n",
       "2832    13335      28392p;28691p;28481m;6s;27714m;1002s       1          412\n",
       "\n",
       "[83 rows x 4 columns]"
      ]
     },
     "execution_count": 84,
     "metadata": {},
     "output_type": "execute_result"
    }
   ],
   "source": [
    "your_bank_id = 13335\n",
    "dg[dg['bank_id'] == your_bank_id].sort_values('total_value', ascending=False)"
   ]
  }
 ],
 "metadata": {
  "kernelspec": {
   "display_name": "Python 3 (ipykernel)",
   "language": "python",
   "name": "python3"
  },
  "language_info": {
   "codemirror_mode": {
    "name": "ipython",
    "version": 3
   },
   "file_extension": ".py",
   "mimetype": "text/x-python",
   "name": "python",
   "nbconvert_exporter": "python",
   "pygments_lexer": "ipython3",
   "version": "3.8.10"
  }
 },
 "nbformat": 4,
 "nbformat_minor": 5
}
