{
 "cells": [
  {
   "cell_type": "code",
   "execution_count": 32,
   "id": "92e29a6c-8820-4270-a5a3-95b35bdeb506",
   "metadata": {},
   "outputs": [],
   "source": [
    "import pandas as pd\n",
    "import numpy as np\n",
    "import seaborn as sns\n",
    "import matplotlib.pyplot as plt\n",
    "\n",
    "\n",
    "# Import Package\n",
    "from collections import Counter\n",
    "\n",
    "from sklearn import datasets\n",
    "from sklearn.model_selection import train_test_split\n",
    "from sklearn.metrics import classification_report, confusion_matrix, accuracy_score\n",
    "from sklearn.tree import DecisionTreeClassifier\n",
    "from sklearn import tree\n",
    "\n",
    "import math"
   ]
  },
  {
   "cell_type": "code",
   "execution_count": 33,
   "id": "4b364cbc-af2b-456c-919f-5cf3f6c4baa5",
   "metadata": {},
   "outputs": [],
   "source": [
    "dataset_x_y_train = pd.read_csv(\"train.csv\")\n",
    "dataset_x_test = pd.read_csv(\"test.csv\")\n",
    "dataset_y_test = pd.read_csv(\"gender_submission.csv\")"
   ]
  },
  {
   "cell_type": "code",
   "execution_count": 34,
   "id": "98cb003b-255e-4ac3-ac4b-dd8decc9098c",
   "metadata": {},
   "outputs": [],
   "source": [
    "dataset_x_y_test = dataset_y_test.merge(dataset_x_test, on='PassengerId')"
   ]
  },
  {
   "cell_type": "code",
   "execution_count": 35,
   "id": "f01f9259-ebdd-4212-a5da-8ea95ee78c6e",
   "metadata": {},
   "outputs": [],
   "source": [
    "dataset = pd.concat([dataset_x_y_test, dataset_x_y_train])"
   ]
  },
  {
   "cell_type": "code",
   "execution_count": 36,
   "id": "175039b3-88ad-4c15-8bfe-87509093660a",
   "metadata": {},
   "outputs": [],
   "source": [
    "dataset = dataset.sort_values(['PassengerId'])"
   ]
  },
  {
   "cell_type": "code",
   "execution_count": 37,
   "id": "ee29c072-34c7-422d-83f9-0570d00d4cf1",
   "metadata": {
    "scrolled": true
   },
   "outputs": [
    {
     "name": "stdout",
     "output_type": "stream",
     "text": [
      "\n",
      "Null Values in data \n",
      "PassengerId       0\n",
      "Survived          0\n",
      "Pclass            0\n",
      "Name              0\n",
      "Sex               0\n",
      "Age             263\n",
      "SibSp             0\n",
      "Parch             0\n",
      "Ticket            0\n",
      "Fare              1\n",
      "Cabin          1014\n",
      "Embarked          2\n",
      "dtype: int64\n",
      "\n",
      "Duplicated values in data 0\n"
     ]
    }
   ],
   "source": [
    "print('\\nNull Values in data \\n{}'.format(dataset.isnull().sum()))\n",
    "print('\\nDuplicated values in data {}'.format(dataset.duplicated().sum()))"
   ]
  },
  {
   "cell_type": "code",
   "execution_count": 38,
   "id": "76dc5066-0881-45c4-b47b-53a71f87c85d",
   "metadata": {},
   "outputs": [
    {
     "name": "stdout",
     "output_type": "stream",
     "text": [
      "Embarkation per ports \n",
      "Embarked\n",
      "S    914\n",
      "C    270\n",
      "Q    123\n",
      "Name: count, dtype: int64\n"
     ]
    }
   ],
   "source": [
    "print('Embarkation per ports \\n{}'.format(dataset['Embarked'].value_counts()))"
   ]
  },
  {
   "cell_type": "code",
   "execution_count": 39,
   "id": "e931a6ef-a888-424c-9d88-f3e3a70d146c",
   "metadata": {},
   "outputs": [],
   "source": [
    "dataset['Embarked'].fillna(value='S', inplace=True)\n",
    "dataset['Fare'].fillna(value=dataset.Fare.mean(), inplace=True)"
   ]
  },
  {
   "cell_type": "code",
   "execution_count": 40,
   "id": "36621a08-9030-4e84-bdca-74b772de676e",
   "metadata": {},
   "outputs": [
    {
     "name": "stdout",
     "output_type": "stream",
     "text": [
      "Mean age of Miss. title 22.0\n",
      "Mean age of Mrs. title 37.0\n",
      "Mean age of Mr. title 33.0\n",
      "Mean age of Master. title 5.0\n"
     ]
    }
   ],
   "source": [
    "mean_age_miss = dataset[dataset[\"Name\"].str.contains('Miss.', na=False)]['Age'].mean().round()\n",
    "mean_age_mrs = dataset[dataset[\"Name\"].str.contains('Mrs.', na=False)]['Age'].mean().round()\n",
    "mean_age_mr = dataset[dataset[\"Name\"].str.contains('Mr.', na=False)]['Age'].mean().round()\n",
    "mean_age_master = dataset[dataset[\"Name\"].str.contains('Master.', na=False)]['Age'].mean().round()\n",
    "\n",
    "print('Mean age of Miss. title {}'.format(mean_age_miss))\n",
    "print('Mean age of Mrs. title {}'.format(mean_age_mrs))\n",
    "print('Mean age of Mr. title {}'.format(mean_age_mr))\n",
    "print('Mean age of Master. title {}'.format(mean_age_master))"
   ]
  },
  {
   "cell_type": "code",
   "execution_count": 41,
   "id": "c5f3fbd0-6422-47c8-ad84-764d28262943",
   "metadata": {},
   "outputs": [],
   "source": [
    "def fill_age(name_age):\n",
    "    \n",
    "    name = name_age[0]\n",
    "    age = name_age[1]\n",
    "    \n",
    "    if pd.isnull(age):\n",
    "        if 'Mr.' in name:\n",
    "            return mean_age_mr\n",
    "        if 'Mrs.' in name:\n",
    "            return mean_age_mrs\n",
    "        if 'Miss.' in name:\n",
    "            return mean_age_miss\n",
    "        if 'Master.' in name:\n",
    "            return mean_age_master\n",
    "        if 'Dr.' in name:\n",
    "            return mean_age_master\n",
    "        if 'Ms.' in name:\n",
    "            return mean_age_miss\n",
    "    else:\n",
    "        return age"
   ]
  },
  {
   "cell_type": "code",
   "execution_count": 42,
   "id": "c00100da-e439-4143-8d77-26c701e92f02",
   "metadata": {},
   "outputs": [],
   "source": [
    "dataset['Age'] = dataset[['Name', 'Age']].apply(fill_age,axis=1)"
   ]
  },
  {
   "cell_type": "code",
   "execution_count": 43,
   "id": "dd0bbf7b-e9d7-4b07-beeb-00e1bd3d6457",
   "metadata": {},
   "outputs": [],
   "source": [
    "dataset['Cabin'] = pd.Series(['X' if pd.isnull(ii) else ii[0] for ii in dataset['Cabin']])"
   ]
  },
  {
   "cell_type": "code",
   "execution_count": 44,
   "id": "a8332358-6275-4f08-a325-c3ab5e9daed1",
   "metadata": {},
   "outputs": [
    {
     "name": "stdout",
     "output_type": "stream",
     "text": [
      "Mean Fare of Cabin B 90.92\n",
      "Mean Fare of Cabin C 72.76\n",
      "Mean Fare of Cabin D 50.28\n",
      "Mean Fare of Cabin E 40.41\n",
      "Mean Fare of Cabin A 38.58\n",
      "Mean Fare of Cabin T 21.36\n",
      "Mean Fare of Cabin X 25.29\n",
      "Mean Fare of Cabin F 25.73\n",
      "Mean Fare of Cabin G 14.74\n"
     ]
    }
   ],
   "source": [
    "print('Mean Fare of Cabin B {}'.format(round(dataset[dataset['Cabin']=='B']['Fare'].mean(), 2)))\n",
    "print('Mean Fare of Cabin C {}'.format(round(dataset[dataset['Cabin']=='C']['Fare'].mean(), 2)))\n",
    "print('Mean Fare of Cabin D {}'.format(round(dataset[dataset['Cabin']=='D']['Fare'].mean(), 2)))\n",
    "print('Mean Fare of Cabin E {}'.format(round(dataset[dataset['Cabin']=='E']['Fare'].mean(), 2)))\n",
    "print('Mean Fare of Cabin A {}'.format(round(dataset[dataset['Cabin']=='A']['Fare'].mean(), 2)))\n",
    "print('Mean Fare of Cabin T {}'.format(round(dataset[dataset['Cabin']=='T']['Fare'].mean(), 2)))\n",
    "print('Mean Fare of Cabin X {}'.format(round(dataset[dataset['Cabin']=='X']['Fare'].mean(), 2)))\n",
    "print('Mean Fare of Cabin F {}'.format(round(dataset[dataset['Cabin']=='F']['Fare'].mean(), 2)))\n",
    "print('Mean Fare of Cabin G {}'.format(round(dataset[dataset['Cabin']=='G']['Fare'].mean(), 2)))"
   ]
  },
  {
   "cell_type": "code",
   "execution_count": 45,
   "id": "a0bef370-b736-4b7b-8dec-f941a939cdea",
   "metadata": {},
   "outputs": [],
   "source": [
    "def reasign_cabin(cabin_fare):\n",
    "    \n",
    "    cabin = cabin_fare[0]\n",
    "    fare = cabin_fare[1]\n",
    "    \n",
    "    if cabin=='X':\n",
    "        if (fare >= 113.5):\n",
    "            return 'B'\n",
    "        if ((fare < 113.5) and (fare > 100)):\n",
    "            return 'C'\n",
    "        if ((fare < 100) and (fare > 57)):\n",
    "            return 'D'\n",
    "        if ((fare < 57) and (fare > 46)):\n",
    "            return 'E'\n",
    "        if ((fare < 46) and (fare > 39)):\n",
    "            return 'A'            \n",
    "        else:\n",
    "            return 'X'\n",
    "    else:\n",
    "        return cabin"
   ]
  },
  {
   "cell_type": "code",
   "execution_count": 46,
   "id": "d52222dd-ef62-4b8c-b40b-30f7a95b9ef8",
   "metadata": {},
   "outputs": [],
   "source": [
    "dataset['Cabin'] = dataset[['Cabin', 'Fare']].apply(reasign_cabin, axis=1)"
   ]
  },
  {
   "cell_type": "code",
   "execution_count": 47,
   "id": "606ebfc9-a097-4da5-b060-087f2cd7f99d",
   "metadata": {},
   "outputs": [
    {
     "name": "stdout",
     "output_type": "stream",
     "text": [
      "\n",
      "Null Values in data \n",
      "PassengerId    0\n",
      "Survived       0\n",
      "Pclass         0\n",
      "Name           0\n",
      "Sex            0\n",
      "Age            0\n",
      "SibSp          0\n",
      "Parch          0\n",
      "Ticket         0\n",
      "Fare           0\n",
      "Cabin          0\n",
      "Embarked       0\n",
      "dtype: int64\n",
      "\n",
      "Duplicated values in data 0\n"
     ]
    }
   ],
   "source": [
    "print('\\nNull Values in data \\n{}'.format(dataset.isnull().sum()))\n",
    "print('\\nDuplicated values in data {}'.format(dataset.duplicated().sum()))"
   ]
  },
  {
   "cell_type": "code",
   "execution_count": 48,
   "id": "9c977176-de07-41a6-aca7-90655ea00a78",
   "metadata": {},
   "outputs": [],
   "source": [
    "def create_alone_feature(SibSp_Parch):\n",
    "    if (SibSp_Parch[0]+SibSp_Parch[1])==0:\n",
    "        return 1\n",
    "    else:\n",
    "        return 0\n",
    "\n",
    "dataset['Alone'] = dataset[['SibSp','Parch']].apply(create_alone_feature, axis=1)\n",
    "dataset['Familiars'] = dataset['SibSp'] + dataset['Parch']"
   ]
  },
  {
   "cell_type": "code",
   "execution_count": 49,
   "id": "9d0e4a5f-2422-4997-8d11-928d39e6cd4a",
   "metadata": {},
   "outputs": [],
   "source": [
    "categories = {\"female\": 1, \"male\": 0}\n",
    "dataset['Sex']= dataset['Sex'].map(categories)\n",
    "\n",
    "categories = {\"S\": 1, \"C\": 2, \"Q\": 3}\n",
    "dataset['Embarked']= dataset['Embarked'].map(categories)\n",
    "\n",
    "categories = {\"X\" : 0, \"C\" : 1, \"E\" : 2, \"G\" : 3, \"D\" : 4, \"A\" : 5, \"B\" : 6, \"F\" : 7, \"T\" : 8}\n",
    "dataset['Cabin']= dataset['Cabin'].map(categories)\n",
    "\n",
    "\n",
    "# dataset['Ticket'] = dataset['Ticket'].astype('category')\n",
    "# dataset['Ticket'] = dataset['Ticket'].cat.codes\n",
    "\n",
    "dataset = dataset.drop(['Name','PassengerId'], axis=1)"
   ]
  },
  {
   "cell_type": "code",
   "execution_count": 50,
   "id": "4b11f9f5-eaff-47c1-9be4-a5d0c572601b",
   "metadata": {},
   "outputs": [],
   "source": [
    "train = dataset[:891]\n",
    "test = dataset[891:]"
   ]
  },
  {
   "cell_type": "code",
   "execution_count": 51,
   "id": "7e868c08-c0b4-4992-b438-17b2f49c1396",
   "metadata": {},
   "outputs": [],
   "source": [
    "x_train = train.loc[:,['Pclass', 'Sex', 'Age', 'SibSp', 'Parch', 'Fare', 'Cabin', 'Embarked', 'Alone', 'Familiars']]\n",
    "y_train = train.loc[:, 'Survived']\n",
    "\n",
    "x_test = test.loc[:,['Pclass', 'Sex', 'Age', 'SibSp', 'Parch', 'Fare', 'Cabin', 'Embarked', 'Alone', 'Familiars']]\n",
    "y_test = test.loc[:, 'Survived']"
   ]
  },
  {
   "cell_type": "code",
   "execution_count": 52,
   "id": "65c86218-f4a9-4992-b5d6-f08c6b068f4d",
   "metadata": {},
   "outputs": [],
   "source": [
    "# Random Forest Implemetion\n",
    "\n",
    "def bootstrap_sample(X, y):\n",
    "    n_samples = X.shape[0]\n",
    "    idxs = np.random.choice(n_samples, n_samples, replace=True)\n",
    "    #result = pd.DataFrame(X.values[idxs], columns=['PassengerId', 'Pclass','Name', 'Sex', 'Age', 'SibSp', 'Parch', 'Ticket', 'Fare', 'Cabin', 'Embarked'])\n",
    "    result = pd.DataFrame(X.values[idxs], columns=['Pclass', 'Sex', 'Age', 'SibSp', 'Parch', 'Fare', 'Cabin', 'Embarked', 'Alone', 'Familiars'])\n",
    "    return result, y[idxs]\n",
    "\n",
    "\n",
    "def most_common_label(y):\n",
    "    counter = Counter(y)\n",
    "    most_common = counter.most_common(1)[0][0]\n",
    "    return most_common\n",
    "\n",
    "\n",
    "class RandomForest:\n",
    "    def __init__(self, n_trees=10, min_samples_split=2, max_depth=100, n_feats=None, criterion='entropy', random_state=None):\n",
    "        self.n_trees = n_trees\n",
    "        self.min_samples_split = min_samples_split\n",
    "        self.max_depth = max_depth\n",
    "        self.n_feats = n_feats\n",
    "        self.criterion = criterion\n",
    "        self.random_state = random_state\n",
    "        self.trees = []\n",
    "\n",
    "    def fit(self, X, y):\n",
    "        self.trees = []\n",
    "        for _ in range(self.n_trees):\n",
    "            clf = DecisionTreeClassifier(min_samples_split = self.min_samples_split,\n",
    "                                         random_state = self.random_state,\n",
    "                                         criterion = self.criterion,\n",
    "                                         max_features = self.n_feats,\n",
    "                                         max_depth = self.max_depth,\n",
    "                                         class_weight = \"balanced\")\n",
    "            \n",
    "            X_samp, y_samp = bootstrap_sample(X, y)\n",
    "            clf.fit(X_samp, y_samp)\n",
    "            self.trees.append(clf)\n",
    "        return self.trees\n",
    "\n",
    "    def predict(self, X):\n",
    "        tree_preds = np.array([tree.predict(X) for tree in self.trees])\n",
    "        tree_preds = np.swapaxes(tree_preds, 0, 1)\n",
    "        y_pred = [most_common_label(tree_pred) for tree_pred in tree_preds]\n",
    "        return np.array(y_pred)"
   ]
  },
  {
   "cell_type": "code",
   "execution_count": 95,
   "id": "8426fd6e-3e30-49e4-a37b-61339aa24378",
   "metadata": {},
   "outputs": [],
   "source": [
    "clf = RandomForest(n_trees=100, max_depth=4, n_feats=5, random_state=876)\n",
    "trees = clf.fit(x_train, y_train)\n",
    "y_pred = clf.predict(x_test)"
   ]
  },
  {
   "cell_type": "code",
   "execution_count": 96,
   "id": "59316268-1ee4-460f-ad07-0889ab14493a",
   "metadata": {},
   "outputs": [
    {
     "name": "stdout",
     "output_type": "stream",
     "text": [
      "Confusion Matrix:\n",
      "[[264   4]\n",
      " [  2 148]]\n",
      "Classification Report:\n",
      "              precision    recall  f1-score   support\n",
      "\n",
      "           0       0.99      0.99      0.99       266\n",
      "           1       0.99      0.97      0.98       152\n",
      "\n",
      "    accuracy                           0.99       418\n",
      "   macro avg       0.99      0.98      0.98       418\n",
      "weighted avg       0.99      0.99      0.99       418\n",
      "\n",
      "Accuracy: 0.9856459330143541\n"
     ]
    }
   ],
   "source": [
    "result = confusion_matrix(y_pred, y_test)\n",
    "print(\"Confusion Matrix:\")\n",
    "print(result)\n",
    "result1 = classification_report(y_test, y_pred)\n",
    "print(\"Classification Report:\",)\n",
    "print (result1)\n",
    "result2 = accuracy_score(y_test,y_pred)\n",
    "print(\"Accuracy:\",result2)"
   ]
  }
 ],
 "metadata": {
  "kernelspec": {
   "display_name": "Python 3 (ipykernel)",
   "language": "python",
   "name": "python3"
  },
  "language_info": {
   "codemirror_mode": {
    "name": "ipython",
    "version": 3
   },
   "file_extension": ".py",
   "mimetype": "text/x-python",
   "name": "python",
   "nbconvert_exporter": "python",
   "pygments_lexer": "ipython3",
   "version": "3.8.10"
  }
 },
 "nbformat": 4,
 "nbformat_minor": 5
}
