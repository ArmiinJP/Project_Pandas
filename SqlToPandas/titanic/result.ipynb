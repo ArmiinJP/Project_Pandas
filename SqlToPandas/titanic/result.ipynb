{
 "cells": [
  {
   "cell_type": "code",
   "execution_count": 145,
   "id": "0827aa12-dddf-4282-b5ac-1f2803b8f60e",
   "metadata": {},
   "outputs": [],
   "source": [
    "import pandas as pd\n",
    "import numpy as np"
   ]
  },
  {
   "cell_type": "code",
   "execution_count": 146,
   "id": "ba17487c-0d52-4867-9f3d-800a1d00e028",
   "metadata": {},
   "outputs": [],
   "source": [
    "titanic = pd.read_csv('train.csv')\n",
    "t = titanic.set_index(['PassengerId'])\n",
    "pd.set_option('display.max_rows', None)"
   ]
  },
  {
   "cell_type": "code",
   "execution_count": 156,
   "id": "b0f2db69-a32d-4ede-bae0-f3b0705aa49b",
   "metadata": {},
   "outputs": [
    {
     "data": {
      "text/html": [
       "<div>\n",
       "<style scoped>\n",
       "    .dataframe tbody tr th:only-of-type {\n",
       "        vertical-align: middle;\n",
       "    }\n",
       "\n",
       "    .dataframe tbody tr th {\n",
       "        vertical-align: top;\n",
       "    }\n",
       "\n",
       "    .dataframe thead th {\n",
       "        text-align: right;\n",
       "    }\n",
       "</style>\n",
       "<table border=\"1\" class=\"dataframe\">\n",
       "  <thead>\n",
       "    <tr style=\"text-align: right;\">\n",
       "      <th></th>\n",
       "      <th>Survived</th>\n",
       "    </tr>\n",
       "  </thead>\n",
       "  <tbody>\n",
       "    <tr>\n",
       "      <th>Ticket</th>\n",
       "      <td>84.88</td>\n",
       "    </tr>\n",
       "    <tr>\n",
       "      <th>Cabin</th>\n",
       "      <td>82.52</td>\n",
       "    </tr>\n",
       "    <tr>\n",
       "      <th>Sex</th>\n",
       "      <td>78.68</td>\n",
       "    </tr>\n",
       "    <tr>\n",
       "      <th>Fare</th>\n",
       "      <td>77.96</td>\n",
       "    </tr>\n",
       "    <tr>\n",
       "      <th>Pclass</th>\n",
       "      <td>67.9</td>\n",
       "    </tr>\n",
       "    <tr>\n",
       "      <th>Age</th>\n",
       "      <td>65.19</td>\n",
       "    </tr>\n",
       "    <tr>\n",
       "      <th>Embarked</th>\n",
       "      <td>63.78</td>\n",
       "    </tr>\n",
       "    <tr>\n",
       "      <th>SibSp</th>\n",
       "      <td>63.3</td>\n",
       "    </tr>\n",
       "    <tr>\n",
       "      <th>Parch</th>\n",
       "      <td>63.03</td>\n",
       "    </tr>\n",
       "  </tbody>\n",
       "</table>\n",
       "</div>"
      ],
      "text/plain": [
       "         Survived\n",
       "Ticket      84.88\n",
       "Cabin       82.52\n",
       "Sex         78.68\n",
       "Fare        77.96\n",
       "Pclass       67.9\n",
       "Age         65.19\n",
       "Embarked    63.78\n",
       "SibSp        63.3\n",
       "Parch       63.03"
      ]
     },
     "execution_count": 156,
     "metadata": {},
     "output_type": "execute_result"
    }
   ],
   "source": [
    "result = pd.DataFrame(index=t.columns, columns=t.columns)\n",
    "for outer_column in t.columns:\n",
    "    sum = 0\n",
    "    if outer_column in ['Name', 'Survived']:\n",
    "        continue\n",
    "    ff = t[t[outer_column].duplicated(keep=False)][outer_column].value_counts()\n",
    "    for i in ff.items():\n",
    "        percent = round(t[t[outer_column] == i[0]].fillna(-1)['Survived'].value_counts(normalize=True)*100, 3).max()\n",
    "        column_value = t[t[outer_column] == i[0]].fillna(-1)['Survived'].value_counts().sort_values(ascending=False).head(1).index[0]\n",
    "        sum += i[1] * percent\n",
    "    result['Survived'][outer_column] = round(sum / ff.sum(), 2)\n",
    "\n",
    "t_result = result.dropna(axis='columns', how='all').dropna(axis='index', how='all').sort_values(by='Survived', ascending=False)\n",
    "t_result"
   ]
  },
  {
   "cell_type": "code",
   "execution_count": 163,
   "id": "68e3399c-a10c-4557-b343-448f97715340",
   "metadata": {
    "scrolled": true
   },
   "outputs": [],
   "source": [
    "def search(entry):\n",
    "    for column in t_result.index:\n",
    "        for value in t[column]:\n",
    "            if value == entry[column]:\n",
    "                percent = round(t[t[column] == value].fillna(-1)['Survived'].value_counts(normalize=True)*100, 2).max()\n",
    "                column_value = t[t[column] == value].fillna(-1)['Survived'].value_counts().sort_values(ascending=False).head(1).index[0]\n",
    "                return column, percent, column_value\n",
    "\n",
    "def first_model(x):\n",
    "    entries = []\n",
    "    for entry in x:\n",
    "        entries.append({\n",
    "            'Pclass': entry[1],\n",
    "            'Name': entry[2],\n",
    "            'Sex': entry[3],\n",
    "            'Age': entry[4],\n",
    "            'SibSp': entry[5],\n",
    "            'Parch': entry[6],\n",
    "            'Ticket': entry[7],\n",
    "            'Fare': entry[8],\n",
    "            'Cabin': entry[9],\n",
    "            'Embarked': entry[10]\n",
    "        })\n",
    "\n",
    "    response = []\n",
    "    result = []\n",
    "    for entry in entries:\n",
    "        response.append(search(entry))\n",
    "\n",
    "    for i in response:\n",
    "        result.append(i[2])\n",
    "\n",
    "    return result"
   ]
  },
  {
   "cell_type": "code",
   "execution_count": 149,
   "id": "36e404ca-8ddb-45c1-a3a1-65e78af57777",
   "metadata": {},
   "outputs": [],
   "source": [
    "dataset = pd.read_csv('test.csv')\n",
    "dataset.head()\n",
    "\n",
    "dataset2 = pd.read_csv('gender_submission.csv')\n",
    "dataset2.head(), dataset.head()\n",
    "\n",
    "dataset_final = dataset.merge(dataset2, on='PassengerId')\n",
    "\n",
    "x = dataset_final.iloc[:, :-1].values\n",
    "y = dataset_final.iloc[:, 11].values\n"
   ]
  },
  {
   "cell_type": "code",
   "execution_count": 210,
   "id": "82aafe77-eb36-4064-9590-a3e0fdcac90c",
   "metadata": {},
   "outputs": [
    {
     "name": "stdout",
     "output_type": "stream",
     "text": [
      "Confusion Matrix:\n",
      "[[75  7]\n",
      " [ 8 36]]\n",
      "Classification Report:\n",
      "              precision    recall  f1-score   support\n",
      "\n",
      "           0       0.90      0.91      0.91        82\n",
      "           1       0.84      0.82      0.83        44\n",
      "\n",
      "    accuracy                           0.88       126\n",
      "   macro avg       0.87      0.87      0.87       126\n",
      "weighted avg       0.88      0.88      0.88       126\n",
      "\n",
      "Accuracy: 0.8809523809523809\n"
     ]
    }
   ],
   "source": [
    "from sklearn.model_selection import train_test_split\n",
    "x_train, x_test, y_train, y_test = train_test_split(x, y, test_size = 0.30)\n",
    "y_pred = first_model(x_test)\n",
    "\n",
    "from sklearn.metrics import classification_report, confusion_matrix, accuracy_score\n",
    "result = confusion_matrix(y_test, y_pred)\n",
    "print(\"Confusion Matrix:\")\n",
    "print(result)\n",
    "result1 = classification_report(y_test, y_pred)\n",
    "\n",
    "print(\"Classification Report:\",)\n",
    "print (result1)\n",
    "result2 = accuracy_score(y_test,y_pred)\n",
    "print(\"Accuracy:\",result2)"
   ]
  }
 ],
 "metadata": {
  "kernelspec": {
   "display_name": "Python 3 (ipykernel)",
   "language": "python",
   "name": "python3"
  },
  "language_info": {
   "codemirror_mode": {
    "name": "ipython",
    "version": 3
   },
   "file_extension": ".py",
   "mimetype": "text/x-python",
   "name": "python",
   "nbconvert_exporter": "python",
   "pygments_lexer": "ipython3",
   "version": "3.8.10"
  }
 },
 "nbformat": 4,
 "nbformat_minor": 5
}
