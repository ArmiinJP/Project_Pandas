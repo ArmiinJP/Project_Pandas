{
 "cells": [
  {
   "cell_type": "code",
   "execution_count": 10,
   "id": "3c064c99-eece-45a3-a487-1b4097ee81a9",
   "metadata": {},
   "outputs": [],
   "source": [
    "import psycopg2\n",
    "import pandas as pd\n",
    "import numpy as np"
   ]
  },
  {
   "cell_type": "code",
   "execution_count": 11,
   "id": "0c03acfd-5e9e-48b1-8bb5-dee1d18a10e2",
   "metadata": {},
   "outputs": [],
   "source": [
    "conn = psycopg2.connect(\n",
    "    host=\"localhost\",\n",
    "    dbname=\"postgres\",\n",
    "    user=\"postgres\",\n",
    "    password=\"postgres\"\n",
    ")"
   ]
  },
  {
   "cell_type": "code",
   "execution_count": 12,
   "id": "16d02155-584f-4fd0-8959-9d767171a1b9",
   "metadata": {},
   "outputs": [],
   "source": [
    "cur = conn.cursor()"
   ]
  },
  {
   "cell_type": "code",
   "execution_count": 13,
   "id": "27a8db60-6227-461f-8195-ac5edd652be4",
   "metadata": {},
   "outputs": [
    {
     "ename": "SyntaxError",
     "evalue": "syntax error at or near \"{\"\nLINE 24: where bank_id = {{number_of_bank_id}}\n                         ^\n",
     "output_type": "error",
     "traceback": [
      "\u001b[0;31m---------------------------------------------------------------------------\u001b[0m",
      "\u001b[0;31mSyntaxError\u001b[0m                               Traceback (most recent call last)",
      "Cell \u001b[0;32mIn[13], line 1\u001b[0m\n\u001b[0;32m----> 1\u001b[0m \u001b[43mcur\u001b[49m\u001b[38;5;241;43m.\u001b[39;49m\u001b[43mexecute\u001b[49m\u001b[43m(\u001b[49m\u001b[38;5;124;43m\"\"\"\u001b[39;49m\n\u001b[1;32m      2\u001b[0m \u001b[38;5;124;43mselect \u001b[39;49m\u001b[38;5;124;43m'\u001b[39;49m\u001b[38;5;124;43mp\u001b[39;49m\u001b[38;5;124;43m'\u001b[39;49m\u001b[38;5;124;43m charecter, bank_id, swtc+swtv total, wight\u001b[39;49m\n\u001b[1;32m      3\u001b[0m \u001b[38;5;124;43mfrom(\u001b[39;49m\n\u001b[1;32m      4\u001b[0m \u001b[38;5;124;43m    select bank_id, sum(wight) wight , sum(transaction_value) swtv, sum(transaction_cost) swtc\u001b[39;49m\n\u001b[1;32m      5\u001b[0m \u001b[38;5;124;43m    from(\u001b[39;49m\n\u001b[1;32m      6\u001b[0m \u001b[38;5;124;43m        select bank_id, transaction_type_chain, sum(new_count) wight, transaction_cost, transaction_value\u001b[39;49m\n\u001b[1;32m      7\u001b[0m \u001b[38;5;124;43m        from(\u001b[39;49m\n\u001b[1;32m      8\u001b[0m \u001b[38;5;124;43m            select *\u001b[39;49m\n\u001b[1;32m      9\u001b[0m \u001b[38;5;124;43m            from(\u001b[39;49m\n\u001b[1;32m     10\u001b[0m \u001b[38;5;124;43m                select bank_id, transaction_type_chain,  count(count) new_count, transaction_cost, transaction_value\u001b[39;49m\n\u001b[1;32m     11\u001b[0m \u001b[38;5;124;43m                from (select transaction_type_chain, dest_wallet_id, bank_id, transaction_cost, transaction_value, transaction_gateway_id, count, transaction_type, wallet_nickname, time_internal from data_dataset) as newdataset\u001b[39;49m\n\u001b[1;32m     12\u001b[0m \u001b[38;5;124;43m                where count = 0\u001b[39;49m\n\u001b[1;32m     13\u001b[0m \u001b[38;5;124;43m                group by bank_id, transaction_type_chain, transaction_cost, transaction_value) as b0\u001b[39;49m\n\u001b[1;32m     14\u001b[0m \n\u001b[1;32m     15\u001b[0m \u001b[38;5;124;43m        union all\u001b[39;49m\n\u001b[1;32m     16\u001b[0m \u001b[38;5;124;43m        select *\u001b[39;49m\n\u001b[1;32m     17\u001b[0m \u001b[38;5;124;43m        from(\u001b[39;49m\n\u001b[1;32m     18\u001b[0m \u001b[38;5;124;43m            select bank_id, transaction_type_chain,  count new_count, transaction_cost, transaction_value\u001b[39;49m\n\u001b[1;32m     19\u001b[0m \u001b[38;5;124;43m            from (select transaction_type_chain, dest_wallet_id, bank_id, transaction_cost, transaction_value, transaction_gateway_id, count, transaction_type, wallet_nickname, time_internal from data_dataset) as newdataset\u001b[39;49m\n\u001b[1;32m     20\u001b[0m \u001b[38;5;124;43m            where count != 0) as b1) as b2\u001b[39;49m\n\u001b[1;32m     21\u001b[0m \u001b[38;5;124;43m    group by bank_id, transaction_type_chain, transaction_cost, transaction_value) as b3\u001b[39;49m\n\u001b[1;32m     22\u001b[0m \u001b[38;5;124;43mwhere transaction_type_chain like \u001b[39;49m\u001b[38;5;124;43m'\u001b[39;49m\u001b[38;5;124;43m%\u001b[39;49m\u001b[38;5;124;43mp\u001b[39;49m\u001b[38;5;124;43m%\u001b[39;49m\u001b[38;5;124;43m'\u001b[39;49m\n\u001b[1;32m     23\u001b[0m \u001b[38;5;124;43mgroup by bank_id) as b4\u001b[39;49m\n\u001b[1;32m     24\u001b[0m \u001b[38;5;124;43mwhere bank_id = \u001b[39;49m\u001b[38;5;124;43m{{\u001b[39;49m\u001b[38;5;124;43mnumber_of_bank_id}}\u001b[39;49m\n\u001b[1;32m     25\u001b[0m \u001b[38;5;124;43munion all\u001b[39;49m\n\u001b[1;32m     26\u001b[0m \u001b[38;5;124;43mselect \u001b[39;49m\u001b[38;5;124;43m'\u001b[39;49m\u001b[38;5;124;43mc\u001b[39;49m\u001b[38;5;124;43m'\u001b[39;49m\u001b[38;5;124;43m charecter, bank_id, swtc+swtv total, wight\u001b[39;49m\n\u001b[1;32m     27\u001b[0m \u001b[38;5;124;43mfrom(\u001b[39;49m\n\u001b[1;32m     28\u001b[0m \u001b[38;5;124;43m    select bank_id, sum(wight) wight , sum(transaction_value) swtv, sum(transaction_cost) swtc\u001b[39;49m\n\u001b[1;32m     29\u001b[0m \u001b[38;5;124;43m    from(\u001b[39;49m\n\u001b[1;32m     30\u001b[0m \u001b[38;5;124;43m        select bank_id, transaction_type_chain, sum(new_count) wight, transaction_cost, transaction_value\u001b[39;49m\n\u001b[1;32m     31\u001b[0m \u001b[38;5;124;43m        from(\u001b[39;49m\n\u001b[1;32m     32\u001b[0m \u001b[38;5;124;43m            select *\u001b[39;49m\n\u001b[1;32m     33\u001b[0m \u001b[38;5;124;43m            from(\u001b[39;49m\n\u001b[1;32m     34\u001b[0m \u001b[38;5;124;43m                select bank_id, transaction_type_chain,  count(count) new_count, transaction_cost, transaction_value\u001b[39;49m\n\u001b[1;32m     35\u001b[0m \u001b[38;5;124;43m                from (select transaction_type_chain, dest_wallet_id, bank_id, transaction_cost, transaction_value, transaction_gateway_id, count, transaction_type, wallet_nickname, time_internal from data_dataset) as newdataset\u001b[39;49m\n\u001b[1;32m     36\u001b[0m \u001b[38;5;124;43m                where count = 0\u001b[39;49m\n\u001b[1;32m     37\u001b[0m \u001b[38;5;124;43m                group by bank_id, transaction_type_chain, transaction_cost, transaction_value) as b0\u001b[39;49m\n\u001b[1;32m     38\u001b[0m \u001b[38;5;124;43m \u001b[39;49m\n\u001b[1;32m     39\u001b[0m \u001b[38;5;124;43m        union all\u001b[39;49m\n\u001b[1;32m     40\u001b[0m \u001b[38;5;124;43m        select *\u001b[39;49m\n\u001b[1;32m     41\u001b[0m \u001b[38;5;124;43m        from(\u001b[39;49m\n\u001b[1;32m     42\u001b[0m \u001b[38;5;124;43m            select bank_id, transaction_type_chain,  count new_count, transaction_cost, transaction_value\u001b[39;49m\n\u001b[1;32m     43\u001b[0m \u001b[38;5;124;43m            from (select transaction_type_chain, dest_wallet_id, bank_id, transaction_cost, transaction_value, transaction_gateway_id, count, transaction_type, wallet_nickname, time_internal from data_dataset) as newdataset\u001b[39;49m\n\u001b[1;32m     44\u001b[0m \u001b[38;5;124;43m            where count != 0) as b1) as b2\u001b[39;49m\n\u001b[1;32m     45\u001b[0m \u001b[38;5;124;43m    group by bank_id, transaction_type_chain, transaction_cost, transaction_value) as b3\u001b[39;49m\n\u001b[1;32m     46\u001b[0m \u001b[38;5;124;43mwhere transaction_type_chain like \u001b[39;49m\u001b[38;5;124;43m'\u001b[39;49m\u001b[38;5;132;43;01m%c\u001b[39;49;00m\u001b[38;5;124;43m%\u001b[39;49m\u001b[38;5;124;43m'\u001b[39;49m\n\u001b[1;32m     47\u001b[0m \u001b[38;5;124;43mgroup by bank_id) as b4\u001b[39;49m\n\u001b[1;32m     48\u001b[0m \u001b[38;5;124;43mwhere bank_id = \u001b[39;49m\u001b[38;5;124;43m{{\u001b[39;49m\u001b[38;5;124;43mnumber_of_bank_id}}\u001b[39;49m\n\u001b[1;32m     49\u001b[0m \u001b[38;5;124;43munion all\u001b[39;49m\n\u001b[1;32m     50\u001b[0m \u001b[38;5;124;43mselect \u001b[39;49m\u001b[38;5;124;43m'\u001b[39;49m\u001b[38;5;124;43ms\u001b[39;49m\u001b[38;5;124;43m'\u001b[39;49m\u001b[38;5;124;43m charecter, bank_id, swtc+swtv total, wight\u001b[39;49m\n\u001b[1;32m     51\u001b[0m \u001b[38;5;124;43mfrom(\u001b[39;49m\n\u001b[1;32m     52\u001b[0m \u001b[38;5;124;43m    select bank_id, sum(wight) wight , sum(transaction_value) swtv, sum(transaction_cost) swtc\u001b[39;49m\n\u001b[1;32m     53\u001b[0m \u001b[38;5;124;43m    from(\u001b[39;49m\n\u001b[1;32m     54\u001b[0m \u001b[38;5;124;43m        select bank_id, transaction_type_chain, sum(new_count) wight, transaction_cost, transaction_value\u001b[39;49m\n\u001b[1;32m     55\u001b[0m \u001b[38;5;124;43m        from(\u001b[39;49m\n\u001b[1;32m     56\u001b[0m \u001b[38;5;124;43m            select *\u001b[39;49m\n\u001b[1;32m     57\u001b[0m \u001b[38;5;124;43m            from(\u001b[39;49m\n\u001b[1;32m     58\u001b[0m \u001b[38;5;124;43m                select bank_id, transaction_type_chain,  count(count) new_count, transaction_cost, transaction_value\u001b[39;49m\n\u001b[1;32m     59\u001b[0m \u001b[38;5;124;43m                from (select transaction_type_chain, dest_wallet_id, bank_id, transaction_cost, transaction_value, transaction_gateway_id, count, transaction_type, wallet_nickname, time_internal from data_dataset) as newdataset\u001b[39;49m\n\u001b[1;32m     60\u001b[0m \u001b[38;5;124;43m                where count = 0\u001b[39;49m\n\u001b[1;32m     61\u001b[0m \u001b[38;5;124;43m                group by bank_id, transaction_type_chain, transaction_cost, transaction_value) as b0\u001b[39;49m\n\u001b[1;32m     62\u001b[0m \u001b[38;5;124;43m \u001b[39;49m\n\u001b[1;32m     63\u001b[0m \u001b[38;5;124;43m        union all\u001b[39;49m\n\u001b[1;32m     64\u001b[0m \u001b[38;5;124;43m        select *\u001b[39;49m\n\u001b[1;32m     65\u001b[0m \u001b[38;5;124;43m        from(\u001b[39;49m\n\u001b[1;32m     66\u001b[0m \u001b[38;5;124;43m            select bank_id, transaction_type_chain,  count new_count, transaction_cost, transaction_value\u001b[39;49m\n\u001b[1;32m     67\u001b[0m \u001b[38;5;124;43m            from (select transaction_type_chain, dest_wallet_id, bank_id, transaction_cost, transaction_value, transaction_gateway_id, count, transaction_type, wallet_nickname, time_internal from data_dataset) as newdataset\u001b[39;49m\n\u001b[1;32m     68\u001b[0m \u001b[38;5;124;43m            where count != 0) as b1) as b2\u001b[39;49m\n\u001b[1;32m     69\u001b[0m \u001b[38;5;124;43m    group by bank_id, transaction_type_chain, transaction_cost, transaction_value) as b3\u001b[39;49m\n\u001b[1;32m     70\u001b[0m \u001b[38;5;124;43mwhere transaction_type_chain like \u001b[39;49m\u001b[38;5;124;43m'\u001b[39;49m\u001b[38;5;132;43;01m%s\u001b[39;49;00m\u001b[38;5;124;43m%\u001b[39;49m\u001b[38;5;124;43m'\u001b[39;49m\n\u001b[1;32m     71\u001b[0m \u001b[38;5;124;43mgroup by bank_id) as b4\u001b[39;49m\n\u001b[1;32m     72\u001b[0m \u001b[38;5;124;43mwhere bank_id = \u001b[39;49m\u001b[38;5;124;43m{{\u001b[39;49m\u001b[38;5;124;43mnumber_of_bank_id}}\u001b[39;49m\n\u001b[1;32m     73\u001b[0m \u001b[38;5;124;43munion all\u001b[39;49m\n\u001b[1;32m     74\u001b[0m \u001b[38;5;124;43mselect \u001b[39;49m\u001b[38;5;124;43m'\u001b[39;49m\u001b[38;5;124;43mm\u001b[39;49m\u001b[38;5;124;43m'\u001b[39;49m\u001b[38;5;124;43m charecter, bank_id, swtc+swtv total, wight\u001b[39;49m\n\u001b[1;32m     75\u001b[0m \u001b[38;5;124;43mfrom(\u001b[39;49m\n\u001b[1;32m     76\u001b[0m \u001b[38;5;124;43m    select bank_id, sum(wight) wight , sum(transaction_value) swtv, sum(transaction_cost) swtc\u001b[39;49m\n\u001b[1;32m     77\u001b[0m \u001b[38;5;124;43m    from(\u001b[39;49m\n\u001b[1;32m     78\u001b[0m \u001b[38;5;124;43m        select bank_id, transaction_type_chain, sum(new_count) wight, transaction_cost, transaction_value\u001b[39;49m\n\u001b[1;32m     79\u001b[0m \u001b[38;5;124;43m        from(\u001b[39;49m\n\u001b[1;32m     80\u001b[0m \u001b[38;5;124;43m            select *\u001b[39;49m\n\u001b[1;32m     81\u001b[0m \u001b[38;5;124;43m            from(\u001b[39;49m\n\u001b[1;32m     82\u001b[0m \u001b[38;5;124;43m                select bank_id, transaction_type_chain,  count(count) new_count, transaction_cost, transaction_value\u001b[39;49m\n\u001b[1;32m     83\u001b[0m \u001b[38;5;124;43m                from (select transaction_type_chain, dest_wallet_id, bank_id, transaction_cost, transaction_value, transaction_gateway_id, count, transaction_type, wallet_nickname, time_internal from data_dataset) as newdataset\u001b[39;49m\n\u001b[1;32m     84\u001b[0m \u001b[38;5;124;43m                where count = 0\u001b[39;49m\n\u001b[1;32m     85\u001b[0m \u001b[38;5;124;43m                group by bank_id, transaction_type_chain, transaction_cost, transaction_value) as b0\u001b[39;49m\n\u001b[1;32m     86\u001b[0m \u001b[38;5;124;43m \u001b[39;49m\n\u001b[1;32m     87\u001b[0m \u001b[38;5;124;43m        union all\u001b[39;49m\n\u001b[1;32m     88\u001b[0m \u001b[38;5;124;43m        select *\u001b[39;49m\n\u001b[1;32m     89\u001b[0m \u001b[38;5;124;43m        from(\u001b[39;49m\n\u001b[1;32m     90\u001b[0m \u001b[38;5;124;43m            select bank_id, transaction_type_chain,  count new_count, transaction_cost, transaction_value\u001b[39;49m\n\u001b[1;32m     91\u001b[0m \u001b[38;5;124;43m            from (select transaction_type_chain, dest_wallet_id, bank_id, transaction_cost, transaction_value, transaction_gateway_id, count, transaction_type, wallet_nickname, time_internal from data_dataset) as newdataset\u001b[39;49m\n\u001b[1;32m     92\u001b[0m \u001b[38;5;124;43m            where count != 0) as b1) as b2\u001b[39;49m\n\u001b[1;32m     93\u001b[0m \u001b[38;5;124;43m    group by bank_id, transaction_type_chain, transaction_cost, transaction_value) as b3\u001b[39;49m\n\u001b[1;32m     94\u001b[0m \u001b[38;5;124;43mwhere transaction_type_chain like \u001b[39;49m\u001b[38;5;124;43m'\u001b[39;49m\u001b[38;5;124;43m%\u001b[39;49m\u001b[38;5;124;43mm\u001b[39;49m\u001b[38;5;124;43m%\u001b[39;49m\u001b[38;5;124;43m'\u001b[39;49m\n\u001b[1;32m     95\u001b[0m \u001b[38;5;124;43mgroup by bank_id) as b4\u001b[39;49m\n\u001b[1;32m     96\u001b[0m \u001b[38;5;124;43mwhere bank_id = 13335\u001b[39;49m\n\u001b[1;32m     97\u001b[0m \u001b[38;5;124;43morder by total desc \u001b[39;49m\u001b[38;5;124;43m\"\"\"\u001b[39;49m\u001b[43m)\u001b[49m\n",
      "\u001b[0;31mSyntaxError\u001b[0m: syntax error at or near \"{\"\nLINE 24: where bank_id = {{number_of_bank_id}}\n                         ^\n"
     ]
    }
   ],
   "source": [
    "cur.execute(\"\"\"\n",
    "select 'p' charecter, bank_id, swtc+swtv total, wight\n",
    "from(\n",
    "    select bank_id, sum(wight) wight , sum(transaction_value) swtv, sum(transaction_cost) swtc\n",
    "    from(\n",
    "        select bank_id, transaction_type_chain, sum(new_count) wight, transaction_cost, transaction_value\n",
    "        from(\n",
    "            select *\n",
    "            from(\n",
    "                select bank_id, transaction_type_chain,  count(count) new_count, transaction_cost, transaction_value\n",
    "                from (select transaction_type_chain, dest_wallet_id, bank_id, transaction_cost, transaction_value, transaction_gateway_id, count, transaction_type, wallet_nickname, time_internal from data_dataset) as newdataset\n",
    "                where count = 0\n",
    "                group by bank_id, transaction_type_chain, transaction_cost, transaction_value) as b0\n",
    "\n",
    "        union all\n",
    "        select *\n",
    "        from(\n",
    "            select bank_id, transaction_type_chain,  count new_count, transaction_cost, transaction_value\n",
    "            from (select transaction_type_chain, dest_wallet_id, bank_id, transaction_cost, transaction_value, transaction_gateway_id, count, transaction_type, wallet_nickname, time_internal from data_dataset) as newdataset\n",
    "            where count != 0) as b1) as b2\n",
    "    group by bank_id, transaction_type_chain, transaction_cost, transaction_value) as b3\n",
    "where transaction_type_chain like '%p%'\n",
    "group by bank_id) as b4\n",
    "where bank_id = {{number_of_bank_id}}\n",
    "union all\n",
    "select 'c' charecter, bank_id, swtc+swtv total, wight\n",
    "from(\n",
    "    select bank_id, sum(wight) wight , sum(transaction_value) swtv, sum(transaction_cost) swtc\n",
    "    from(\n",
    "        select bank_id, transaction_type_chain, sum(new_count) wight, transaction_cost, transaction_value\n",
    "        from(\n",
    "            select *\n",
    "            from(\n",
    "                select bank_id, transaction_type_chain,  count(count) new_count, transaction_cost, transaction_value\n",
    "                from (select transaction_type_chain, dest_wallet_id, bank_id, transaction_cost, transaction_value, transaction_gateway_id, count, transaction_type, wallet_nickname, time_internal from data_dataset) as newdataset\n",
    "                where count = 0\n",
    "                group by bank_id, transaction_type_chain, transaction_cost, transaction_value) as b0\n",
    " \n",
    "        union all\n",
    "        select *\n",
    "        from(\n",
    "            select bank_id, transaction_type_chain,  count new_count, transaction_cost, transaction_value\n",
    "            from (select transaction_type_chain, dest_wallet_id, bank_id, transaction_cost, transaction_value, transaction_gateway_id, count, transaction_type, wallet_nickname, time_internal from data_dataset) as newdataset\n",
    "            where count != 0) as b1) as b2\n",
    "    group by bank_id, transaction_type_chain, transaction_cost, transaction_value) as b3\n",
    "where transaction_type_chain like '%c%'\n",
    "group by bank_id) as b4\n",
    "where bank_id = {{number_of_bank_id}}\n",
    "union all\n",
    "select 's' charecter, bank_id, swtc+swtv total, wight\n",
    "from(\n",
    "    select bank_id, sum(wight) wight , sum(transaction_value) swtv, sum(transaction_cost) swtc\n",
    "    from(\n",
    "        select bank_id, transaction_type_chain, sum(new_count) wight, transaction_cost, transaction_value\n",
    "        from(\n",
    "            select *\n",
    "            from(\n",
    "                select bank_id, transaction_type_chain,  count(count) new_count, transaction_cost, transaction_value\n",
    "                from (select transaction_type_chain, dest_wallet_id, bank_id, transaction_cost, transaction_value, transaction_gateway_id, count, transaction_type, wallet_nickname, time_internal from data_dataset) as newdataset\n",
    "                where count = 0\n",
    "                group by bank_id, transaction_type_chain, transaction_cost, transaction_value) as b0\n",
    " \n",
    "        union all\n",
    "        select *\n",
    "        from(\n",
    "            select bank_id, transaction_type_chain,  count new_count, transaction_cost, transaction_value\n",
    "            from (select transaction_type_chain, dest_wallet_id, bank_id, transaction_cost, transaction_value, transaction_gateway_id, count, transaction_type, wallet_nickname, time_internal from data_dataset) as newdataset\n",
    "            where count != 0) as b1) as b2\n",
    "    group by bank_id, transaction_type_chain, transaction_cost, transaction_value) as b3\n",
    "where transaction_type_chain like '%s%'\n",
    "group by bank_id) as b4\n",
    "where bank_id = {{number_of_bank_id}}\n",
    "union all\n",
    "select 'm' charecter, bank_id, swtc+swtv total, wight\n",
    "from(\n",
    "    select bank_id, sum(wight) wight , sum(transaction_value) swtv, sum(transaction_cost) swtc\n",
    "    from(\n",
    "        select bank_id, transaction_type_chain, sum(new_count) wight, transaction_cost, transaction_value\n",
    "        from(\n",
    "            select *\n",
    "            from(\n",
    "                select bank_id, transaction_type_chain,  count(count) new_count, transaction_cost, transaction_value\n",
    "                from (select transaction_type_chain, dest_wallet_id, bank_id, transaction_cost, transaction_value, transaction_gateway_id, count, transaction_type, wallet_nickname, time_internal from data_dataset) as newdataset\n",
    "                where count = 0\n",
    "                group by bank_id, transaction_type_chain, transaction_cost, transaction_value) as b0\n",
    " \n",
    "        union all\n",
    "        select *\n",
    "        from(\n",
    "            select bank_id, transaction_type_chain,  count new_count, transaction_cost, transaction_value\n",
    "            from (select transaction_type_chain, dest_wallet_id, bank_id, transaction_cost, transaction_value, transaction_gateway_id, count, transaction_type, wallet_nickname, time_internal from data_dataset) as newdataset\n",
    "            where count != 0) as b1) as b2\n",
    "    group by bank_id, transaction_type_chain, transaction_cost, transaction_value) as b3\n",
    "where transaction_type_chain like '%m%'\n",
    "group by bank_id) as b4\n",
    "where bank_id = 13335\n",
    "order by total desc \"\"\")"
   ]
  },
  {
   "cell_type": "code",
   "execution_count": 14,
   "id": "7c7015de-9021-4cf2-bef7-6b7e917a7d5c",
   "metadata": {},
   "outputs": [
    {
     "ename": "ProgrammingError",
     "evalue": "no results to fetch",
     "output_type": "error",
     "traceback": [
      "\u001b[0;31m---------------------------------------------------------------------------\u001b[0m",
      "\u001b[0;31mProgrammingError\u001b[0m                          Traceback (most recent call last)",
      "Cell \u001b[0;32mIn[14], line 1\u001b[0m\n\u001b[0;32m----> 1\u001b[0m result \u001b[38;5;241m=\u001b[39m \u001b[43mcur\u001b[49m\u001b[38;5;241;43m.\u001b[39;49m\u001b[43mfetchall\u001b[49m\u001b[43m(\u001b[49m\u001b[43m)\u001b[49m\n\u001b[1;32m      2\u001b[0m pd\u001b[38;5;241m.\u001b[39mDataFrame(result)\n",
      "\u001b[0;31mProgrammingError\u001b[0m: no results to fetch"
     ]
    }
   ],
   "source": [
    "result = cur.fetchall()\n",
    "pd.DataFrame(result)"
   ]
  },
  {
   "cell_type": "code",
   "execution_count": 13,
   "id": "3c15027c-6965-4962-92f4-6d74a65bbffe",
   "metadata": {},
   "outputs": [],
   "source": [
    "data = pd.read_csv('../../github_source/tranasaction_dataset.csv', parse_dates=['time_internal'])\n",
    "data = data.replace(np.nan,0)"
   ]
  },
  {
   "cell_type": "code",
   "execution_count": 14,
   "id": "171e921e-688e-4886-b762-5dee29ed65e3",
   "metadata": {},
   "outputs": [],
   "source": [
    "tmp_data = data[data['count'] == 0]\n",
    "tmp_data\n",
    "dg1 = tmp_data.groupby(by=['bank_id', 'transaction_type_chain', 'transaction_cost', 'transaction_value']).agg({'count': 'count'}).reset_index()"
   ]
  },
  {
   "cell_type": "code",
   "execution_count": 15,
   "id": "9f6e808e-300d-4162-92ff-c24386bdf4f1",
   "metadata": {},
   "outputs": [],
   "source": [
    "tmp_data2 = data[data['count'] != 0]\n",
    "dg2 = tmp_data2[['count', 'bank_id', 'transaction_type_chain', 'transaction_cost', 'transaction_value']]"
   ]
  },
  {
   "cell_type": "code",
   "execution_count": 16,
   "id": "bbb8e3e0-6a95-45c3-b9f4-29d2c31c6411",
   "metadata": {},
   "outputs": [],
   "source": [
    "dg = pd.concat([dg1, dg2])\n",
    "dg_total = []\n",
    "dg_total.append(dg[dg['transaction_type_chain'].str.contains('c')])\n",
    "dg_total.append(dg[dg['transaction_type_chain'].str.contains('m')])\n",
    "dg_total.append(dg[dg['transaction_type_chain'].str.contains('p')])\n",
    "dg_total.append(dg[dg['transaction_type_chain'].str.contains('s')])"
   ]
  },
  {
   "cell_type": "code",
   "execution_count": 17,
   "id": "dc44a102-83e8-45a2-9b14-ec7a533d1be1",
   "metadata": {},
   "outputs": [
    {
     "data": {
      "text/html": [
       "<div>\n",
       "<style scoped>\n",
       "    .dataframe tbody tr th:only-of-type {\n",
       "        vertical-align: middle;\n",
       "    }\n",
       "\n",
       "    .dataframe tbody tr th {\n",
       "        vertical-align: top;\n",
       "    }\n",
       "\n",
       "    .dataframe thead th {\n",
       "        text-align: right;\n",
       "    }\n",
       "</style>\n",
       "<table border=\"1\" class=\"dataframe\">\n",
       "  <thead>\n",
       "    <tr style=\"text-align: right;\">\n",
       "      <th></th>\n",
       "      <th>bank_id</th>\n",
       "      <th>count</th>\n",
       "      <th>total_value</th>\n",
       "    </tr>\n",
       "  </thead>\n",
       "  <tbody>\n",
       "    <tr>\n",
       "      <th>c</th>\n",
       "      <td>13335</td>\n",
       "      <td>10397</td>\n",
       "      <td>858215940</td>\n",
       "    </tr>\n",
       "    <tr>\n",
       "      <th>m</th>\n",
       "      <td>13335</td>\n",
       "      <td>1140958</td>\n",
       "      <td>87530414114</td>\n",
       "    </tr>\n",
       "    <tr>\n",
       "      <th>p</th>\n",
       "      <td>13335</td>\n",
       "      <td>1219889</td>\n",
       "      <td>87532276892</td>\n",
       "    </tr>\n",
       "    <tr>\n",
       "      <th>s</th>\n",
       "      <td>13335</td>\n",
       "      <td>1219891</td>\n",
       "      <td>87544747219</td>\n",
       "    </tr>\n",
       "  </tbody>\n",
       "</table>\n",
       "</div>"
      ],
      "text/plain": [
       "   bank_id    count  total_value\n",
       "c    13335    10397    858215940\n",
       "m    13335  1140958  87530414114\n",
       "p    13335  1219889  87532276892\n",
       "s    13335  1219891  87544747219"
      ]
     },
     "execution_count": 17,
     "metadata": {},
     "output_type": "execute_result"
    }
   ],
   "source": [
    "result = []\n",
    "for i in range(4):\n",
    "    result.append([])\n",
    "    \n",
    "for i in range(4):\n",
    "    dg_total[i] = dg_total[i].groupby(by=['bank_id', 'transaction_type_chain', 'transaction_cost', 'transaction_value']).agg({'count': 'sum'}).reset_index()\n",
    "    dg_total[i] = dg_total[i].groupby(by=['bank_id']).agg({\n",
    "        'count' : 'sum',\n",
    "        'transaction_cost' : 'sum',\n",
    "        'transaction_value' : 'sum'\n",
    "    }).reset_index()\n",
    "    dg_total[i]['total_value'] = dg_total[i]['transaction_cost'] + dg_total[i]['transaction_value']\n",
    "    dg_total[i] = dg_total[i].drop(['transaction_cost', 'transaction_value'], axis='columns')\n",
    "    your_bank_id = 13335\n",
    "    result[i] = dg_total[i][dg_total[i]['bank_id'] == your_bank_id].sort_values('total_value', ascending=False)\n",
    "dg = pd.concat([result[0], result[1], result[2], result[3]])\n",
    "dg.index = ['c', 'm', 'p', 's']\n",
    "dg"
   ]
  }
 ],
 "metadata": {
  "kernelspec": {
   "display_name": "Python 3 (ipykernel)",
   "language": "python",
   "name": "python3"
  },
  "language_info": {
   "codemirror_mode": {
    "name": "ipython",
    "version": 3
   },
   "file_extension": ".py",
   "mimetype": "text/x-python",
   "name": "python",
   "nbconvert_exporter": "python",
   "pygments_lexer": "ipython3",
   "version": "3.8.10"
  }
 },
 "nbformat": 4,
 "nbformat_minor": 5
}
